{
 "cells": [
  {
   "cell_type": "code",
   "execution_count": 1,
   "metadata": {},
   "outputs": [],
   "source": [
    "# from urllib.request import urlopen, Request\n",
    "import requests\n",
    "from bs4 import BeautifulSoup"
   ]
  },
  {
   "cell_type": "code",
   "execution_count": 73,
   "metadata": {},
   "outputs": [],
   "source": [
    "import pandas as pd"
   ]
  },
  {
   "cell_type": "code",
   "execution_count": 136,
   "metadata": {},
   "outputs": [],
   "source": [
    "from transliterate import translit"
   ]
  },
  {
   "cell_type": "code",
   "execution_count": 139,
   "metadata": {},
   "outputs": [],
   "source": [
    "from time import sleep"
   ]
  },
  {
   "cell_type": "markdown",
   "metadata": {},
   "source": [
    "### Avito"
   ]
  },
  {
   "cell_type": "code",
   "execution_count": 2,
   "metadata": {},
   "outputs": [],
   "source": [
    "# Что первично можно выцепить на сайте:\n",
    "# Город, тип дома, кол-во комнат"
   ]
  },
  {
   "cell_type": "code",
   "execution_count": 138,
   "metadata": {},
   "outputs": [],
   "source": [
    "base_url = 'https://www.avito.ru/'"
   ]
  },
  {
   "cell_type": "code",
   "execution_count": 213,
   "metadata": {},
   "outputs": [],
   "source": [
    "def get_similar_flats(city, street, n_rooms, house_type):\n",
    "    base_url = 'https://www.avito.ru/'\n",
    "    city =  (translit(city, reversed=True)).lower()\n",
    "    rooms = {\n",
    "        1: '1-komnatnye',\n",
    "        2: '2-komnatnye',\n",
    "        3: '3-komnatnye',\n",
    "        4: '4-komnatnye'\n",
    "    }   \n",
    "    house_types = {\n",
    "        'Кирпичный': 'kirpichnyy_dom',\n",
    "        'Панельный': 'panelnyy_dom',\n",
    "        'Блочный': 'blochnyy_dom',\n",
    "        'Монолитный': 'monolitnyy_dom',\n",
    "        'Деревянный': 'derevyannyy_dom'\n",
    "    }   \n",
    "    search = base_url + city + '/kvartiry/prodam/' + rooms[n_rooms] + '/' + house_types[house_type] + '?q=' + '+'.join(street.split()) + '&s=104'\n",
    "    print(search)\n",
    "    html_doc =  requests.get(search)\n",
    "    # Проверка на корректность запроса\n",
    "    if html_doc.status_code != 200:\n",
    "        print(html_doc.text)\n",
    "          #time.sleep(int(response.headers[\"Retry-After\"]))\n",
    "    # Первая страница поиска Авито\n",
    "    soup = BeautifulSoup(html_doc.text, \"html.parser\")\n",
    "    # Нахожу все подходящие (не рекомендации) квартиры на этой странице\n",
    "    flats = soup.find('div', class_ = 'items-items-kAJAg')  # получаю список квартир вместе с рекламой и рекомендациями\n",
    "    flats_act = flats.find_all(attrs={\"data-marker\": \"item\"})  # баблы страничек как массив\n",
    "\n",
    "    # Получаю сайт с каждой квартирой отдельно\n",
    "    flats_sites = []\n",
    "    for flat in flats_act:\n",
    "        flats_sites.append('https://www.avito.ru' + flat.find(attrs={\"class\":\"iva-item-sliderLink-bJ9Pv\"})['href'])\n",
    "\n",
    "    flat_one_info = {\n",
    "                    'floor':None,\n",
    "                    'all_floors':None,\n",
    "                    'rooms':None,\n",
    "                    'all_square':None,\n",
    "                    'live_square':None,\n",
    "                    'kitch_square':None,\n",
    "                    'tall':None,\n",
    "                    'repair':None,\n",
    "                    'bathroom':None,\n",
    "                    'balcony':None,\n",
    "                    'window':None,\n",
    "                    'dop_info':None,\n",
    "                    'house_type':None,\n",
    "                    'year_built':None,\n",
    "                    'how_pas_lift':None,\n",
    "                    'how_grz_lift':None,\n",
    "                    'in_house':None,\n",
    "                    'backyard':None,\n",
    "                    'park':None\n",
    "                    }\n",
    "    df = pd.DataFrame(flat_one_info, index = [0])\n",
    "\n",
    "    for flat in flats_sites:\n",
    "        flat_i = BeautifulSoup(requests.get(flat).text, \"html.parser\")\n",
    "        sleep(2.5)\n",
    "        print(flat_i)\n",
    "        flat_one_info = {\n",
    "                        'floor':None,\n",
    "                        'all_floors':None,\n",
    "                        'rooms':None,\n",
    "                        'all_square':None,\n",
    "                        'live_square':None,\n",
    "                        'kitch_square':None,\n",
    "                        'tall':None,\n",
    "                        'repair':None,\n",
    "                        'bathroom':None,\n",
    "                        'balcony':None,\n",
    "                        'window':None,\n",
    "                        'dop_info':None,\n",
    "                        'house_type':None,\n",
    "                        'year_built':None,\n",
    "                        'how_pas_lift':None,\n",
    "                        'how_grz_lift':None,\n",
    "                        'in_house':None,\n",
    "                        'backyard':None,\n",
    "                        'park':None,\n",
    "                        'price':None\n",
    "                        }\n",
    "\n",
    "        for text in flat_i.find_all('li', class_ = 'item-params-list-item'):\n",
    "            label = text.text[:text.text.find(':')].split()[0]\n",
    "            value = text.text[text.text.find(':') + 1:].split()\n",
    "            if label == 'Этаж':\n",
    "                flat_one_info['floor'] = value[0]\n",
    "                flat_one_info['all_floors'] = value[2]\n",
    "            elif label == 'Количество':\n",
    "                flat_one_info['rooms'] = value[0]\n",
    "            elif label == 'Общая':\n",
    "                flat_one_info['all_square'] = value[0]\n",
    "            elif label == 'Площадь':\n",
    "                flat_one_info['live_square'] = value[0]\n",
    "            elif label == 'Жилая':\n",
    "                flat_one_info['kitchen_square'] = value[0]\n",
    "            elif label == 'Высота':\n",
    "                flat_one_info['tall'] = value[0]   \n",
    "            elif label == 'Ремонт':\n",
    "                flat_one_info['repair'] = value[0]\n",
    "            elif label == 'Санузел':\n",
    "                flat_one_info['bathroom'] = value[0]\n",
    "            elif label == 'Балкон':\n",
    "                flat_one_info['balcony'] = value[0]\n",
    "            elif label == 'Вид':\n",
    "                flat_one_info['window'] = ' '.join(value)\n",
    "            elif label == 'Дополнительно':\n",
    "                flat_one_info['dop_info'] = ' '.join(value)\n",
    "            elif label == 'Тип':\n",
    "                flat_one_info['house_type'] = value[0]\n",
    "            elif label == 'Год':\n",
    "                flat_one_info['year_built'] = value[0]\n",
    "            elif label == 'Пассажирский':\n",
    "                flat_one_info['how_pas_lift'] = value[0]\n",
    "            elif label == 'Грузовой':\n",
    "                flat_one_info['how_grz_lift'] = value[0]\n",
    "            elif label == 'В':\n",
    "                flat_one_info['in_house'] = ' '.join(value)\n",
    "            elif label == 'Двор':\n",
    "                flat_one_info['backyard'] = ' '.join(value)\n",
    "            elif label == 'Парковка':\n",
    "                flat_one_info['park'] = ' '.join(value) \n",
    "            flat_one_info['price'] = int(flat_i.find('span', class_ = 'js-item-price')['content'])\n",
    "        df = df.append(flat_one_info, ignore_index=True)\n",
    "\n",
    "    df.drop(index = 0,inplace=True)\n",
    "    return df\n",
    "# else:\n",
    "#     print('Ошибка при поключении к сайту!')\n",
    "#     print(html_doc)\n",
    "#    return 0"
   ]
  },
  {
   "cell_type": "code",
   "execution_count": 214,
   "metadata": {},
   "outputs": [
    {
     "name": "stdout",
     "output_type": "stream",
     "text": [
      "https://www.avito.ru/moskva/kvartiry/prodam/2-komnatnye/panelnyy_dom?q=Салтыковская&s=104\n",
      "<!DOCTYPE html> <html> <head>\n",
      "    <script nonce=\"V9F5/8cPJmnOHKoL0nT+tQ==\">\n",
      " window.dataLayer = [{\"userAuth\":0,\"pageType\":\"Other\"}];\n",
      " (function(w, d, s, l, i) {\n",
      " w[l] = w[l] || [];\n",
      " w[l].push({\n",
      " 'gtm.start': new Date().getTime(),\n",
      " event: 'gtm.js'\n",
      " });\n",
      " var f = d.getElementsByTagName(s)[0],\n",
      " j = d.createElement(s),\n",
      " dl = l != 'dataLayer' ? '&l=' + l : '';\n",
      " j.async = true;\n",
      " j.src = '//www.googletagmanager.com/gtm.js?id=' + i + dl;\n",
      " var n=d.querySelector('[nonce]');\n",
      " n&&j.setAttribute('nonce',n.nonce||n.getAttribute('nonce'));\n",
      " f.parentNode.insertBefore(j, f);\n",
      " })(window, document, 'script', 'dataLayer', 'GTM-KP9Q9H');\n",
      " </script>\n",
      "  \n",
      " <meta charset=\"UTF-8\"> <title>Доступ временно заблокирован</title>\n",
      "   <link rel=\"stylesheet\" href=\"https://static.avito.ru/s/cc/styles/d1b637144138574acbdc.css\">\n",
      "<script nonce=\"V9F5/8cPJmnOHKoL0nT+tQ==\" src=\"https://static.avito.ru/s/cc/bundles/fa76eeebb40d9d9c38fc.js\" ></script>\n",
      "  <link rel=\"stylesheet\" href=\"https://static.avito.ru/s/cc/styles/903ac830531c5c7d7e46.css\">\n",
      "<script nonce=\"V9F5/8cPJmnOHKoL0nT+tQ==\" src=\"https://static.avito.ru/s/cc/bundles/571fa0a8d098363866f2.js\" ></script>\n",
      "</head> <body>\n",
      "    <noscript> <iframe src=//www.googletagmanager.com/ns.html?id=GTM-KP9Q9H height=\"0\" width=\"0\" style=\"display:none;visibility:hidden\"></iframe> </noscript>\n",
      "  <div class=\"layout\">\n",
      " \n",
      " <div class=\"firewall-container\"> <div class=\"firewall-icon\">\n",
      "   <svg xmlns=\"http://www.w3.org/2000/svg\" width=\"62\" height=\"62\"><g fill=\"none\" fill-rule=\"evenodd\"><circle cx=\"31\" cy=\"31\" r=\"31\" fill=\"#FF6163\"/><g stroke=\"#FFF\" stroke-width=\"2\"><path d=\"M19.71 20.417l22.627 22.627M42.188 20.118L19.56 42.746\"/></g></g></svg> </div> <h2 class=\"firewall-title\">Доступ с Вашего IP временно ограничен</h2> <p class=\"text\">\n",
      " Мы обнаружили, что запросы, поступающие с вашего IP-адреса, похожи на автоматические.\n",
      " Мы были вынуждены временно заблокировать доступ к сайту.\n",
      " </p> <p class=\"text\">\n",
      " Чтобы продолжить пользоваться сайтом, пожалуйста, введите символы с картинки в поле ввода и нажмите &laquo;Отправить&raquo;.\n",
      " </p> <form class=\"form js-submit js-firewall-form\" action=\"\" method=\"post\" name=\"firewall\" autocomplete=\"off\">\n",
      "  <div class=\"h-captcha\" data-sitekey=\"070db171-ddb9-4c93-b7f6-d25d3c9d7e28\" data-callback=\"sethCaptchaResponse\"></div>\n",
      "  <textarea id=\"h-captcha-response\" name=\"e-captcha-response\" style=\"display: none;\"></textarea> <script nonce=\"V9F5/8cPJmnOHKoL0nT+tQ==\">\n",
      " function sethCaptchaResponse(response) {\n",
      " document.getElementById(\"h-captcha-response\").value = response;\n",
      " }\n",
      " </script> <script nonce=\"V9F5/8cPJmnOHKoL0nT+tQ==\" src=\"https://hcaptcha.com/1/api.js?hl=ru&recaptchacompat=off\" async defer></script>\n",
      "  <div class='form-action'> <button class=\"button button-origin\" type=\"submit\" name=\"submit\">Отправить</button> </div> </form> <p class=\"text firewall-p-bold\">\n",
      " Если у вас возникли проблемы или вы хотите задать вопрос службе поддержки, пожалуйста,\n",
      " <a href=\"https://support.avito.ru/sections/200009688\">напишите нам</a>.\n",
      " </p> </div>\n",
      " </div>\n",
      "   <script nonce=\"V9F5/8cPJmnOHKoL0nT+tQ==\" src=\"https://static.avito.ru/s/cc/chunks/vendors~3aed0e1873f8a9e1501f0b0b51f4c086~91ac0639b450d3cf68aad1b462aa0300~96d322aa0de504f4cdc0ae9171~dbd13c97.3b0daecbf0283f104a9c.js\" ></script>\n",
      "<script nonce=\"V9F5/8cPJmnOHKoL0nT+tQ==\" src=\"https://static.avito.ru/s/cc/chunks/default~d446c9efe1935fbf69cc24bbe2635c3b~df485e34331ffe15da321cbe18cad04a.9ebb3cf090b9b6a30feb.js\" ></script>\n",
      "<script nonce=\"V9F5/8cPJmnOHKoL0nT+tQ==\" src=\"https://static.avito.ru/s/cc/bundles/c4827c2a5387be78198e.js\" ></script>\n",
      "</body> </html>\n",
      "\n",
      "\n"
     ]
    },
    {
     "ename": "AttributeError",
     "evalue": "'NoneType' object has no attribute 'find_all'",
     "output_type": "error",
     "traceback": [
      "\u001b[1;31m---------------------------------------------------------------------------\u001b[0m",
      "\u001b[1;31mAttributeError\u001b[0m                            Traceback (most recent call last)",
      "\u001b[1;32m<ipython-input-214-015b84cee6aa>\u001b[0m in \u001b[0;36m<module>\u001b[1;34m\u001b[0m\n\u001b[1;32m----> 1\u001b[1;33m \u001b[0mres\u001b[0m \u001b[1;33m=\u001b[0m \u001b[0mget_similar_flats\u001b[0m\u001b[1;33m(\u001b[0m\u001b[1;34m'Москва'\u001b[0m\u001b[1;33m,\u001b[0m \u001b[1;34m'Салтыковская'\u001b[0m\u001b[1;33m,\u001b[0m \u001b[1;36m2\u001b[0m\u001b[1;33m,\u001b[0m \u001b[1;34m'Панельный'\u001b[0m\u001b[1;33m)\u001b[0m\u001b[1;33m\u001b[0m\u001b[1;33m\u001b[0m\u001b[0m\n\u001b[0m",
      "\u001b[1;32m<ipython-input-213-2f2b53d24f62>\u001b[0m in \u001b[0;36mget_similar_flats\u001b[1;34m(city, street, n_rooms, house_type)\u001b[0m\n\u001b[0;32m     26\u001b[0m     \u001b[1;31m# Нахожу все подходящие (не рекомендации) квартиры на этой странице\u001b[0m\u001b[1;33m\u001b[0m\u001b[1;33m\u001b[0m\u001b[1;33m\u001b[0m\u001b[0m\n\u001b[0;32m     27\u001b[0m     \u001b[0mflats\u001b[0m \u001b[1;33m=\u001b[0m \u001b[0msoup\u001b[0m\u001b[1;33m.\u001b[0m\u001b[0mfind\u001b[0m\u001b[1;33m(\u001b[0m\u001b[1;34m'div'\u001b[0m\u001b[1;33m,\u001b[0m \u001b[0mclass_\u001b[0m \u001b[1;33m=\u001b[0m \u001b[1;34m'items-items-kAJAg'\u001b[0m\u001b[1;33m)\u001b[0m  \u001b[1;31m# получаю список квартир вместе с рекламой и рекомендациями\u001b[0m\u001b[1;33m\u001b[0m\u001b[1;33m\u001b[0m\u001b[0m\n\u001b[1;32m---> 28\u001b[1;33m     \u001b[0mflats_act\u001b[0m \u001b[1;33m=\u001b[0m \u001b[0mflats\u001b[0m\u001b[1;33m.\u001b[0m\u001b[0mfind_all\u001b[0m\u001b[1;33m(\u001b[0m\u001b[0mattrs\u001b[0m\u001b[1;33m=\u001b[0m\u001b[1;33m{\u001b[0m\u001b[1;34m\"data-marker\"\u001b[0m\u001b[1;33m:\u001b[0m \u001b[1;34m\"item\"\u001b[0m\u001b[1;33m}\u001b[0m\u001b[1;33m)\u001b[0m  \u001b[1;31m# баблы страничек как массив\u001b[0m\u001b[1;33m\u001b[0m\u001b[1;33m\u001b[0m\u001b[0m\n\u001b[0m\u001b[0;32m     29\u001b[0m \u001b[1;33m\u001b[0m\u001b[0m\n\u001b[0;32m     30\u001b[0m     \u001b[1;31m# Получаю сайт с каждой квартирой отдельно\u001b[0m\u001b[1;33m\u001b[0m\u001b[1;33m\u001b[0m\u001b[1;33m\u001b[0m\u001b[0m\n",
      "\u001b[1;31mAttributeError\u001b[0m: 'NoneType' object has no attribute 'find_all'"
     ]
    }
   ],
   "source": [
    "res = get_similar_flats('Москва', 'Салтыковская', 2, 'Панельный')"
   ]
  },
  {
   "cell_type": "code",
   "execution_count": 187,
   "metadata": {},
   "outputs": [
    {
     "data": {
      "text/plain": [
       "0"
      ]
     },
     "execution_count": 187,
     "metadata": {},
     "output_type": "execute_result"
    }
   ],
   "source": [
    "res"
   ]
  },
  {
   "cell_type": "code",
   "execution_count": null,
   "metadata": {},
   "outputs": [],
   "source": []
  },
  {
   "cell_type": "code",
   "execution_count": 119,
   "metadata": {},
   "outputs": [],
   "source": [
    "region_name = {\n",
    "    'Гатчина':  'gatchina',\n",
    "    'Петрозаводск' : 'petrozavodsk',\n",
    "    'Омск' : 'omsk',\n",
    "}"
   ]
  },
  {
   "cell_type": "code",
   "execution_count": 5,
   "metadata": {},
   "outputs": [],
   "source": []
  },
  {
   "cell_type": "code",
   "execution_count": 6,
   "metadata": {},
   "outputs": [],
   "source": [
    "house_type = {\n",
    "    'Кирпичный': 'kirpichnyy_dom',\n",
    "    'Панельный': 'panelnyy_dom',\n",
    "    'Блочный': 'blochnyy_dom',\n",
    "    'Монолитный': 'monolitnyy_dom',\n",
    "    'Деревянный': 'derevyannyy_dom'\n",
    "}"
   ]
  },
  {
   "cell_type": "code",
   "execution_count": 121,
   "metadata": {},
   "outputs": [],
   "source": [
    "street = 'солнечный пер'"
   ]
  },
  {
   "cell_type": "code",
   "execution_count": 122,
   "metadata": {},
   "outputs": [
    {
     "data": {
      "text/plain": [
       "'https://www.avito.ru/gatchina/kvartiry/prodam/1-komnatnye/panelnyy_dom?q=солнечный+пер&s=104'"
      ]
     },
     "execution_count": 122,
     "metadata": {},
     "output_type": "execute_result"
    }
   ],
   "source": [
    "# Идёт учёт местоположения (до улицы), кол-ва комнат\n",
    "base_url + region_name['Гатчина'] + '/kvartiry/prodam/' + rooms[1] + '/' + house_type['Панельный'] + '?q=' + '+'.join(street.split()) + '&s=104'"
   ]
  },
  {
   "cell_type": "code",
   "execution_count": 157,
   "metadata": {},
   "outputs": [],
   "source": [
    "html_doc =  requests.get('https://www.avito.ru/kirovskaya_oblast_kirov/kvartiry/2-k._kvartira_429m_45et._2233086716')"
   ]
  },
  {
   "cell_type": "code",
   "execution_count": 172,
   "metadata": {},
   "outputs": [
    {
     "data": {
      "text/plain": [
       "True"
      ]
     },
     "execution_count": 172,
     "metadata": {},
     "output_type": "execute_result"
    }
   ],
   "source": [
    "str(html_doc) == '<Response [200]>'"
   ]
  },
  {
   "cell_type": "code",
   "execution_count": 159,
   "metadata": {},
   "outputs": [],
   "source": [
    "# Первая страница поиска Авито\n",
    "soup = BeautifulSoup(html_doc.text, \"html.parser\")"
   ]
  },
  {
   "cell_type": "code",
   "execution_count": 165,
   "metadata": {},
   "outputs": [
    {
     "data": {
      "text/plain": [
       "1780000"
      ]
     },
     "execution_count": 165,
     "metadata": {},
     "output_type": "execute_result"
    }
   ],
   "source": [
    "int(soup.find('span', class_ = 'js-item-price')['content'])"
   ]
  },
  {
   "cell_type": "code",
   "execution_count": null,
   "metadata": {},
   "outputs": [],
   "source": []
  },
  {
   "cell_type": "code",
   "execution_count": 154,
   "metadata": {},
   "outputs": [],
   "source": [
    "# Нахожу все подходящие (не рекомендации) квартиры на этой странице\n",
    "flats = soup.find('div', class_ = 'items-items-kAJAg')  # получаю список квартир вместе с рекламой и рекомендациями\n",
    "flats_act = flats.find_all(attrs={\"data-marker\": \"item\"})  # баблы страничек как массив"
   ]
  },
  {
   "cell_type": "code",
   "execution_count": 155,
   "metadata": {},
   "outputs": [],
   "source": [
    "# Получаю сайт с каждой квартирой отдельно\n",
    "flats_sites = []\n",
    "for flat in flats_act:\n",
    "    flats_sites.append('https://www.avito.ru' + flat.find(attrs={\"class\":\"iva-item-sliderLink-bJ9Pv\"})['href'])"
   ]
  },
  {
   "cell_type": "code",
   "execution_count": 156,
   "metadata": {},
   "outputs": [
    {
     "data": {
      "text/plain": [
       "[]"
      ]
     },
     "execution_count": 156,
     "metadata": {},
     "output_type": "execute_result"
    }
   ],
   "source": [
    "flats_act"
   ]
  },
  {
   "cell_type": "code",
   "execution_count": 128,
   "metadata": {},
   "outputs": [],
   "source": [
    "flat_one_info = {\n",
    "                'floor':None,\n",
    "                'all_floors':None,\n",
    "                'rooms':None,\n",
    "                'all_square':None,\n",
    "                'live_square':None,\n",
    "                'kitch_square':None,\n",
    "                'tall':None,\n",
    "                'repair':None,\n",
    "                'bathroom':None,\n",
    "                'balcony':None,\n",
    "                'window':None,\n",
    "                'dop_info':None,\n",
    "                'house_type':None,\n",
    "                'year_built':None,\n",
    "                'how_pas_lift':None,\n",
    "                'how_grz_lift':None,\n",
    "                'in_house':None,\n",
    "                'backyard':None,\n",
    "                'park':None\n",
    "                }\n",
    "df = pd.DataFrame(flat_one_info, index = [0])"
   ]
  },
  {
   "cell_type": "code",
   "execution_count": 129,
   "metadata": {},
   "outputs": [],
   "source": [
    "for flat in flats_sites:\n",
    "    flat_i = BeautifulSoup(requests.get(flat).text, \"html.parser\")\n",
    "    \n",
    "    flat_one_info = {\n",
    "                    'floor':None,\n",
    "                    'all_floors':None,\n",
    "                    'rooms':None,\n",
    "                    'all_square':None,\n",
    "                    'live_square':None,\n",
    "                    'kitch_square':None,\n",
    "                    'tall':None,\n",
    "                    'repair':None,\n",
    "                    'bathroom':None,\n",
    "                    'balcony':None,\n",
    "                    'window':None,\n",
    "                    'dop_info':None,\n",
    "                    'house_type':None,\n",
    "                    'year_built':None,\n",
    "                    'how_pas_lift':None,\n",
    "                    'how_grz_lift':None,\n",
    "                    'in_house':None,\n",
    "                    'backyard':None,\n",
    "                    'park':None\n",
    "                    }\n",
    "\n",
    "    for text in flat_i.find_all('li', class_ = 'item-params-list-item'):\n",
    "        label = text.text[:text.text.find(':')].split()[0]\n",
    "        value = text.text[text.text.find(':') + 1:].split()\n",
    "        if label == 'Этаж':\n",
    "            flat_one_info['floor'] = value[0]\n",
    "            flat_one_info['all_floors'] = value[2]\n",
    "        elif label == 'Количество':\n",
    "            flat_one_info['rooms'] = value[0]\n",
    "        elif label == 'Общая':\n",
    "            flat_one_info['all_square'] = value[0]\n",
    "        elif label == 'Площадь':\n",
    "            flat_one_info['live_square'] = value[0]\n",
    "        elif label == 'Жилая':\n",
    "            flat_one_info['kitchen_square'] = value[0]\n",
    "        elif label == 'Высота':\n",
    "            flat_one_info['tall'] = value[0]   \n",
    "        elif label == 'Ремонт':\n",
    "            flat_one_info['repair'] = value[0]\n",
    "        elif label == 'Санузел':\n",
    "            flat_one_info['bathroom'] = value[0]\n",
    "        elif label == 'Балкон':\n",
    "            flat_one_info['balcony'] = value[0]\n",
    "        elif label == 'Вид':\n",
    "            flat_one_info['window'] = ' '.join(value)\n",
    "        elif label == 'Дополнительно':\n",
    "            flat_one_info['dop_info'] = ' '.join(value)\n",
    "        elif label == 'Тип':\n",
    "            flat_one_info['house_type'] = value[0]\n",
    "        elif label == 'Год':\n",
    "            flat_one_info['year_built'] = value[0]\n",
    "        elif label == 'Пассажирский':\n",
    "            flat_one_info['how_pas_lift'] = value[0]\n",
    "        elif label == 'Грузовой':\n",
    "            flat_one_info['how_grz_lift'] = value[0]\n",
    "        elif label == 'В':\n",
    "            flat_one_info['in_house'] = ' '.join(value)\n",
    "        elif label == 'Двор':\n",
    "            flat_one_info['backyard'] = ' '.join(value)\n",
    "        elif label == 'Парковка':\n",
    "            flat_one_info['park'] = ' '.join(value) \n",
    "        \n",
    "    df = df.append(flat_one_info, ignore_index=True)"
   ]
  },
  {
   "cell_type": "code",
   "execution_count": 130,
   "metadata": {},
   "outputs": [],
   "source": [
    "df.drop(index = 0,inplace=True)"
   ]
  },
  {
   "cell_type": "code",
   "execution_count": 105,
   "metadata": {},
   "outputs": [],
   "source": [
    "flat_one_info = {\n",
    "                'floor':None,\n",
    "                'all_floors':None,\n",
    "                'rooms':None,\n",
    "                'all_square':None,\n",
    "                'live_square':None,\n",
    "                'kitch_square':None,\n",
    "                'tall':None,\n",
    "                'repair':None,\n",
    "                'bathroom':None,\n",
    "                'balcony':None,\n",
    "                'window':None,\n",
    "                'dop_info':None,\n",
    "                'house_type':None,\n",
    "                'year_built':None,\n",
    "                'how_pas_lift':None,\n",
    "                'how_grz_lift':None,\n",
    "                'in_house':None,\n",
    "                'backyard':None,\n",
    "                'park':None\n",
    "                }\n",
    "\n",
    "for text in flat_one.find_all('li', class_ = 'item-params-list-item'):\n",
    "    label = text.text[:text.text.find(':')].split()[0]\n",
    "    value = text.text[text.text.find(':') + 1:].split()\n",
    "    if label == 'Этаж':\n",
    "        flat_one_info['floor'] = value[0]\n",
    "        flat_one_info['all_floors'] = value[2]\n",
    "    elif label == 'Количество':\n",
    "        flat_one_info['rooms'] = value[0]\n",
    "    elif label == 'Общая':\n",
    "        flat_one_info['all_square'] = value[0]\n",
    "    elif label == 'Площадь':\n",
    "        flat_one_info['live_square'] = value[0]\n",
    "    elif label == 'Жилая':\n",
    "        flat_one_info['kitchen_square'] = value[0]\n",
    "    elif label == 'Высота':\n",
    "        flat_one_info['tall'] = value[0]   \n",
    "    elif label == 'Ремонт':\n",
    "        flat_one_info['repair'] = value[0]\n",
    "    elif label == 'Санузел':\n",
    "        flat_one_info['bathroom'] = value[0]\n",
    "    elif label == 'Балкон':\n",
    "        flat_one_info['balcony'] = value[0]\n",
    "    elif label == 'Вид':\n",
    "        flat_one_info['window'] = ' '.join(value)\n",
    "    elif label == 'Дополнительно':\n",
    "        flat_one_info['dop_info'] = ' '.join(value)\n",
    "    elif label == 'Тип':\n",
    "        flat_one_info['house_type'] = value[0]\n",
    "    elif label == 'Год':\n",
    "        flat_one_info['year_built'] = value[0]\n",
    "    elif label == 'Пассажирский':\n",
    "        flat_one_info['how_pas_lift'] = value[0]\n",
    "    elif label == 'Грузовой':\n",
    "        flat_one_info['how_grz_lift'] = value[0]\n",
    "    elif label == 'В':\n",
    "        flat_one_info['in_house'] = ' '.join(value)\n",
    "    elif label == 'Двор':\n",
    "        flat_one_info['backyard'] = ' '.join(value)\n",
    "    elif label == 'Парковка':\n",
    "        flat_one_info['park'] = ' '.join(value)\n",
    "#    print(label)\n",
    "#    print(value)"
   ]
  },
  {
   "cell_type": "code",
   "execution_count": 102,
   "metadata": {},
   "outputs": [
    {
     "data": {
      "text/plain": [
       "[<li class=\"item-params-list-item\"> <span class=\"item-params-label\">Этаж: </span>1 из 5 </li>,\n",
       " <li class=\"item-params-list-item\"> <span class=\"item-params-label\">Количество комнат: </span>1 </li>,\n",
       " <li class=\"item-params-list-item\"> <span class=\"item-params-label\">Общая площадь: </span>42.1 м² </li>,\n",
       " <li class=\"item-params-list-item\"> <span class=\"item-params-label\">Площадь кухни: </span>10.1 м² </li>,\n",
       " <li class=\"item-params-list-item\"> <span class=\"item-params-label\">Жилая площадь: </span>17.3 м² </li>,\n",
       " <li class=\"item-params-list-item\"> <span class=\"item-params-label\">Высота потолков: </span>2.7 м </li>,\n",
       " <li class=\"item-params-list-item\"> <span class=\"item-params-label\">Ремонт: </span>косметический </li>,\n",
       " <li class=\"item-params-list-item\"> <span class=\"item-params-label\">Санузел: </span>раздельный </li>,\n",
       " <li class=\"item-params-list-item\"> <span class=\"item-params-label\">Балкон или лоджия: </span>лоджия </li>,\n",
       " <li class=\"item-params-list-item\"> <span class=\"item-params-label\">Вид из окон: </span>на улицу, во двор </li>,\n",
       " <li class=\"item-params-list-item\"> <span class=\"item-params-label\">Дополнительно: </span>мебель, бытовая техника, панорамные окна </li>,\n",
       " <li class=\"item-params-list-item\"> <span class=\"item-params-label\">Тип дома: </span>кирпичный </li>,\n",
       " <li class=\"item-params-list-item\"> <span class=\"item-params-label\">Год постройки: </span>1990 </li>,\n",
       " <li class=\"item-params-list-item\"> <span class=\"item-params-label\">Пассажирский лифт: </span>0 </li>,\n",
       " <li class=\"item-params-list-item\"> <span class=\"item-params-label\">Грузовой лифт: </span>0 </li>,\n",
       " <li class=\"item-params-list-item\"> <span class=\"item-params-label\">В доме: </span>газоснабжение </li>,\n",
       " <li class=\"item-params-list-item\"> <span class=\"item-params-label\">Двор: </span>детская площадка </li>,\n",
       " <li class=\"item-params-list-item\"> <span class=\"item-params-label\">Парковка: </span>открытая во дворе </li>]"
      ]
     },
     "execution_count": 102,
     "metadata": {},
     "output_type": "execute_result"
    }
   ],
   "source": [
    "flat_one.find_all('li', class_ = 'item-params-list-item')"
   ]
  },
  {
   "cell_type": "code",
   "execution_count": 101,
   "metadata": {},
   "outputs": [
    {
     "name": "stdout",
     "output_type": "stream",
     "text": [
      " Этаж: 1 из 5 \n",
      " Количество комнат: 1 \n",
      " Общая площадь: 42.1 м² \n",
      " Площадь кухни: 10.1 м² \n",
      " Жилая площадь: 17.3 м² \n",
      " Высота потолков: 2.7 м \n",
      " Ремонт: косметический \n",
      " Санузел: раздельный \n",
      " Балкон или лоджия: лоджия \n",
      " Вид из окон: на улицу, во двор \n",
      " Дополнительно: мебель, бытовая техника, панорамные окна \n",
      " Тип дома: кирпичный \n",
      " Год постройки: 1990 \n",
      " Пассажирский лифт: 0 \n",
      " Грузовой лифт: 0 \n",
      " В доме: газоснабжение \n",
      " Двор: детская площадка \n",
      " Парковка: открытая во дворе \n"
     ]
    }
   ],
   "source": [
    "flat_one_info = {}\n",
    "for text in flat_one.find_all('li', class_ = 'item-params-list-item'):\n",
    "#    print(text.text)\n",
    "    print(text.text)\n",
    "    label = text.text[:text.text.find(':')].split()[0]\n",
    "    value = text.text[text.text.find(':') + 1:].split()\n",
    "    \n",
    "#    print(label)\n",
    "    if label == 'Этаж':\n",
    "        flat_one_info[label] = value[0]\n",
    "        flat_one_info['all_floors'] = value[2]\n",
    "    elif label in ('Вид', 'Дополнительно', 'Двор', 'Парковка', 'В'):\n",
    "        flat_one_info[label] = ' '.join(value)\n",
    "    elif label == 'В':\n",
    "        flat_one_info['in_house'] = value[0]\n",
    "    else:\n",
    "        flat_one_info[label] = value[0]"
   ]
  },
  {
   "cell_type": "code",
   "execution_count": null,
   "metadata": {},
   "outputs": [],
   "source": []
  },
  {
   "cell_type": "code",
   "execution_count": 85,
   "metadata": {},
   "outputs": [],
   "source": [
    "df = pd.DataFrame(flat_one_info, index = [0])"
   ]
  },
  {
   "cell_type": "code",
   "execution_count": 86,
   "metadata": {},
   "outputs": [
    {
     "data": {
      "text/html": [
       "<div>\n",
       "<style scoped>\n",
       "    .dataframe tbody tr th:only-of-type {\n",
       "        vertical-align: middle;\n",
       "    }\n",
       "\n",
       "    .dataframe tbody tr th {\n",
       "        vertical-align: top;\n",
       "    }\n",
       "\n",
       "    .dataframe thead th {\n",
       "        text-align: right;\n",
       "    }\n",
       "</style>\n",
       "<table border=\"1\" class=\"dataframe\">\n",
       "  <thead>\n",
       "    <tr style=\"text-align: right;\">\n",
       "      <th></th>\n",
       "      <th>Этаж</th>\n",
       "      <th>all_floors</th>\n",
       "      <th>Количество</th>\n",
       "      <th>Общая</th>\n",
       "      <th>Площадь</th>\n",
       "      <th>Жилая</th>\n",
       "      <th>Высота</th>\n",
       "      <th>Ремонт</th>\n",
       "      <th>Санузел</th>\n",
       "      <th>Балкон</th>\n",
       "      <th>Вид</th>\n",
       "      <th>Дополнительно</th>\n",
       "      <th>Тип</th>\n",
       "      <th>Год</th>\n",
       "      <th>Пассажирский</th>\n",
       "      <th>Грузовой</th>\n",
       "      <th>В</th>\n",
       "      <th>Двор</th>\n",
       "      <th>Парковка</th>\n",
       "    </tr>\n",
       "  </thead>\n",
       "  <tbody>\n",
       "    <tr>\n",
       "      <th>0</th>\n",
       "      <td>1</td>\n",
       "      <td>5</td>\n",
       "      <td>1</td>\n",
       "      <td>42.1</td>\n",
       "      <td>10.1</td>\n",
       "      <td>17.3</td>\n",
       "      <td>2.7</td>\n",
       "      <td>косметический</td>\n",
       "      <td>раздельный</td>\n",
       "      <td>лоджия</td>\n",
       "      <td>на улицу, во двор</td>\n",
       "      <td>мебель, бытовая техника, панорамные окна</td>\n",
       "      <td>кирпичный</td>\n",
       "      <td>1990</td>\n",
       "      <td>0</td>\n",
       "      <td>0</td>\n",
       "      <td>газоснабжение</td>\n",
       "      <td>детская площадка</td>\n",
       "      <td>открытая во дворе</td>\n",
       "    </tr>\n",
       "  </tbody>\n",
       "</table>\n",
       "</div>"
      ],
      "text/plain": [
       "  Этаж all_floors Количество Общая Площадь Жилая Высота         Ремонт  \\\n",
       "0    1          5          1  42.1    10.1  17.3    2.7  косметический   \n",
       "\n",
       "      Санузел  Балкон                Вид  \\\n",
       "0  раздельный  лоджия  на улицу, во двор   \n",
       "\n",
       "                              Дополнительно        Тип   Год Пассажирский  \\\n",
       "0  мебель, бытовая техника, панорамные окна  кирпичный  1990            0   \n",
       "\n",
       "  Грузовой              В              Двор           Парковка  \n",
       "0        0  газоснабжение  детская площадка  открытая во дворе  "
      ]
     },
     "execution_count": 86,
     "metadata": {},
     "output_type": "execute_result"
    }
   ],
   "source": [
    "df"
   ]
  },
  {
   "cell_type": "code",
   "execution_count": null,
   "metadata": {},
   "outputs": [],
   "source": []
  },
  {
   "cell_type": "code",
   "execution_count": 125,
   "metadata": {},
   "outputs": [
    {
     "name": "stdout",
     "output_type": "stream",
     "text": [
      "<div class=\"items-ads-cA1GS\" elementtiming=\"bx.gallery.first-item\"><div class=\"styles-positionContext-_XkUo\"><div class=\"styles-avitoAdsContexContainer-lPBSB avito-ads-container_context_1 styles-avitoAdsContainer_withPlaceholder-YkKlN\"><div class=\"styles-avitoAdsTemplate-_HpwS\" id=\"template_context_1\"><div class=\"avito-ads-content\"></div></div></div><div class=\"styles-skeleton-_RUnA\"></div></div></div>\n",
      "<div class=\"iva-item-root-Nj_hb photo-slider-slider-_PvpN iva-item-list-H_dpX iva-item-redesign-nV4C4 iva-item-responsive-gIKjW items-item-My3ih items-listItem-Gd1jN js-catalog-item-enum\" data-item-id=\"2218320258\" data-marker=\"item\" id=\"i2218320258\" itemscope=\"\" itemtype=\"http://schema.org/Product\"><meta content=\"Срочная Продажа (после 20 октября цена вырастет) В связи с переездом в другой город! Мечтаете жить в центре Омска, при этом в тихом, спокойном месте. Тогда вы нашли то, что искали. Предлагаю уютную квартиру в хорошем состоянии, на полу ламинат, в кухне на \" itemprop=\"description\"/><div class=\"iva-item-content-UnQQ4\"><div class=\"iva-item-slider-GWoCM\"><a class=\"iva-item-sliderLink-bJ9Pv\" href=\"/omsk/kvartiry/1-k._kvartira_421m_15et._2218320258\" itemprop=\"url\" rel=\"noopener\" target=\"_blank\" title=\"Объявление «1-к. квартира, 42,1 м², 1/5 эт.» 14 фотографий\"><div class=\"photo-slider-root-w2CZ2 photo-slider-redesign-oqzmv\" data-marker=\"item-photo\"><div class=\"photo-slider-photoSlider-IpiW8 photo-slider-aspect-ratio-4-3-Jhpvf\"><ul class=\"photo-slider-list-xFf2c\"><li class=\"photo-slider-list-item-_fUPr\" data-marker=\"slider-image/image-https://99.img.avito.st/208x156/11573669299.jpg\"><div class=\"photo-slider-item-o_UGQ photo-slider-keepImageRatio-NrG6s\"><img alt=\"1-к. квартира, 42,1 м², 1/5 эт.\" class=\"photo-slider-image-_Dc4I\" importance=\"high\" itemprop=\"image\" sizes=\"\n",
      "                (min-width: 1334px) 236px,\n",
      "                208px\n",
      "            \" src=\"https://99.img.avito.st/208x156/11573669299.jpg\" srcset=\"https://99.img.avito.st/208x156/11573669299.jpg 208w,https://99.img.avito.st/image/1/br6Xs7a-wlf5EyJXx6YByHcQxFE3EsBdKcjDtyMQwFcjsME 236w,https://99.img.avito.st/image/1/br6Xs7a-wlfdFBxWx6YByHcQxFE3EsBdKezEiSIQwFcjsME 318w,https://99.img.avito.st/image/1/br6Xs7aDwlfhHVBfx6YByHcQxlEvFsBRNxLAXSnQzcUrEMBXI1Y 416w,https://99.img.avito.st/image/1/br6Xs7a-wleRFwRQx6YByHcQxFE3EsBdKaDHkSQQwFcjsME 472w,https://99.img.avito.st/image/1/br6Xs7a-wlfZGXhSx6YByHcQxFE3EsBdKejJ7SYQwFcjsME 636w\"/></div></li></ul></div></div></a></div><div class=\"iva-item-body-R_Q9c\"><div class=\"iva-item-favoritesStep-uJQ5h\"><span class=\"tooltip-tooltip-box-RsJbq\"><span class=\"tooltip-target-wrapper-mu94t\"><div class=\"favorites-root-bwLlI\" data-marker=\"favorites-add\" data-state=\"empty\" title=\"Добавить в избранное и в сравнение\"></div></span></span></div><div class=\"iva-item-titleStep-_CxvN\"><a class=\"link-link-MbQDP link-design-default-_nSbv title-root-j7cja iva-item-title-_qCwt title-listRedesign-XHq38 title-root_maxHeight-SXHes\" data-marker=\"item-title\" href=\"/omsk/kvartiry/1-k._kvartira_421m_15et._2218320258\" itemprop=\"url\" rel=\"noopener\" target=\"_blank\" title=\"1-к. квартира, 42,1 м², 1/5 эт. в Омске\"><h3 class=\"title-root-j7cja iva-item-title-_qCwt title-listRedesign-XHq38 title-root_maxHeight-SXHes text-text-LurtD text-size-s-BxGpL text-bold-SinUO\" itemprop=\"name\">1-к. квартира, 42,1 м², 1/5 эт.</h3></a></div><div class=\"iva-item-priceStep-QN8Kl\"><span class=\"price-root-_Uey3 price-listRedesign-UZ7CL\"><span class=\"price-price-BQkOZ\" data-marker=\"item-price\" itemprop=\"offers\" itemscope=\"\" itemtype=\"http://schema.org/Offer\"><meta content=\"RUB\" itemprop=\"priceCurrency\"/><meta content=\"3150000\" itemprop=\"price\"/><meta content=\"https://schema.org/LimitedAvailability\" itemprop=\"availability\"/><span class=\"price-text-E1Y7h text-text-LurtD text-size-s-BxGpL\">3 150 000<!-- --> <span class=\"price-currency-_B87m\">₽</span></span></span></span></div><div class=\"iva-item-developmentNameStep-n46gZ\" data-marker=\"item-address\"><div class=\"geo-root-H3eWU iva-item-geo-g3iIJ\"><span class=\"geo-address-QTv9k text-text-LurtD text-size-s-BxGpL\"><span>ул. Яковлева, 147</span></span><div class=\"geo-georeferences-Yd_m5 text-text-LurtD text-size-s-BxGpL\"><span>р-н Центральный</span></div></div></div><div class=\"iva-item-descriptionStep-QGE8Y\"><div class=\"iva-item-text-_s_vh iva-item-description-S2pXQ text-text-LurtD text-size-s-BxGpL\">Срочная Продажа (после 20 октября цена вырастет) В связи с переездом в другой город! Мечтаете жить в центре Омска, при этом в тихом, спокойном месте. Тогда вы нашли то, что искали. Предлагаю уютную квартиру в хорошем состоянии, на полу ламинат, в кухне на полу линолеум. Кухня — 10,1; комната — 17,3 (витражное окно). В коридоре размером 7,1 встроены два шкафа. Лоджия — 2,0. Санузел раздельный. Окно кухни выходят на восток, окно комнаты на запад. В подъезде есть огороженное металлическим листом место для хранения (например, входят 2-3 велосипеда). Квартира без обременений. Один собственник. Продаем в связи с переездом! \n",
      "Рядом рынок \"Центральный\", детский сад, гимназия № 85. В 10-ти минутах пешком ТЦ \"Омский\" и сквер \"Дзержинского\", Драмтеатр. В 20-25 минутах ходьбы набережная. \n",
      "Соседи хорошие. Автомобили во дворе паркуем. Уважаемые риэлторы, убедительная просьба, звоните в том случае, если есть реальный покупатель. </div></div><div class=\"iva-item-dateInfoStep-_dkz9\"><div class=\"date-root-QeIIB\"><span class=\"tooltip-tooltip-box-RsJbq\"><span class=\"tooltip-target-wrapper-mu94t\"><div class=\"date-text-VwmJG text-text-LurtD text-size-s-BxGpL text-color-noaccent-P1Rfs\" data-marker=\"item-date\">3 дня назад</div></span></span></div><div class=\"styles-redesign-NdDha iva-item-vas-em8Uy\"><div class=\"styles-arrow-WRjyV\"><i class=\"style-vas-icon-s1iyE style-vas-icon_type-promoted-rFsYs style-vas-icon_size-s-ertdB style-vas-icon_muted-vLehT\"></i></div></div></div></div><div class=\"iva-item-aside-c_vio\"><div class=\"iva-item-userInfoStep-giB_O\"><div class=\"styles-root-JMoCE text-text-LurtD text-size-s-BxGpL\"><a class=\"link-link-MbQDP link-design-inherited-Ys4mw link-novisited-UCnee\" data-marker=\"item-link\" href=\"/user/8a442844de583b6ded5cb82dfca1ebd2/profile\" rel=\"noopener\" target=\"_blank\" title=\"Любовь\">Любовь</a></div><span class=\"iva-item-text-_s_vh iva-item-textColor-gray44-Fq8XF text-text-LurtD text-size-s-BxGpL\">Частное лицо</span><span class=\"iva-item-text-_s_vh iva-item-textColor-gray44-Fq8XF text-text-LurtD text-size-s-BxGpL\">На Авито с августа 2020</span></div><div class=\"iva-item-actions-_9Pdy\"><div data-marker=\"messenger-button\"><div class=\"messenger-button-root-X8WGM messenger-button-root_fullwidth-AeoEu messenger-button-root_header-cMTcq\"><a class=\"button-button-CmK9a button-size-s-r9SeD button-default-_Uj_C width-width-12-_MkqF\" data-marker=\"messenger-button/link\" href=\"#login?next=%3Fwritein%3D2218320258&amp;authsrc=w\" target=\"_self\" width=\"12\"><div class=\"\">Написать</div></a></div></div><div class=\"iva-item-phone-CQOot\" data-marker=\"item-contact\"><button aria-busy=\"false\" class=\"iva-item-phoneButton-WzvKf button-button-CmK9a button-size-s-r9SeD button-default-_Uj_C\"><span class=\"button-textBox-_SF60\">Показать телефон</span></button></div></div></div></div></div>\n",
      "<div class=\"iva-item-root-Nj_hb photo-slider-slider-_PvpN iva-item-list-H_dpX iva-item-redesign-nV4C4 iva-item-responsive-gIKjW items-item-My3ih items-listItem-Gd1jN js-catalog-item-enum\" data-item-id=\"2230155294\" data-marker=\"item\" id=\"i2230155294\" itemscope=\"\" itemtype=\"http://schema.org/Product\"><meta content=\"Квартира с ремонтом. Без столба. Готова к проживанию. Сделан качественный, стильный ремонт. Узаконена планировка. Квартира без столба. Большая лоджия, 8 кв. м. (5,3/1,72), с двумя выходами из комнаты и кухни, остекление от пола до потолка. Солнечная сторон\" itemprop=\"description\"/><div class=\"iva-item-content-UnQQ4\"><div class=\"iva-item-slider-GWoCM\"><a class=\"iva-item-sliderLink-bJ9Pv\" href=\"/omsk/kvartiry/1-k._kvartira_412m_1016et._2230155294\" itemprop=\"url\" rel=\"noopener\" target=\"_blank\" title=\"Объявление «1-к. квартира, 41,2 м², 10/16 эт.» 22 фотографии\"><div class=\"photo-slider-root-w2CZ2 photo-slider-redesign-oqzmv\" data-marker=\"item-photo\"><div class=\"photo-slider-photoSlider-IpiW8 photo-slider-aspect-ratio-4-3-Jhpvf\"><ul class=\"photo-slider-list-xFf2c\"><li class=\"photo-slider-list-item-_fUPr\" data-marker=\"slider-image/image-https://70.img.avito.st/208x156/11970676070.jpg\"><div class=\"photo-slider-item-o_UGQ photo-slider-keepImageRatio-NrG6s\"><img alt=\"1-к. квартира, 41,2 м², 10/16 эт.\" class=\"photo-slider-image-_Dc4I\" importance=\"high\" itemprop=\"image\" sizes=\"\n",
      "                (min-width: 1334px) 236px,\n",
      "                208px\n",
      "            \" src=\"https://70.img.avito.st/208x156/11970676070.jpg\" srcset=\"https://70.img.avito.st/208x156/11970676070.jpg 208w,https://70.img.avito.st/image/1/u-4ZxLa-Fwd3ZPcHY_KFnfZnEQG5ZRUNp78W561nFQetxxQ 236w,https://70.img.avito.st/image/1/u-4ZxLa-FwdTY8kGY_KFnfZnEQG5ZRUNp5sR2axnFQetxxQ 318w,https://70.img.avito.st/image/1/u-4ZxLaDFwdvaoUPY_KFnfZnEwGhYRUBuWUVDaenGJWlZxUHrSE 416w,https://70.img.avito.st/image/1/u-4ZxLa-FwcfYNEAY_KFnfZnEQG5ZRUNp9cSwapnFQetxxQ 472w,https://70.img.avito.st/image/1/u-4ZxLa-FwdXbq0CY_KFnfZnEQG5ZRUNp58cvahnFQetxxQ 636w\"/></div></li></ul></div></div></a></div><div class=\"iva-item-body-R_Q9c\"><div class=\"iva-item-favoritesStep-uJQ5h\"><span class=\"tooltip-tooltip-box-RsJbq\"><span class=\"tooltip-target-wrapper-mu94t\"><div class=\"favorites-root-bwLlI\" data-marker=\"favorites-add\" data-state=\"empty\" title=\"Добавить в избранное и в сравнение\"></div></span></span></div><div class=\"iva-item-titleStep-_CxvN\"><a class=\"link-link-MbQDP link-design-default-_nSbv title-root-j7cja iva-item-title-_qCwt title-listRedesign-XHq38 title-root_maxHeight-SXHes\" data-marker=\"item-title\" href=\"/omsk/kvartiry/1-k._kvartira_412m_1016et._2230155294\" itemprop=\"url\" rel=\"noopener\" target=\"_blank\" title=\"1-к. квартира, 41,2 м², 10/16 эт. в Омске\"><h3 class=\"title-root-j7cja iva-item-title-_qCwt title-listRedesign-XHq38 title-root_maxHeight-SXHes text-text-LurtD text-size-s-BxGpL text-bold-SinUO\" itemprop=\"name\">1-к. квартира, 41,2 м², 10/16 эт.</h3></a></div><div class=\"iva-item-priceStep-QN8Kl\"><span class=\"price-root-_Uey3 price-listRedesign-UZ7CL\"><span class=\"price-price-BQkOZ\" data-marker=\"item-price\" itemprop=\"offers\" itemscope=\"\" itemtype=\"http://schema.org/Offer\"><meta content=\"RUB\" itemprop=\"priceCurrency\"/><meta content=\"4500000\" itemprop=\"price\"/><meta content=\"https://schema.org/LimitedAvailability\" itemprop=\"availability\"/><span class=\"price-text-E1Y7h text-text-LurtD text-size-s-BxGpL\">4 500 000<!-- --> <span class=\"price-currency-_B87m\">₽</span></span></span></span></div><div class=\"iva-item-badgeBarStep-rGgCo\"><div class=\"SnippetBadgeBar-root-B6Bj3\" data-marker=\"iva-item/badgeBar\"><div class=\"SnippetBadgeBar-skeleton-DfTIC\" style=\"margin-right:6px\">Онлайн-показ</div></div></div><div class=\"iva-item-developmentNameStep-n46gZ\" data-marker=\"item-address\"><div class=\"geo-root-H3eWU iva-item-geo-g3iIJ\"><span class=\"geo-address-QTv9k text-text-LurtD text-size-s-BxGpL\"><span>ул. 70 лет Октября, 3/1</span></span><div class=\"geo-georeferences-Yd_m5 text-text-LurtD text-size-s-BxGpL\"><span>р-н Кировский</span></div></div></div><div class=\"iva-item-descriptionStep-QGE8Y\"><div class=\"iva-item-text-_s_vh iva-item-description-S2pXQ text-text-LurtD text-size-s-BxGpL\">Квартира с ремонтом. Без столба. Готова к проживанию. Сделан качественный, стильный ремонт. Узаконена планировка. Квартира без столба. Большая лоджия, 8 кв. м. (5,3/1,72), с двумя выходами из комнаты и кухни, остекление от пола до потолка. Солнечная сторона. Отделена зона спальни, узаконена планировка. Окна выходят в сторону аэропорта. Квартира уютная, теплая. Два лифта, грузовой и пассажирский. Чистый подъезд, при входе колясочная, консьерж. Дом расположен в центре Левобережья. Отлично развитая инфраструктура. С остановки Поворотная легко уехать в любую часть города. На общественном транспорте до центра города 10-15 мин. Рядом множество магазинов, супермаркетов, социальных рынков, почта, поликлиника, аптеки, банки. Так же рядом расположен крупный спортивный клуб и другие социально значимые объекты для комфортного проживания. Чистая продажа. Один взрослый собственник лично будет присутствовать на сделке. Санузел облицован кафелем. На полу качественный ламинат. Установлено видеонаблюдение на доме. Автоматическая система хронос передает показания всех счетчиков в ресурсоснабжающие организации. Счетчики установлены на свет, воду, отопление. </div></div><div class=\"\" data-marker=\"item-line\"><span class=\"iva-item-text-_s_vh iva-item-textColor-gray44-Fq8XF iva-item-hideWide-oLeJu text-text-LurtD text-size-s-BxGpL\">Агентство</span></div><div class=\"iva-item-dateInfoStep-_dkz9\"><div class=\"date-root-QeIIB\"><span class=\"tooltip-tooltip-box-RsJbq\"><span class=\"tooltip-target-wrapper-mu94t\"><div class=\"date-text-VwmJG text-text-LurtD text-size-s-BxGpL text-color-noaccent-P1Rfs\" data-marker=\"item-date\">1 неделю назад</div></span></span></div></div></div><div class=\"iva-item-aside-c_vio\"><div class=\"iva-item-userInfoStep-giB_O\"><span class=\"iva-item-text-_s_vh iva-item-textColor-gray44-Fq8XF text-text-LurtD text-size-s-BxGpL\">Агентство</span><span class=\"iva-item-text-_s_vh iva-item-textColor-gray44-Fq8XF text-text-LurtD text-size-s-BxGpL\">На Авито с мая 2015</span></div><div class=\"iva-item-actions-_9Pdy\"><div class=\"iva-item-phone-CQOot\" data-marker=\"item-contact\"><button aria-busy=\"false\" class=\"iva-item-phoneButton-WzvKf button-button-CmK9a button-size-s-r9SeD button-default-_Uj_C\"><span class=\"button-textBox-_SF60\">Показать телефон</span></button></div></div></div></div></div>\n",
      "<div class=\"iva-item-root-Nj_hb photo-slider-slider-_PvpN iva-item-list-H_dpX iva-item-redesign-nV4C4 iva-item-responsive-gIKjW items-item-My3ih items-listItem-Gd1jN js-catalog-item-enum\" data-item-id=\"2216913432\" data-marker=\"item\" id=\"i2216913432\" itemscope=\"\" itemtype=\"http://schema.org/Product\"><meta content=\"Один собственник. Наружные стены (материал) кирпичные толщ. 2.5 кирпича.\n",
      "Электропроводка полностью заменена. Газоснабжение. \n",
      "Пол в зале бетонная стяжка, пол ванная в кухне, коридор бетонная стяжка с электрическим теплым полом. Имеется разводка под бойлер в\" itemprop=\"description\"/><div class=\"iva-item-content-UnQQ4\"><div class=\"iva-item-slider-GWoCM\"><a class=\"iva-item-sliderLink-bJ9Pv\" href=\"/omsk/kvartiry/1-k._kvartira_285m_35et._2216913432\" itemprop=\"url\" rel=\"noopener\" target=\"_blank\" title=\"Объявление «1-к. квартира, 28,5 м², 3/5 эт.» 20 фотографий\"><div class=\"photo-slider-root-w2CZ2 photo-slider-redesign-oqzmv\" data-marker=\"item-photo\"><div class=\"photo-slider-photoSlider-IpiW8 photo-slider-aspect-ratio-4-3-Jhpvf\"><ul class=\"photo-slider-list-xFf2c\"><li class=\"photo-slider-list-item-_fUPr\" data-marker=\"slider-image/image-https://49.img.avito.st/208x156/11944252749.jpg\"><div class=\"photo-slider-item-o_UGQ photo-slider-keepImageRatio-NrG6s\"><img alt=\"1-к. квартира, 28,5 м², 3/5 эт.\" class=\"photo-slider-image-_Dc4I\" importance=\"high\" itemprop=\"image\" sizes=\"\n",
      "                (min-width: 1334px) 236px,\n",
      "                208px\n",
      "            \" src=\"https://49.img.avito.st/208x156/11944252749.jpg\" srcset=\"https://49.img.avito.st/208x156/11944252749.jpg 208w,https://49.img.avito.st/image/1/kBG-Zra-PPjQxtz4khDIBFDFOv4exz7yAB09GArFPvgKZT8 236w,https://49.img.avito.st/image/1/kBG-Zra-PPj0weL5khDIBFDFOv4exz7yADk6JgvFPvgKZT8 318w,https://49.img.avito.st/image/1/kBG-ZraDPPjIyK7wkhDIBFDFOP4Gwz7-Hsc-8gAFM2oCxT74CoM 416w,https://49.img.avito.st/image/1/kBG-Zra-PPi4wvr_khDIBFDFOv4exz7yAHU5Pg3FPvgKZT8 472w,https://49.img.avito.st/image/1/kBG-Zra-PPjwzIb9khDIBFDFOv4exz7yAD03Qg_FPvgKZT8 636w\"/></div></li></ul></div></div></a></div><div class=\"iva-item-body-R_Q9c\"><div class=\"iva-item-favoritesStep-uJQ5h\"><span class=\"tooltip-tooltip-box-RsJbq\"><span class=\"tooltip-target-wrapper-mu94t\"><div class=\"favorites-root-bwLlI\" data-marker=\"favorites-add\" data-state=\"empty\" title=\"Добавить в избранное и в сравнение\"></div></span></span></div><div class=\"iva-item-titleStep-_CxvN\"><a class=\"link-link-MbQDP link-design-default-_nSbv title-root-j7cja iva-item-title-_qCwt title-listRedesign-XHq38 title-root_maxHeight-SXHes\" data-marker=\"item-title\" href=\"/omsk/kvartiry/1-k._kvartira_285m_35et._2216913432\" itemprop=\"url\" rel=\"noopener\" target=\"_blank\" title=\"1-к. квартира, 28,5 м², 3/5 эт. в Омске\"><h3 class=\"title-root-j7cja iva-item-title-_qCwt title-listRedesign-XHq38 title-root_maxHeight-SXHes text-text-LurtD text-size-s-BxGpL text-bold-SinUO\" itemprop=\"name\">1-к. квартира, 28,5 м², 3/5 эт.</h3></a></div><div class=\"iva-item-priceStep-QN8Kl\"><span class=\"price-root-_Uey3 price-listRedesign-UZ7CL\"><span class=\"price-price-BQkOZ\" data-marker=\"item-price\" itemprop=\"offers\" itemscope=\"\" itemtype=\"http://schema.org/Offer\"><meta content=\"RUB\" itemprop=\"priceCurrency\"/><meta content=\"2450000\" itemprop=\"price\"/><meta content=\"https://schema.org/LimitedAvailability\" itemprop=\"availability\"/><span class=\"price-text-E1Y7h text-text-LurtD text-size-s-BxGpL\">2 450 000<!-- --> <span class=\"price-currency-_B87m\">₽</span></span></span></span></div><div class=\"iva-item-badgeBarStep-rGgCo\"><div class=\"SnippetBadgeBar-root-B6Bj3\" data-marker=\"iva-item/badgeBar\"><div class=\"SnippetBadgeBar-skeleton-DfTIC\" style=\"margin-right:6px\">Онлайн-показ</div></div></div><div class=\"iva-item-developmentNameStep-n46gZ\" data-marker=\"item-address\"><div class=\"geo-root-H3eWU iva-item-geo-g3iIJ\"><span class=\"geo-address-QTv9k text-text-LurtD text-size-s-BxGpL\"><span>ул. 10 лет Октября, 187А</span></span><div class=\"geo-georeferences-Yd_m5 text-text-LurtD text-size-s-BxGpL\"><span>р-н Центральный</span></div></div></div><div class=\"iva-item-descriptionStep-QGE8Y\"><div class=\"iva-item-text-_s_vh iva-item-description-S2pXQ text-text-LurtD text-size-s-BxGpL\">Один собственник. Наружные стены (материал) кирпичные толщ. 2.5 кирпича.\n",
      "Электропроводка полностью заменена. Газоснабжение. \n",
      "Пол в зале бетонная стяжка, пол ванная в кухне, коридор бетонная стяжка с электрическим теплым полом. Имеется разводка под бойлер в ванной. Натяжные потолки. Кондиционер в зале. Биметаллические радиаторы. В зале уложен линолеум. В остальных комнатах плитка. \n",
      "Кухонный гарнитур, микроволновая печь, газовая плита (конфорки газ, духовой шкаф электрический) остаются по договоренности. \n",
      "Балкон застеклен, окна пластиковые, внутри отделка балкона пластиковые панели, пол керамическая плитка, проведён свет. \n",
      "В шаговой доступности два детских сада, школа, поликлиника, алея Иванишко, остановка 20 линия. Доброжелательные соседи. Тихий двор с детской площадкой. \n",
      "В 2021 г. в подъезде выполнен косметический ремонт. </div></div><div class=\"iva-item-dateInfoStep-_dkz9\"><div class=\"date-root-QeIIB\"><span class=\"tooltip-tooltip-box-RsJbq\"><span class=\"tooltip-target-wrapper-mu94t\"><div class=\"date-text-VwmJG text-text-LurtD text-size-s-BxGpL text-color-noaccent-P1Rfs\" data-marker=\"item-date\">1 неделю назад</div></span></span></div></div></div><div class=\"iva-item-aside-c_vio\"><div class=\"iva-item-userInfoStep-giB_O\"><div class=\"styles-root-JMoCE text-text-LurtD text-size-s-BxGpL\"><a class=\"link-link-MbQDP link-design-inherited-Ys4mw link-novisited-UCnee\" data-marker=\"item-link\" href=\"/user/eb5ef50fec3df9913d95a4c87b0f8bee/profile\" rel=\"noopener\" target=\"_blank\" title=\"Владимир Савиных\">Владимир Савиных</a></div><span class=\"iva-item-text-_s_vh iva-item-textColor-gray44-Fq8XF text-text-LurtD text-size-s-BxGpL\">Частное лицо</span><span class=\"iva-item-text-_s_vh iva-item-textColor-gray44-Fq8XF text-text-LurtD text-size-s-BxGpL\">На Авито с апреля 2019</span></div><div class=\"iva-item-actions-_9Pdy\"><div data-marker=\"messenger-button\"><div class=\"messenger-button-root-X8WGM messenger-button-root_fullwidth-AeoEu messenger-button-root_header-cMTcq\"><a class=\"button-button-CmK9a button-size-s-r9SeD button-default-_Uj_C width-width-12-_MkqF\" data-marker=\"messenger-button/link\" href=\"#login?next=%3Fwritein%3D2216913432&amp;authsrc=w\" target=\"_self\" width=\"12\"><div class=\"\">Написать</div></a></div></div><div class=\"iva-item-phone-CQOot\" data-marker=\"item-contact\"><button aria-busy=\"false\" class=\"iva-item-phoneButton-WzvKf button-button-CmK9a button-size-s-r9SeD button-default-_Uj_C\"><span class=\"button-textBox-_SF60\">Показать телефон</span></button></div></div></div></div></div>\n",
      "<div class=\"iva-item-root-Nj_hb photo-slider-slider-_PvpN iva-item-list-H_dpX iva-item-redesign-nV4C4 iva-item-responsive-gIKjW items-item-My3ih items-listItem-Gd1jN js-catalog-item-enum\" data-item-id=\"1400356726\" data-marker=\"item\" id=\"i1400356726\" itemscope=\"\" itemtype=\"http://schema.org/Product\"><meta content=\"Теплая, уютная с развитой инфраструктурой. Рядом школа, детский сады, магазины. В пяти минутах остановка 20 линия 10 лет октября. Окна Пвх, сан. узел совмещен. Квартира в отличном состояний заезжаи и живи. Отличные соседи. При продаже квартиры идёт железны\" itemprop=\"description\"/><div class=\"iva-item-content-UnQQ4\"><div class=\"iva-item-slider-GWoCM\"><a class=\"iva-item-sliderLink-bJ9Pv\" href=\"/omsk/kvartiry/1-k._kvartira_30m_12et._1400356726\" itemprop=\"url\" rel=\"noopener\" target=\"_blank\" title=\"Объявление «1-к. квартира, 30 м², 1/2 эт.» 6 фотографий\"><div class=\"photo-slider-root-w2CZ2 photo-slider-redesign-oqzmv\" data-marker=\"item-photo\"><div class=\"photo-slider-photoSlider-IpiW8 photo-slider-aspect-ratio-4-3-Jhpvf\"><ul class=\"photo-slider-list-xFf2c\"><li class=\"photo-slider-list-item-_fUPr\" data-marker=\"slider-image/image-https://15.img.avito.st/208x156/4293383115.jpg\"><div class=\"photo-slider-item-o_UGQ photo-slider-keepImageRatio-NrG6s\"><img alt=\"1-к. квартира, 30 м², 1/2 эт.\" class=\"photo-slider-image-_Dc4I\" itemprop=\"image\" sizes=\"\n",
      "                (min-width: 1334px) 236px,\n",
      "                208px\n",
      "            \" src=\"https://15.img.avito.st/208x156/4293383115.jpg\" srcset=\"https://15.img.avito.st/208x156/4293383115.jpg 208w,https://15.img.avito.st/image/1/FgWtvba-uuzDHVrsjdEGEAQevOoNHLjmE8a7DBkeuOwZvrk 236w,https://15.img.avito.st/image/1/FgWtvba-uuznGmTtjdEGEAQevOoNHLjmE-K8MhgeuOwZvrk 318w,https://15.img.avito.st/image/1/FgWtvbaDuuzbEyjkjdEGEAQevuoVGLjqDRy45hPetX4RHrjsGVg 416w,https://15.img.avito.st/image/1/FgWtvba-uuyrGXzrjdEGEAQevOoNHLjmE66_Kh4euOwZvrk 472w,https://15.img.avito.st/image/1/FgWtvba-uuzjFwDpjdEGEAQevOoNHLjmE-axVhweuOwZvrk 636w\"/></div></li></ul></div></div></a></div><div class=\"iva-item-body-R_Q9c\"><div class=\"iva-item-favoritesStep-uJQ5h\"><span class=\"tooltip-tooltip-box-RsJbq\"><span class=\"tooltip-target-wrapper-mu94t\"><div class=\"favorites-root-bwLlI\" data-marker=\"favorites-add\" data-state=\"empty\" title=\"Добавить в избранное и в сравнение\"></div></span></span></div><div class=\"iva-item-titleStep-_CxvN\"><a class=\"link-link-MbQDP link-design-default-_nSbv title-root-j7cja iva-item-title-_qCwt title-listRedesign-XHq38 title-root_maxHeight-SXHes\" data-marker=\"item-title\" href=\"/omsk/kvartiry/1-k._kvartira_30m_12et._1400356726\" itemprop=\"url\" rel=\"noopener\" target=\"_blank\" title=\"1-к. квартира, 30 м², 1/2 эт. в Омске\"><h3 class=\"title-root-j7cja iva-item-title-_qCwt title-listRedesign-XHq38 title-root_maxHeight-SXHes text-text-LurtD text-size-s-BxGpL text-bold-SinUO\" itemprop=\"name\">1-к. квартира, 30 м², 1/2 эт.</h3></a></div><div class=\"iva-item-priceStep-QN8Kl\"><span class=\"price-root-_Uey3 price-listRedesign-UZ7CL\"><span class=\"price-price-BQkOZ\" data-marker=\"item-price\" itemprop=\"offers\" itemscope=\"\" itemtype=\"http://schema.org/Offer\"><meta content=\"RUB\" itemprop=\"priceCurrency\"/><meta content=\"1600000\" itemprop=\"price\"/><meta content=\"https://schema.org/LimitedAvailability\" itemprop=\"availability\"/><span class=\"price-text-E1Y7h text-text-LurtD text-size-s-BxGpL\">1 600 000<!-- --> <span class=\"price-currency-_B87m\">₽</span></span></span></span></div><div class=\"iva-item-developmentNameStep-n46gZ\" data-marker=\"item-address\"><div class=\"geo-root-H3eWU iva-item-geo-g3iIJ\"><span class=\"geo-address-QTv9k text-text-LurtD text-size-s-BxGpL\"><span>ул. Красных Зорь, 145А</span></span><div class=\"geo-georeferences-Yd_m5 text-text-LurtD text-size-s-BxGpL\"><span>р-н Центральный</span></div></div></div><div class=\"iva-item-descriptionStep-QGE8Y\"><div class=\"iva-item-text-_s_vh iva-item-description-S2pXQ text-text-LurtD text-size-s-BxGpL\">Теплая, уютная с развитой инфраструктурой. Рядом школа, детский сады, магазины. В пяти минутах остановка 20 линия 10 лет октября. Окна Пвх, сан. узел совмещен. Квартира в отличном состояний заезжаи и живи. Отличные соседи. При продаже квартиры идёт железный гараж 3*6. Возможен обмен на частный дом с вашей доплатой. В квартире кабельное телевидение. Торг реальному покупателю. </div></div><div class=\"iva-item-dateInfoStep-_dkz9\"><div class=\"date-root-QeIIB\"><span class=\"tooltip-tooltip-box-RsJbq\"><span class=\"tooltip-target-wrapper-mu94t\"><div class=\"date-text-VwmJG text-text-LurtD text-size-s-BxGpL text-color-noaccent-P1Rfs\" data-marker=\"item-date\">1 неделю назад</div></span></span></div></div></div><div class=\"iva-item-aside-c_vio\"><div class=\"iva-item-userInfoStep-giB_O\"><div class=\"styles-root-JMoCE text-text-LurtD text-size-s-BxGpL\"><a class=\"link-link-MbQDP link-design-inherited-Ys4mw link-novisited-UCnee\" data-marker=\"item-link\" href=\"/user/e96559e14ce37655e7e9f33678c12c36/profile\" rel=\"noopener\" target=\"_blank\" title=\"Ольга Зоркальцева\">Ольга Зоркальцева</a></div><span class=\"iva-item-text-_s_vh iva-item-textColor-gray44-Fq8XF text-text-LurtD text-size-s-BxGpL\">Частное лицо</span><span class=\"iva-item-text-_s_vh iva-item-textColor-gray44-Fq8XF text-text-LurtD text-size-s-BxGpL\">На Авито с декабря 2016</span></div><div class=\"iva-item-actions-_9Pdy\"><div data-marker=\"messenger-button\"><div class=\"messenger-button-root-X8WGM messenger-button-root_fullwidth-AeoEu messenger-button-root_header-cMTcq\"><a class=\"button-button-CmK9a button-size-s-r9SeD button-default-_Uj_C width-width-12-_MkqF\" data-marker=\"messenger-button/link\" href=\"#login?next=%3Fwritein%3D1400356726&amp;authsrc=w\" target=\"_self\" width=\"12\"><div class=\"\">Написать</div></a></div></div><div class=\"iva-item-phone-CQOot\" data-marker=\"item-contact\"><button aria-busy=\"false\" class=\"iva-item-phoneButton-WzvKf button-button-CmK9a button-size-s-r9SeD button-default-_Uj_C\"><span class=\"button-textBox-_SF60\">Показать телефон</span></button></div></div></div></div></div>\n",
      "<div class=\"iva-item-root-Nj_hb photo-slider-slider-_PvpN iva-item-list-H_dpX iva-item-redesign-nV4C4 iva-item-responsive-gIKjW items-item-My3ih items-listItem-Gd1jN js-catalog-item-enum\" data-item-id=\"2231872702\" data-marker=\"item\" id=\"i2231872702\" itemscope=\"\" itemtype=\"http://schema.org/Product\"><meta content=\"Продаётся квартира, светлая и просторная, в замечательном доме, огорожена территория под камерами, ухоженный двор, в хорошем микрорайоне с развитой инфраструктурой, рядом детский сад, школа, много супермаркетов, каток тополиный и много другого, приходите с\" itemprop=\"description\"/><div class=\"iva-item-content-UnQQ4\"><div class=\"iva-item-slider-GWoCM\"><a class=\"iva-item-sliderLink-bJ9Pv\" href=\"/omsk/kvartiry/1-k._kvartira_45m_211et._2231872702\" itemprop=\"url\" rel=\"noopener\" target=\"_blank\" title=\"Объявление «1-к. квартира, 45 м², 2/11 эт.» 6 фотографий\"><div class=\"photo-slider-root-w2CZ2 photo-slider-redesign-oqzmv\" data-marker=\"item-photo\"><div class=\"photo-slider-photoSlider-IpiW8 photo-slider-aspect-ratio-4-3-Jhpvf\"><ul class=\"photo-slider-list-xFf2c\"><li class=\"photo-slider-list-item-_fUPr\" data-marker=\"slider-image/image-https://24.img.avito.st/208x156/11694438224.jpg\"><div class=\"photo-slider-item-o_UGQ photo-slider-keepImageRatio-NrG6s\"><img alt=\"1-к. квартира, 45 м², 2/11 эт.\" class=\"photo-slider-image-_Dc4I\" itemprop=\"image\" sizes=\"\n",
      "                (min-width: 1334px) 236px,\n",
      "                208px\n",
      "            \" src=\"https://24.img.avito.st/208x156/11694438224.jpg\" srcset=\"https://24.img.avito.st/208x156/11694438224.jpg 208w,https://24.img.avito.st/image/1/jXXkTLa-IZyK7MGc8jL0DgXvJ5pE7SOWWjcgfFDvI5xQTyI 236w,https://24.img.avito.st/image/1/jXXkTLa-IZyu6_-d8jL0DgXvJ5pE7SOWWhMnQlHvI5xQTyI 318w,https://24.img.avito.st/image/1/jXXkTLaDIZyS4rOU8jL0DgXvJZpc6SOaRO0jllovLg5Y7yOcUKk 416w,https://24.img.avito.st/image/1/jXXkTLa-IZzi6Oeb8jL0DgXvJ5pE7SOWWl8kWlfvI5xQTyI 472w,https://24.img.avito.st/image/1/jXXkTLa-IZyq5puZ8jL0DgXvJ5pE7SOWWhcqJlXvI5xQTyI 636w\"/></div></li></ul></div></div></a></div><div class=\"iva-item-body-R_Q9c\"><div class=\"iva-item-favoritesStep-uJQ5h\"><span class=\"tooltip-tooltip-box-RsJbq\"><span class=\"tooltip-target-wrapper-mu94t\"><div class=\"favorites-root-bwLlI\" data-marker=\"favorites-add\" data-state=\"empty\" title=\"Добавить в избранное и в сравнение\"></div></span></span></div><div class=\"iva-item-titleStep-_CxvN\"><a class=\"link-link-MbQDP link-design-default-_nSbv title-root-j7cja iva-item-title-_qCwt title-listRedesign-XHq38 title-root_maxHeight-SXHes\" data-marker=\"item-title\" href=\"/omsk/kvartiry/1-k._kvartira_45m_211et._2231872702\" itemprop=\"url\" rel=\"noopener\" target=\"_blank\" title=\"1-к. квартира, 45 м², 2/11 эт. в Омске\"><h3 class=\"title-root-j7cja iva-item-title-_qCwt title-listRedesign-XHq38 title-root_maxHeight-SXHes text-text-LurtD text-size-s-BxGpL text-bold-SinUO\" itemprop=\"name\">1-к. квартира, 45 м², 2/11 эт.</h3></a></div><div class=\"iva-item-priceStep-QN8Kl\"><span class=\"price-root-_Uey3 price-listRedesign-UZ7CL\"><span class=\"price-price-BQkOZ\" data-marker=\"item-price\" itemprop=\"offers\" itemscope=\"\" itemtype=\"http://schema.org/Offer\"><meta content=\"RUB\" itemprop=\"priceCurrency\"/><meta content=\"4000000\" itemprop=\"price\"/><meta content=\"https://schema.org/LimitedAvailability\" itemprop=\"availability\"/><span class=\"price-text-E1Y7h text-text-LurtD text-size-s-BxGpL\">4 000 000<!-- --> <span class=\"price-currency-_B87m\">₽</span></span></span></span></div><div class=\"iva-item-badgeBarStep-rGgCo\"><div class=\"SnippetBadgeBar-root-B6Bj3\" data-marker=\"iva-item/badgeBar\"><div class=\"SnippetBadgeBar-skeleton-DfTIC\" style=\"margin-right:6px\">Хорошая цена</div><div class=\"SnippetBadgeBar-skeleton-DfTIC\" style=\"margin-right:6px\">Онлайн-показ</div></div></div><div class=\"iva-item-developmentNameStep-n46gZ\" data-marker=\"item-address\"><div class=\"geo-root-H3eWU iva-item-geo-g3iIJ\"><span class=\"geo-address-QTv9k text-text-LurtD text-size-s-BxGpL\"><span>ул. 70 лет Октября, 10/3</span></span><div class=\"geo-georeferences-Yd_m5 text-text-LurtD text-size-s-BxGpL\"><span>р-н Кировский</span></div></div></div><div class=\"iva-item-descriptionStep-QGE8Y\"><div class=\"iva-item-text-_s_vh iva-item-description-S2pXQ text-text-LurtD text-size-s-BxGpL\">Продаётся квартира, светлая и просторная, в замечательном доме, огорожена территория под камерами, ухоженный двор, в хорошем микрорайоне с развитой инфраструктурой, рядом детский сад, школа, много супермаркетов, каток тополиный и много другого, приходите смотрите все покажем в любое время. Торг.\n",
      "Агентствам прошу не беспокоить! </div></div><div class=\"iva-item-dateInfoStep-_dkz9\"><div class=\"date-root-QeIIB\"><span class=\"tooltip-tooltip-box-RsJbq\"><span class=\"tooltip-target-wrapper-mu94t\"><div class=\"date-text-VwmJG text-text-LurtD text-size-s-BxGpL text-color-noaccent-P1Rfs\" data-marker=\"item-date\">3 недели назад</div></span></span></div></div></div><div class=\"iva-item-aside-c_vio\"><div class=\"iva-item-userInfoStep-giB_O\"><div class=\"styles-root-JMoCE text-text-LurtD text-size-s-BxGpL\"><a class=\"link-link-MbQDP link-design-inherited-Ys4mw link-novisited-UCnee\" data-marker=\"item-link\" href=\"/user/d39b57c62349a29097bffaf8da49d3d1/profile\" rel=\"noopener\" target=\"_blank\" title=\"Настя\">Настя</a></div><span class=\"iva-item-text-_s_vh iva-item-textColor-gray44-Fq8XF text-text-LurtD text-size-s-BxGpL\">Частное лицо</span><span class=\"iva-item-text-_s_vh iva-item-textColor-gray44-Fq8XF text-text-LurtD text-size-s-BxGpL\">На Авито с июля 2014</span></div><div class=\"iva-item-actions-_9Pdy\"><div data-marker=\"messenger-button\"><div class=\"messenger-button-root-X8WGM messenger-button-root_fullwidth-AeoEu messenger-button-root_header-cMTcq\"><a class=\"button-button-CmK9a button-size-s-r9SeD button-default-_Uj_C width-width-12-_MkqF\" data-marker=\"messenger-button/link\" href=\"#login?next=%3Fwritein%3D2231872702&amp;authsrc=w\" target=\"_self\" width=\"12\"><div class=\"\">Написать</div></a></div></div><div class=\"iva-item-phone-CQOot\" data-marker=\"item-contact\"><button aria-busy=\"false\" class=\"iva-item-phoneButton-WzvKf button-button-CmK9a button-size-s-r9SeD button-default-_Uj_C\"><span class=\"button-textBox-_SF60\">Показать телефон</span></button></div></div></div></div></div>\n",
      "<div class=\"items-ads-cA1GS\"><div class=\"styles-positionContext-_XkUo\"><div class=\"styles-avitoAdsContexContainer-lPBSB avito-ads-container_context_7 styles-avitoAdsContainer_withPlaceholder-YkKlN\"><div class=\"styles-avitoAdsTemplate-_HpwS\" id=\"template_context_7\"><div class=\"avito-ads-content\"></div></div></div><div class=\"styles-skeleton-_RUnA\"></div></div></div>\n",
      "<div class=\"iva-item-root-Nj_hb photo-slider-slider-_PvpN iva-item-list-H_dpX iva-item-redesign-nV4C4 iva-item-responsive-gIKjW items-item-My3ih items-listItem-Gd1jN js-catalog-item-enum\" data-item-id=\"2168371549\" data-marker=\"item\" id=\"i2168371549\" itemscope=\"\" itemtype=\"http://schema.org/Product\"><meta content=\"Новая, чистая, светлая просторная и очень тёплая 1-комнатная квартира по улице Звездова на 4этаже в 14-ти этажном кирпичном доме общей площадью 37кв. м. ( 40 кв. м. с лоджией) в новом доме. Дом постройки 2020 года. Удобная транспортная развязка, до центра \" itemprop=\"description\"/><div class=\"iva-item-content-UnQQ4\"><div class=\"iva-item-slider-GWoCM\"><a class=\"iva-item-sliderLink-bJ9Pv\" href=\"/omsk/kvartiry/1-k._kvartira_40m_414et._2168371549\" itemprop=\"url\" rel=\"noopener\" target=\"_blank\" title=\"Объявление «1-к. квартира, 40 м², 4/14 эт.» 14 фотографий\"><div class=\"photo-slider-root-w2CZ2 photo-slider-redesign-oqzmv\" data-marker=\"item-photo\"><div class=\"photo-slider-photoSlider-IpiW8 photo-slider-aspect-ratio-4-3-Jhpvf\"><ul class=\"photo-slider-list-xFf2c\"><li class=\"photo-slider-list-item-_fUPr\" data-marker=\"slider-image/image-https://77.img.avito.st/208x156/11151403877.jpg\"><div class=\"photo-slider-item-o_UGQ photo-slider-keepImageRatio-NrG6s\"><span class=\"photo-slider-image-_Dc4I\" style=\"display:inline-block\"></span></div></li></ul></div></div></a></div><div class=\"iva-item-body-R_Q9c\"><div class=\"iva-item-favoritesStep-uJQ5h\"><span class=\"tooltip-tooltip-box-RsJbq\"><span class=\"tooltip-target-wrapper-mu94t\"><div class=\"favorites-root-bwLlI\" data-marker=\"favorites-add\" data-state=\"empty\" title=\"Добавить в избранное и в сравнение\"></div></span></span></div><div class=\"iva-item-titleStep-_CxvN\"><a class=\"link-link-MbQDP link-design-default-_nSbv title-root-j7cja iva-item-title-_qCwt title-listRedesign-XHq38 title-root_maxHeight-SXHes\" data-marker=\"item-title\" href=\"/omsk/kvartiry/1-k._kvartira_40m_414et._2168371549\" itemprop=\"url\" rel=\"noopener\" target=\"_blank\" title=\"1-к. квартира, 40 м², 4/14 эт. в Омске\"><h3 class=\"title-root-j7cja iva-item-title-_qCwt title-listRedesign-XHq38 title-root_maxHeight-SXHes text-text-LurtD text-size-s-BxGpL text-bold-SinUO\" itemprop=\"name\">1-к. квартира, 40 м², 4/14 эт.</h3></a></div><div class=\"iva-item-priceStep-QN8Kl\"><span class=\"price-root-_Uey3 price-listRedesign-UZ7CL\"><span class=\"price-price-BQkOZ\" data-marker=\"item-price\" itemprop=\"offers\" itemscope=\"\" itemtype=\"http://schema.org/Offer\"><meta content=\"RUB\" itemprop=\"priceCurrency\"/><meta content=\"3900000\" itemprop=\"price\"/><meta content=\"https://schema.org/LimitedAvailability\" itemprop=\"availability\"/><span class=\"price-text-E1Y7h text-text-LurtD text-size-s-BxGpL\">3 900 000<!-- --> <span class=\"price-currency-_B87m\">₽</span></span></span></span></div><div class=\"iva-item-badgeBarStep-rGgCo\"><div class=\"SnippetBadgeBar-root-B6Bj3\" data-marker=\"iva-item/badgeBar\"><div class=\"SnippetBadgeBar-skeleton-DfTIC\" style=\"margin-right:6px\">Хорошая цена</div><div class=\"SnippetBadgeBar-skeleton-DfTIC\" style=\"margin-right:6px\">Онлайн-показ</div></div></div><div class=\"iva-item-developmentNameStep-n46gZ\" data-marker=\"item-address\"><div class=\"geo-root-H3eWU iva-item-geo-g3iIJ\"><span class=\"geo-address-QTv9k text-text-LurtD text-size-s-BxGpL\"><span>ул. Звездова, 127</span></span><div class=\"geo-georeferences-Yd_m5 text-text-LurtD text-size-s-BxGpL\"><span>р-н Центральный</span></div></div></div><div class=\"iva-item-descriptionStep-QGE8Y\"><div class=\"iva-item-text-_s_vh iva-item-description-S2pXQ text-text-LurtD text-size-s-BxGpL\">Новая, чистая, светлая просторная и очень тёплая 1-комнатная квартира по улице Звездова на 4этаже в 14-ти этажном кирпичном доме общей площадью 37кв. м. ( 40 кв. м. с лоджией) в новом доме. Дом постройки 2020 года. Удобная транспортная развязка, до центра города 5 минут! Рядом остановки общественного транспорта по улицам 10 лет Октября, Шебалдина, остановка трамвая «Звездова». В шаговой доступности находится все необходимое для комфортного проживания: школы, детский сад, магазины, Сбербанк. \n",
      "В квартире сделан ремонт: \n",
      "Окна Пвх, лоджия застеклена дверь входная новая метал., натяжные потолки, ламинат, обои, двери межкомнатные белая-эмаль, установлен кухонный гарнитур ( варочная поверхность, духовой шкаф, вытяжка), стол и стулья, шкаф-купе зеркальный встроенный в коридоре ( гардеробная). Сан. узел кафель стены и пол, натяжной потолок (ванна, раковина с зеркалом, унитаз). Установлены счётчики, задолженности нет! \n",
      "Квартира соответсвует фото! В квартире никто не проживал. Перепланировок не было. Квартира свободна, возможны ключи в день сделки. Прописанных нет. Собственник один. Продажа от собственника. </div></div><div class=\"\" data-marker=\"item-line\"><span class=\"iva-item-text-_s_vh iva-item-textColor-gray44-Fq8XF iva-item-hideWide-oLeJu text-text-LurtD text-size-s-BxGpL\">Агентство</span></div><div class=\"iva-item-dateInfoStep-_dkz9\"><div class=\"date-root-QeIIB\"><span class=\"tooltip-tooltip-box-RsJbq\"><span class=\"tooltip-target-wrapper-mu94t\"><div class=\"date-text-VwmJG text-text-LurtD text-size-s-BxGpL text-color-noaccent-P1Rfs\" data-marker=\"item-date\">3 недели назад</div></span></span></div></div></div><div class=\"iva-item-aside-c_vio\"><div class=\"iva-item-userInfoStep-giB_O\"><span class=\"iva-item-text-_s_vh iva-item-textColor-gray44-Fq8XF text-text-LurtD text-size-s-BxGpL\">Агентство</span><span class=\"iva-item-text-_s_vh iva-item-textColor-gray44-Fq8XF text-text-LurtD text-size-s-BxGpL\">На Авито с апреля 2016</span></div><div class=\"iva-item-actions-_9Pdy\"><div data-marker=\"messenger-button\"><div class=\"messenger-button-root-X8WGM messenger-button-root_fullwidth-AeoEu messenger-button-root_header-cMTcq\"><a class=\"button-button-CmK9a button-size-s-r9SeD button-default-_Uj_C width-width-12-_MkqF\" data-marker=\"messenger-button/link\" href=\"#login?next=%3Fwritein%3D2168371549&amp;authsrc=w\" target=\"_self\" width=\"12\"><div class=\"\">Написать</div></a></div></div><div class=\"iva-item-phone-CQOot\" data-marker=\"item-contact\"><button aria-busy=\"false\" class=\"iva-item-phoneButton-WzvKf button-button-CmK9a button-size-s-r9SeD button-default-_Uj_C\"><span class=\"button-textBox-_SF60\">Показать телефон</span></button></div></div></div></div></div>\n"
     ]
    }
   ],
   "source": [
    "for flat in flats:\n",
    "    flat.find()"
   ]
  },
  {
   "cell_type": "code",
   "execution_count": 107,
   "metadata": {},
   "outputs": [
    {
     "data": {
      "text/plain": [
       "[<a class=\"iva-item-sliderLink-bJ9Pv\" href=\"/omsk/kvartiry/1-k._kvartira_421m_15et._2218320258\" itemprop=\"url\" rel=\"noopener\" target=\"_blank\" title=\"Объявление «1-к. квартира, 42,1 м², 1/5 эт.» 14 фотографий\"><div class=\"photo-slider-root-w2CZ2 photo-slider-redesign-oqzmv\" data-marker=\"item-photo\"><div class=\"photo-slider-photoSlider-IpiW8 photo-slider-aspect-ratio-4-3-Jhpvf\"><ul class=\"photo-slider-list-xFf2c\"><li class=\"photo-slider-list-item-_fUPr\" data-marker=\"slider-image/image-https://99.img.avito.st/208x156/11573669299.jpg\"><div class=\"photo-slider-item-o_UGQ photo-slider-keepImageRatio-NrG6s\"><img alt=\"1-к. квартира, 42,1 м², 1/5 эт.\" class=\"photo-slider-image-_Dc4I\" importance=\"high\" itemprop=\"image\" sizes=\"\n",
       "                 (min-width: 1334px) 236px,\n",
       "                 208px\n",
       "             \" src=\"https://99.img.avito.st/208x156/11573669299.jpg\" srcset=\"https://99.img.avito.st/208x156/11573669299.jpg 208w,https://99.img.avito.st/image/1/br6Xs7a-wlf5EyJXx6YByHcQxFE3EsBdKcjDtyMQwFcjsME 236w,https://99.img.avito.st/image/1/br6Xs7a-wlfdFBxWx6YByHcQxFE3EsBdKezEiSIQwFcjsME 318w,https://99.img.avito.st/image/1/br6Xs7aDwlfhHVBfx6YByHcQxlEvFsBRNxLAXSnQzcUrEMBXI1Y 416w,https://99.img.avito.st/image/1/br6Xs7a-wleRFwRQx6YByHcQxFE3EsBdKaDHkSQQwFcjsME 472w,https://99.img.avito.st/image/1/br6Xs7a-wlfZGXhSx6YByHcQxFE3EsBdKejJ7SYQwFcjsME 636w\"/></div></li></ul></div></div></a>,\n",
       " <a class=\"link-link-MbQDP link-design-default-_nSbv title-root-j7cja iva-item-title-_qCwt title-listRedesign-XHq38 title-root_maxHeight-SXHes\" data-marker=\"item-title\" href=\"/omsk/kvartiry/1-k._kvartira_421m_15et._2218320258\" itemprop=\"url\" rel=\"noopener\" target=\"_blank\" title=\"1-к. квартира, 42,1 м², 1/5 эт. в Омске\"><h3 class=\"title-root-j7cja iva-item-title-_qCwt title-listRedesign-XHq38 title-root_maxHeight-SXHes text-text-LurtD text-size-s-BxGpL text-bold-SinUO\" itemprop=\"name\">1-к. квартира, 42,1 м², 1/5 эт.</h3></a>,\n",
       " <a class=\"link-link-MbQDP link-design-inherited-Ys4mw link-novisited-UCnee\" data-marker=\"item-link\" href=\"/user/8a442844de583b6ded5cb82dfca1ebd2/profile\" rel=\"noopener\" target=\"_blank\" title=\"Любовь\">Любовь</a>,\n",
       " <a class=\"button-button-CmK9a button-size-s-r9SeD button-default-_Uj_C width-width-12-_MkqF\" data-marker=\"messenger-button/link\" href=\"#login?next=%3Fwritein%3D2218320258&amp;authsrc=w\" target=\"_self\" width=\"12\"><div class=\"\">Написать</div></a>,\n",
       " <a class=\"iva-item-sliderLink-bJ9Pv\" href=\"/omsk/kvartiry/1-k._kvartira_412m_1016et._2230155294\" itemprop=\"url\" rel=\"noopener\" target=\"_blank\" title=\"Объявление «1-к. квартира, 41,2 м², 10/16 эт.» 22 фотографии\"><div class=\"photo-slider-root-w2CZ2 photo-slider-redesign-oqzmv\" data-marker=\"item-photo\"><div class=\"photo-slider-photoSlider-IpiW8 photo-slider-aspect-ratio-4-3-Jhpvf\"><ul class=\"photo-slider-list-xFf2c\"><li class=\"photo-slider-list-item-_fUPr\" data-marker=\"slider-image/image-https://70.img.avito.st/208x156/11970676070.jpg\"><div class=\"photo-slider-item-o_UGQ photo-slider-keepImageRatio-NrG6s\"><img alt=\"1-к. квартира, 41,2 м², 10/16 эт.\" class=\"photo-slider-image-_Dc4I\" importance=\"high\" itemprop=\"image\" sizes=\"\n",
       "                 (min-width: 1334px) 236px,\n",
       "                 208px\n",
       "             \" src=\"https://70.img.avito.st/208x156/11970676070.jpg\" srcset=\"https://70.img.avito.st/208x156/11970676070.jpg 208w,https://70.img.avito.st/image/1/u-4ZxLa-Fwd3ZPcHY_KFnfZnEQG5ZRUNp78W561nFQetxxQ 236w,https://70.img.avito.st/image/1/u-4ZxLa-FwdTY8kGY_KFnfZnEQG5ZRUNp5sR2axnFQetxxQ 318w,https://70.img.avito.st/image/1/u-4ZxLaDFwdvaoUPY_KFnfZnEwGhYRUBuWUVDaenGJWlZxUHrSE 416w,https://70.img.avito.st/image/1/u-4ZxLa-FwcfYNEAY_KFnfZnEQG5ZRUNp9cSwapnFQetxxQ 472w,https://70.img.avito.st/image/1/u-4ZxLa-FwdXbq0CY_KFnfZnEQG5ZRUNp58cvahnFQetxxQ 636w\"/></div></li></ul></div></div></a>,\n",
       " <a class=\"link-link-MbQDP link-design-default-_nSbv title-root-j7cja iva-item-title-_qCwt title-listRedesign-XHq38 title-root_maxHeight-SXHes\" data-marker=\"item-title\" href=\"/omsk/kvartiry/1-k._kvartira_412m_1016et._2230155294\" itemprop=\"url\" rel=\"noopener\" target=\"_blank\" title=\"1-к. квартира, 41,2 м², 10/16 эт. в Омске\"><h3 class=\"title-root-j7cja iva-item-title-_qCwt title-listRedesign-XHq38 title-root_maxHeight-SXHes text-text-LurtD text-size-s-BxGpL text-bold-SinUO\" itemprop=\"name\">1-к. квартира, 41,2 м², 10/16 эт.</h3></a>,\n",
       " <a class=\"iva-item-sliderLink-bJ9Pv\" href=\"/omsk/kvartiry/1-k._kvartira_285m_35et._2216913432\" itemprop=\"url\" rel=\"noopener\" target=\"_blank\" title=\"Объявление «1-к. квартира, 28,5 м², 3/5 эт.» 20 фотографий\"><div class=\"photo-slider-root-w2CZ2 photo-slider-redesign-oqzmv\" data-marker=\"item-photo\"><div class=\"photo-slider-photoSlider-IpiW8 photo-slider-aspect-ratio-4-3-Jhpvf\"><ul class=\"photo-slider-list-xFf2c\"><li class=\"photo-slider-list-item-_fUPr\" data-marker=\"slider-image/image-https://49.img.avito.st/208x156/11944252749.jpg\"><div class=\"photo-slider-item-o_UGQ photo-slider-keepImageRatio-NrG6s\"><img alt=\"1-к. квартира, 28,5 м², 3/5 эт.\" class=\"photo-slider-image-_Dc4I\" importance=\"high\" itemprop=\"image\" sizes=\"\n",
       "                 (min-width: 1334px) 236px,\n",
       "                 208px\n",
       "             \" src=\"https://49.img.avito.st/208x156/11944252749.jpg\" srcset=\"https://49.img.avito.st/208x156/11944252749.jpg 208w,https://49.img.avito.st/image/1/kBG-Zra-PPjQxtz4khDIBFDFOv4exz7yAB09GArFPvgKZT8 236w,https://49.img.avito.st/image/1/kBG-Zra-PPj0weL5khDIBFDFOv4exz7yADk6JgvFPvgKZT8 318w,https://49.img.avito.st/image/1/kBG-ZraDPPjIyK7wkhDIBFDFOP4Gwz7-Hsc-8gAFM2oCxT74CoM 416w,https://49.img.avito.st/image/1/kBG-Zra-PPi4wvr_khDIBFDFOv4exz7yAHU5Pg3FPvgKZT8 472w,https://49.img.avito.st/image/1/kBG-Zra-PPjwzIb9khDIBFDFOv4exz7yAD03Qg_FPvgKZT8 636w\"/></div></li></ul></div></div></a>,\n",
       " <a class=\"link-link-MbQDP link-design-default-_nSbv title-root-j7cja iva-item-title-_qCwt title-listRedesign-XHq38 title-root_maxHeight-SXHes\" data-marker=\"item-title\" href=\"/omsk/kvartiry/1-k._kvartira_285m_35et._2216913432\" itemprop=\"url\" rel=\"noopener\" target=\"_blank\" title=\"1-к. квартира, 28,5 м², 3/5 эт. в Омске\"><h3 class=\"title-root-j7cja iva-item-title-_qCwt title-listRedesign-XHq38 title-root_maxHeight-SXHes text-text-LurtD text-size-s-BxGpL text-bold-SinUO\" itemprop=\"name\">1-к. квартира, 28,5 м², 3/5 эт.</h3></a>,\n",
       " <a class=\"link-link-MbQDP link-design-inherited-Ys4mw link-novisited-UCnee\" data-marker=\"item-link\" href=\"/user/eb5ef50fec3df9913d95a4c87b0f8bee/profile\" rel=\"noopener\" target=\"_blank\" title=\"Владимир Савиных\">Владимир Савиных</a>,\n",
       " <a class=\"button-button-CmK9a button-size-s-r9SeD button-default-_Uj_C width-width-12-_MkqF\" data-marker=\"messenger-button/link\" href=\"#login?next=%3Fwritein%3D2216913432&amp;authsrc=w\" target=\"_self\" width=\"12\"><div class=\"\">Написать</div></a>,\n",
       " <a class=\"iva-item-sliderLink-bJ9Pv\" href=\"/omsk/kvartiry/1-k._kvartira_30m_12et._1400356726\" itemprop=\"url\" rel=\"noopener\" target=\"_blank\" title=\"Объявление «1-к. квартира, 30 м², 1/2 эт.» 6 фотографий\"><div class=\"photo-slider-root-w2CZ2 photo-slider-redesign-oqzmv\" data-marker=\"item-photo\"><div class=\"photo-slider-photoSlider-IpiW8 photo-slider-aspect-ratio-4-3-Jhpvf\"><ul class=\"photo-slider-list-xFf2c\"><li class=\"photo-slider-list-item-_fUPr\" data-marker=\"slider-image/image-https://15.img.avito.st/208x156/4293383115.jpg\"><div class=\"photo-slider-item-o_UGQ photo-slider-keepImageRatio-NrG6s\"><img alt=\"1-к. квартира, 30 м², 1/2 эт.\" class=\"photo-slider-image-_Dc4I\" itemprop=\"image\" sizes=\"\n",
       "                 (min-width: 1334px) 236px,\n",
       "                 208px\n",
       "             \" src=\"https://15.img.avito.st/208x156/4293383115.jpg\" srcset=\"https://15.img.avito.st/208x156/4293383115.jpg 208w,https://15.img.avito.st/image/1/FgWtvba-uuzDHVrsjdEGEAQevOoNHLjmE8a7DBkeuOwZvrk 236w,https://15.img.avito.st/image/1/FgWtvba-uuznGmTtjdEGEAQevOoNHLjmE-K8MhgeuOwZvrk 318w,https://15.img.avito.st/image/1/FgWtvbaDuuzbEyjkjdEGEAQevuoVGLjqDRy45hPetX4RHrjsGVg 416w,https://15.img.avito.st/image/1/FgWtvba-uuyrGXzrjdEGEAQevOoNHLjmE66_Kh4euOwZvrk 472w,https://15.img.avito.st/image/1/FgWtvba-uuzjFwDpjdEGEAQevOoNHLjmE-axVhweuOwZvrk 636w\"/></div></li></ul></div></div></a>,\n",
       " <a class=\"link-link-MbQDP link-design-default-_nSbv title-root-j7cja iva-item-title-_qCwt title-listRedesign-XHq38 title-root_maxHeight-SXHes\" data-marker=\"item-title\" href=\"/omsk/kvartiry/1-k._kvartira_30m_12et._1400356726\" itemprop=\"url\" rel=\"noopener\" target=\"_blank\" title=\"1-к. квартира, 30 м², 1/2 эт. в Омске\"><h3 class=\"title-root-j7cja iva-item-title-_qCwt title-listRedesign-XHq38 title-root_maxHeight-SXHes text-text-LurtD text-size-s-BxGpL text-bold-SinUO\" itemprop=\"name\">1-к. квартира, 30 м², 1/2 эт.</h3></a>,\n",
       " <a class=\"link-link-MbQDP link-design-inherited-Ys4mw link-novisited-UCnee\" data-marker=\"item-link\" href=\"/user/e96559e14ce37655e7e9f33678c12c36/profile\" rel=\"noopener\" target=\"_blank\" title=\"Ольга Зоркальцева\">Ольга Зоркальцева</a>,\n",
       " <a class=\"button-button-CmK9a button-size-s-r9SeD button-default-_Uj_C width-width-12-_MkqF\" data-marker=\"messenger-button/link\" href=\"#login?next=%3Fwritein%3D1400356726&amp;authsrc=w\" target=\"_self\" width=\"12\"><div class=\"\">Написать</div></a>,\n",
       " <a class=\"iva-item-sliderLink-bJ9Pv\" href=\"/omsk/kvartiry/1-k._kvartira_45m_211et._2231872702\" itemprop=\"url\" rel=\"noopener\" target=\"_blank\" title=\"Объявление «1-к. квартира, 45 м², 2/11 эт.» 6 фотографий\"><div class=\"photo-slider-root-w2CZ2 photo-slider-redesign-oqzmv\" data-marker=\"item-photo\"><div class=\"photo-slider-photoSlider-IpiW8 photo-slider-aspect-ratio-4-3-Jhpvf\"><ul class=\"photo-slider-list-xFf2c\"><li class=\"photo-slider-list-item-_fUPr\" data-marker=\"slider-image/image-https://24.img.avito.st/208x156/11694438224.jpg\"><div class=\"photo-slider-item-o_UGQ photo-slider-keepImageRatio-NrG6s\"><img alt=\"1-к. квартира, 45 м², 2/11 эт.\" class=\"photo-slider-image-_Dc4I\" itemprop=\"image\" sizes=\"\n",
       "                 (min-width: 1334px) 236px,\n",
       "                 208px\n",
       "             \" src=\"https://24.img.avito.st/208x156/11694438224.jpg\" srcset=\"https://24.img.avito.st/208x156/11694438224.jpg 208w,https://24.img.avito.st/image/1/jXXkTLa-IZyK7MGc8jL0DgXvJ5pE7SOWWjcgfFDvI5xQTyI 236w,https://24.img.avito.st/image/1/jXXkTLa-IZyu6_-d8jL0DgXvJ5pE7SOWWhMnQlHvI5xQTyI 318w,https://24.img.avito.st/image/1/jXXkTLaDIZyS4rOU8jL0DgXvJZpc6SOaRO0jllovLg5Y7yOcUKk 416w,https://24.img.avito.st/image/1/jXXkTLa-IZzi6Oeb8jL0DgXvJ5pE7SOWWl8kWlfvI5xQTyI 472w,https://24.img.avito.st/image/1/jXXkTLa-IZyq5puZ8jL0DgXvJ5pE7SOWWhcqJlXvI5xQTyI 636w\"/></div></li></ul></div></div></a>,\n",
       " <a class=\"link-link-MbQDP link-design-default-_nSbv title-root-j7cja iva-item-title-_qCwt title-listRedesign-XHq38 title-root_maxHeight-SXHes\" data-marker=\"item-title\" href=\"/omsk/kvartiry/1-k._kvartira_45m_211et._2231872702\" itemprop=\"url\" rel=\"noopener\" target=\"_blank\" title=\"1-к. квартира, 45 м², 2/11 эт. в Омске\"><h3 class=\"title-root-j7cja iva-item-title-_qCwt title-listRedesign-XHq38 title-root_maxHeight-SXHes text-text-LurtD text-size-s-BxGpL text-bold-SinUO\" itemprop=\"name\">1-к. квартира, 45 м², 2/11 эт.</h3></a>,\n",
       " <a class=\"link-link-MbQDP link-design-inherited-Ys4mw link-novisited-UCnee\" data-marker=\"item-link\" href=\"/user/d39b57c62349a29097bffaf8da49d3d1/profile\" rel=\"noopener\" target=\"_blank\" title=\"Настя\">Настя</a>,\n",
       " <a class=\"button-button-CmK9a button-size-s-r9SeD button-default-_Uj_C width-width-12-_MkqF\" data-marker=\"messenger-button/link\" href=\"#login?next=%3Fwritein%3D2231872702&amp;authsrc=w\" target=\"_self\" width=\"12\"><div class=\"\">Написать</div></a>,\n",
       " <a class=\"iva-item-sliderLink-bJ9Pv\" href=\"/omsk/kvartiry/1-k._kvartira_40m_414et._2168371549\" itemprop=\"url\" rel=\"noopener\" target=\"_blank\" title=\"Объявление «1-к. квартира, 40 м², 4/14 эт.» 14 фотографий\"><div class=\"photo-slider-root-w2CZ2 photo-slider-redesign-oqzmv\" data-marker=\"item-photo\"><div class=\"photo-slider-photoSlider-IpiW8 photo-slider-aspect-ratio-4-3-Jhpvf\"><ul class=\"photo-slider-list-xFf2c\"><li class=\"photo-slider-list-item-_fUPr\" data-marker=\"slider-image/image-https://77.img.avito.st/208x156/11151403877.jpg\"><div class=\"photo-slider-item-o_UGQ photo-slider-keepImageRatio-NrG6s\"><span class=\"photo-slider-image-_Dc4I\" style=\"display:inline-block\"></span></div></li></ul></div></div></a>,\n",
       " <a class=\"link-link-MbQDP link-design-default-_nSbv title-root-j7cja iva-item-title-_qCwt title-listRedesign-XHq38 title-root_maxHeight-SXHes\" data-marker=\"item-title\" href=\"/omsk/kvartiry/1-k._kvartira_40m_414et._2168371549\" itemprop=\"url\" rel=\"noopener\" target=\"_blank\" title=\"1-к. квартира, 40 м², 4/14 эт. в Омске\"><h3 class=\"title-root-j7cja iva-item-title-_qCwt title-listRedesign-XHq38 title-root_maxHeight-SXHes text-text-LurtD text-size-s-BxGpL text-bold-SinUO\" itemprop=\"name\">1-к. квартира, 40 м², 4/14 эт.</h3></a>,\n",
       " <a class=\"button-button-CmK9a button-size-s-r9SeD button-default-_Uj_C width-width-12-_MkqF\" data-marker=\"messenger-button/link\" href=\"#login?next=%3Fwritein%3D2168371549&amp;authsrc=w\" target=\"_self\" width=\"12\"><div class=\"\">Написать</div></a>]"
      ]
     },
     "execution_count": 107,
     "metadata": {},
     "output_type": "execute_result"
    }
   ],
   "source": [
    "# Список найденных квартир на продажу\n",
    "flats.find_all(\"a\", \"class\" == \"iva-item-sliderLink-bJ9Pv\")"
   ]
  },
  {
   "cell_type": "code",
   "execution_count": null,
   "metadata": {},
   "outputs": [],
   "source": []
  },
  {
   "cell_type": "code",
   "execution_count": 56,
   "metadata": {},
   "outputs": [],
   "source": [
    "# Полный список постраничных блоков квартир\n",
    "res = soup.find_all(attrs={\"data-marker\": \"item\"})"
   ]
  },
  {
   "cell_type": "code",
   "execution_count": 54,
   "metadata": {},
   "outputs": [
    {
     "data": {
      "text/plain": [
       "<div class=\"iva-item-root-Nj_hb photo-slider-slider-_PvpN iva-item-list-H_dpX iva-item-redesign-nV4C4 iva-item-responsive-gIKjW items-item-My3ih items-listItem-Gd1jN js-catalog-item-enum\" data-item-id=\"2234063088\" data-marker=\"item\" id=\"i2234063088\" itemscope=\"\" itemtype=\"http://schema.org/Product\"><meta content='Продается отличная 3-х комнатная квартира в ЖК \"Тарская крепость\" расположенная на 7-м этаже в 10-ти этажном панельном доме. Квартира в хорошем состоянии, окна Пвх и дерево, лоджия застеклена и утеплена, комнаты изолированные, санузел раздельный, стены выл' itemprop=\"description\"/><div class=\"iva-item-content-UnQQ4\"><div class=\"iva-item-slider-GWoCM\"><a class=\"iva-item-sliderLink-bJ9Pv\" href=\"/omsk/kvartiry/3-k._kvartira_821m_710et._2234063088\" itemprop=\"url\" rel=\"noopener\" target=\"_blank\" title=\"Объявление «3-к. квартира, 82,1 м², 7/10 эт.» 18 фотографий\"><div class=\"photo-slider-root-w2CZ2 photo-slider-redesign-oqzmv\" data-marker=\"item-photo\"><div class=\"photo-slider-photoSlider-IpiW8 photo-slider-aspect-ratio-4-3-Jhpvf\"><ul class=\"photo-slider-list-xFf2c\"><li class=\"photo-slider-list-item-_fUPr\" data-marker=\"slider-image/image-https://42.img.avito.st/208x156/11808501142.jpg\"><div class=\"photo-slider-item-o_UGQ photo-slider-keepImageRatio-NrG6s\"><img alt=\"3-к. квартира, 82,1 м², 7/10 эт.\" class=\"photo-slider-image-_Dc4I\" importance=\"high\" itemprop=\"image\" sizes=\"\n",
       "                (min-width: 1334px) 236px,\n",
       "                208px\n",
       "            \" src=\"https://42.img.avito.st/208x156/11808501142.jpg\" srcset=\"https://42.img.avito.st/208x156/11808501142.jpg 208w,https://42.img.avito.st/image/1/SyG9xra-58jTZgfIp9NeN1xl4c4dZ-XCA73mKAll5cgJxeQ 236w,https://42.img.avito.st/image/1/SyG9xra-58j3YTnJp9NeN1xl4c4dZ-XCA5nhFghl5cgJxeQ 318w,https://42.img.avito.st/image/1/SyG9xraD58jLaHXAp9NeN1xl484FY-XOHWflwgOl6FoBZeXICSM 416w,https://42.img.avito.st/image/1/SyG9xra-58i7YiHPp9NeN1xl4c4dZ-XCA9XiDg5l5cgJxeQ 472w,https://42.img.avito.st/image/1/SyG9xra-58jzbF3Np9NeN1xl4c4dZ-XCA53scgxl5cgJxeQ 636w\"/></div></li></ul></div></div></a></div><div class=\"iva-item-body-R_Q9c\"><div class=\"iva-item-favoritesStep-uJQ5h\"><span class=\"tooltip-tooltip-box-RsJbq\"><span class=\"tooltip-target-wrapper-mu94t\"><div class=\"favorites-root-bwLlI\" data-marker=\"favorites-add\" data-state=\"empty\" title=\"Добавить в избранное и в сравнение\"></div></span></span></div><div class=\"iva-item-titleStep-_CxvN\"><a class=\"link-link-MbQDP link-design-default-_nSbv title-root-j7cja iva-item-title-_qCwt title-listRedesign-XHq38 title-root_maxHeight-SXHes\" data-marker=\"item-title\" href=\"/omsk/kvartiry/3-k._kvartira_821m_710et._2234063088\" itemprop=\"url\" rel=\"noopener\" target=\"_blank\" title=\"3-к. квартира, 82,1 м², 7/10 эт. в Омске\"><h3 class=\"title-root-j7cja iva-item-title-_qCwt title-listRedesign-XHq38 title-root_maxHeight-SXHes text-text-LurtD text-size-s-BxGpL text-bold-SinUO\" itemprop=\"name\">3-к. квартира, 82,1 м², 7/10 эт.</h3></a></div><div class=\"iva-item-priceStep-QN8Kl\"><span class=\"price-root-_Uey3 price-listRedesign-UZ7CL\"><span class=\"price-price-BQkOZ\" data-marker=\"item-price\" itemprop=\"offers\" itemscope=\"\" itemtype=\"http://schema.org/Offer\"><meta content=\"RUB\" itemprop=\"priceCurrency\"/><meta content=\"6100000\" itemprop=\"price\"/><meta content=\"https://schema.org/LimitedAvailability\" itemprop=\"availability\"/><span class=\"price-text-E1Y7h text-text-LurtD text-size-s-BxGpL\">6 100 000<!-- --> <span class=\"price-currency-_B87m\">₽</span></span></span></span></div><div class=\"iva-item-badgeBarStep-rGgCo\"><div class=\"SnippetBadgeBar-root-B6Bj3\" data-marker=\"iva-item/badgeBar\"><div class=\"SnippetBadgeBar-skeleton-DfTIC\" style=\"margin-right:6px\">Хорошая цена</div></div></div><div class=\"iva-item-developmentNameStep-n46gZ\" data-marker=\"item-address\"><div class=\"geo-root-H3eWU iva-item-geo-g3iIJ\"><span class=\"geo-address-QTv9k text-text-LurtD text-size-s-BxGpL\"><span>Тарская ул., 261к1</span></span><div class=\"geo-georeferences-Yd_m5 text-text-LurtD text-size-s-BxGpL\"><span>р-н Центральный</span></div></div></div><div class=\"iva-item-descriptionStep-QGE8Y\"><div class=\"iva-item-text-_s_vh iva-item-description-S2pXQ text-text-LurtD text-size-s-BxGpL\">Продается отличная 3-х комнатная квартира в ЖК \"Тарская крепость\" расположенная на 7-м этаже в 10-ти этажном панельном доме. Квартира в хорошем состоянии, окна Пвх и дерево, лоджия застеклена и утеплена, комнаты изолированные, санузел раздельный, стены выложены кафелем. В квартире остается кухонный гарнитур и гардеробная. Хорошо развита инфраструктура района, школы, детские сады, магазины, банки остановка транспорта все рядом. Звоните! Покажем в удобное для Вас время! Окажем помощь в оформлении ипотеки Бесплатно! </div></div><div class=\"\" data-marker=\"item-line\"><span class=\"iva-item-text-_s_vh iva-item-textColor-gray44-Fq8XF iva-item-hideWide-oLeJu text-text-LurtD text-size-s-BxGpL\">Агентство</span></div><div class=\"iva-item-dateInfoStep-_dkz9\"><div class=\"date-root-QeIIB\"><span class=\"tooltip-tooltip-box-RsJbq\"><span class=\"tooltip-target-wrapper-mu94t\"><div class=\"date-text-VwmJG text-text-LurtD text-size-s-BxGpL text-color-noaccent-P1Rfs\" data-marker=\"item-date\">3 часа назад</div></span></span></div></div></div><div class=\"iva-item-aside-c_vio\"><div class=\"iva-item-userInfoStep-giB_O\"><span class=\"iva-item-text-_s_vh iva-item-textColor-gray44-Fq8XF text-text-LurtD text-size-s-BxGpL\">Агентство</span><span class=\"iva-item-text-_s_vh iva-item-textColor-gray44-Fq8XF text-text-LurtD text-size-s-BxGpL\">На Авито с апреля 2012</span></div><div class=\"iva-item-actions-_9Pdy\"><div class=\"iva-item-phone-CQOot\" data-marker=\"item-contact\"><button aria-busy=\"false\" class=\"iva-item-phoneButton-WzvKf button-button-CmK9a button-size-s-r9SeD button-default-_Uj_C\"><span class=\"button-textBox-_SF60\">Показать телефон</span></button></div></div></div></div></div>"
      ]
     },
     "execution_count": 54,
     "metadata": {},
     "output_type": "execute_result"
    }
   ],
   "source": [
    "soup.find(attrs={\"data-marker\": \"item\"})"
   ]
  },
  {
   "cell_type": "code",
   "execution_count": 31,
   "metadata": {},
   "outputs": [
    {
     "ename": "SyntaxError",
     "evalue": "expression cannot contain assignment, perhaps you meant \"==\"? (<ipython-input-31-897911ba7107>, line 1)",
     "output_type": "error",
     "traceback": [
      "\u001b[1;36m  File \u001b[1;32m\"<ipython-input-31-897911ba7107>\"\u001b[1;36m, line \u001b[1;32m1\u001b[0m\n\u001b[1;33m    for tag in soup.find_all('div', data-marker = 'item'):\u001b[0m\n\u001b[1;37m                                    ^\u001b[0m\n\u001b[1;31mSyntaxError\u001b[0m\u001b[1;31m:\u001b[0m expression cannot contain assignment, perhaps you meant \"==\"?\n"
     ]
    }
   ],
   "source": [
    "for tag in soup.find_all('div', data-marker = 'item'):\n",
    "    print('huu')"
   ]
  },
  {
   "cell_type": "code",
   "execution_count": 11,
   "metadata": {},
   "outputs": [
    {
     "data": {
      "text/plain": [
       "'ул. Варламова, 37'"
      ]
     },
     "execution_count": 11,
     "metadata": {},
     "output_type": "execute_result"
    }
   ],
   "source": [
    "soup.find('span', class_ = 'geo-address-QTv9k text-text-LurtD text-size-s-BxGpL').text"
   ]
  },
  {
   "cell_type": "code",
   "execution_count": null,
   "metadata": {},
   "outputs": [],
   "source": [
    "soup.find_all('div', class_ = 'iva-item-developmentNameStep-n46gZ')"
   ]
  },
  {
   "cell_type": "code",
   "execution_count": null,
   "metadata": {},
   "outputs": [],
   "source": [
    "geo-address-QTv9k text-text-LurtD text-size-s-BxGpL"
   ]
  },
  {
   "cell_type": "code",
   "execution_count": null,
   "metadata": {},
   "outputs": [],
   "source": []
  },
  {
   "cell_type": "code",
   "execution_count": null,
   "metadata": {},
   "outputs": [],
   "source": []
  }
 ],
 "metadata": {
  "kernelspec": {
   "display_name": "Python 3",
   "language": "python",
   "name": "python3"
  },
  "language_info": {
   "codemirror_mode": {
    "name": "ipython",
    "version": 3
   },
   "file_extension": ".py",
   "mimetype": "text/x-python",
   "name": "python",
   "nbconvert_exporter": "python",
   "pygments_lexer": "ipython3",
   "version": "3.8.5"
  }
 },
 "nbformat": 4,
 "nbformat_minor": 4
}
