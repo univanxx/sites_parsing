{
 "cells": [
  {
   "cell_type": "code",
   "execution_count": 3,
   "metadata": {},
   "outputs": [],
   "source": [
    "# from urllib.request import urlopen, Request\n",
    "import requests\n",
    "from bs4 import BeautifulSoup"
   ]
  },
  {
   "cell_type": "code",
   "execution_count": 4,
   "metadata": {},
   "outputs": [],
   "source": [
    "import numpy as np\n",
    "import pandas as pd"
   ]
  },
  {
   "cell_type": "code",
   "execution_count": 5,
   "metadata": {},
   "outputs": [],
   "source": [
    "from transliterate import translit"
   ]
  },
  {
   "cell_type": "code",
   "execution_count": 6,
   "metadata": {},
   "outputs": [],
   "source": [
    "from time import sleep"
   ]
  },
  {
   "cell_type": "code",
   "execution_count": 7,
   "metadata": {},
   "outputs": [],
   "source": [
    "import re"
   ]
  },
  {
   "cell_type": "code",
   "execution_count": 8,
   "metadata": {},
   "outputs": [],
   "source": [
    "# Функция для вычисления расстояния м/у широтой и долготой в километрах\n",
    "import haversine_dist"
   ]
  },
  {
   "cell_type": "markdown",
   "metadata": {},
   "source": [
    "### Avito"
   ]
  },
  {
   "cell_type": "code",
   "execution_count": 7,
   "metadata": {},
   "outputs": [],
   "source": [
    "# Что первично можно выцепить на сайте:\n",
    "# Город, тип дома, кол-во комнат"
   ]
  },
  {
   "cell_type": "markdown",
   "metadata": {},
   "source": [
    "#### Получаем аналоги на этой же улице"
   ]
  },
  {
   "cell_type": "code",
   "execution_count": 48,
   "metadata": {},
   "outputs": [],
   "source": [
    "def get_similar_flats(city, street, n_rooms, house_type):\n",
    "    base_url = 'https://www.avito.ru/'\n",
    "    city =  re.findall(r'[a-z- ]+', translit(city.lower(), reversed=True))[0]\n",
    "    street = street.lower()\n",
    "    rooms = {\n",
    "        1: '1-komnatnye',\n",
    "        2: '2-komnatnye',\n",
    "        3: '3-komnatnye',\n",
    "        4: '4-komnatnye'\n",
    "    }   \n",
    "    house_types = {\n",
    "        'Кирпичный': 'kirpichnyy_dom',\n",
    "        'Панельный': 'panelnyy_dom',\n",
    "        'Блочный': 'blochnyy_dom',\n",
    "        'Монолитный': 'monolitnyy_dom',\n",
    "        'Деревянный': 'derevyannyy_dom'\n",
    "    }   \n",
    "    search = base_url + city + '/kvartiry/prodam/vtorichka/' + rooms[n_rooms] + '/' + house_types[house_type] + '?q=' + '+'.join(street.split()) + '&s=104'\n",
    "    print(search)\n",
    "    html_doc =  requests.get(search)\n",
    "    # Проверка на корректность запроса\n",
    "    if html_doc.status_code == 429:\n",
    "        print('Сервер забанил за подозрительную активность! Разбанит примерно через час')\n",
    "    else:\n",
    "        print('Кажется, всё ок. Но вот на всякий случай код: {}'.format(html_doc.status_code))\n",
    "    # Первая страница поиска Авито\n",
    "    soup = BeautifulSoup(html_doc.text, \"html.parser\")\n",
    "    # Нахожу все подходящие (не рекомендации) квартиры на этой странице\n",
    "    flats = soup.find('div', class_ = 'items-items-kAJAg')  # получаю список квартир вместе с рекламой и рекомендациями\n",
    "    flats_act = flats.find_all(attrs={\"data-marker\": \"item\"})  # баблы страничек как массив\n",
    "    \n",
    "    # Получаю сайт с каждой квартирой отдельно\n",
    "    flats_sites = []\n",
    "    for flat in flats_act:\n",
    "        flats_sites.append('https://www.avito.ru' + flat.find(attrs={\"class\":\"iva-item-sliderLink-bJ9Pv\"})['href'])\n",
    "    res = []\n",
    "    for flat in flats_sites[:5]:\n",
    "        flat_i = BeautifulSoup(requests.get(flat).text, \"html.parser\")\n",
    "        sleep(6.451 + np.random.normal(1,2,1)[0])  # добавляю зашумление времени \n",
    "        flat_one_info = {\n",
    "                        'floor':None,\n",
    "                        'all_floors':None,\n",
    "                        'rooms':None,\n",
    "                        'all_square':None,\n",
    "                        'live_square':None,\n",
    "                        'kitch_square':None,\n",
    "                        'tall':None,\n",
    "                        'repair':None,\n",
    "                        'bathroom':None,\n",
    "                        'balcony':None,\n",
    "                        'window':None,\n",
    "                        'dop_info':None,\n",
    "                        'house_type':None,\n",
    "                        'year_built':None,\n",
    "                        'how_pas_lift':None,\n",
    "                        'how_grz_lift':None,\n",
    "                        'in_house':None,\n",
    "                        'backyard':None,\n",
    "                        'park':None,\n",
    "                        'flat_lat':None,\n",
    "                        'flat_lon':None,\n",
    "                        'address':None,\n",
    "                        'price':None,\n",
    "                        'link':None\n",
    "                        }\n",
    "\n",
    "        for text in flat_i.find_all('li', class_ = 'item-params-list-item'):\n",
    "            label = text.text[:text.text.find(':')].split()[0]\n",
    "            value = text.text[text.text.find(':') + 1:].split()\n",
    "            if label == 'Этаж':\n",
    "                flat_one_info['floor'] = [value[0]]\n",
    "                flat_one_info['all_floors'] = [value[2]]\n",
    "            elif label == 'Количество':\n",
    "                flat_one_info['rooms'] = [value[0]]\n",
    "            elif label == 'Общая':\n",
    "                flat_one_info['all_square'] = [value[0]]\n",
    "            elif label == 'Площадь':\n",
    "                flat_one_info['live_square'] = [value[0]]\n",
    "            elif label == 'Жилая':\n",
    "                flat_one_info['kitchen_square'] = [value[0]]\n",
    "            elif label == 'Высота':\n",
    "                flat_one_info['tall'] = [value[0]]   \n",
    "            elif label == 'Ремонт':\n",
    "                flat_one_info['repair'] = [value[0]]\n",
    "            elif label == 'Санузел':\n",
    "                flat_one_info['bathroom'] = [value[0]]\n",
    "            elif label == 'Балкон':\n",
    "                flat_one_info['balcony'] = [value[0]]\n",
    "            elif label == 'Вид':\n",
    "                flat_one_info['window'] = [' '.join(value)]\n",
    "            elif label == 'Дополнительно':\n",
    "                flat_one_info['dop_info'] = [' '.join(value)]\n",
    "            elif label == 'Тип':\n",
    "                flat_one_info['house_type'] = [value[0]]\n",
    "            elif label == 'Год':\n",
    "                flat_one_info['year_built'] = [value[0]]\n",
    "            elif label == 'Пассажирский':\n",
    "                flat_one_info['how_pas_lift'] = [value[0]]\n",
    "            elif label == 'Грузовой':\n",
    "                flat_one_info['how_grz_lift'] = [value[0]]\n",
    "            elif label == 'В':\n",
    "                flat_one_info['in_house'] = [' '.join(value)]\n",
    "            elif label == 'Двор':\n",
    "                flat_one_info['backyard'] = [' '.join(value)]\n",
    "            elif label == 'Парковка':\n",
    "                flat_one_info['park'] = [' '.join(value) ]\n",
    "            flat_one_info['price'] = [int(flat_i.find('span', class_ = 'js-item-price')['content'])]\n",
    "        flat_one_info['address'] = [flat_i.find('span', class_ = 'item-address__string').text.strip()]\n",
    "        flat_one_info['flat_lat'] = [flat_i.find('div', class_ = 'b-search-map expanded item-map-wrapper js-item-map-wrapper')['data-map-lat']]\n",
    "        flat_one_info['flat_lon'] = [flat_i.find('div', class_ = 'b-search-map expanded item-map-wrapper js-item-map-wrapper')['data-map-lon']]\n",
    "        flat_one_info['link'] = [flat]\n",
    "        df = pd.DataFrame(flat_one_info)\n",
    "        res.append(df)\n",
    "        print(' ---------- done! ----------')\n",
    "        sleep(4.322 + np.random.normal(1,2,1)[0])  # добавляю зашумление времени \n",
    "    return pd.concat(res)"
   ]
  },
  {
   "cell_type": "code",
   "execution_count": 45,
   "metadata": {},
   "outputs": [
    {
     "name": "stdout",
     "output_type": "stream",
     "text": [
      "https://www.avito.ru/habarovsk/kvartiry/prodam/1-komnatnye/kirpichnyy_dom?q=гамарника&s=104\n",
      "Кажется, всё ок. Но вот на всякий случай код: 200\n",
      " ---------- done! ----------\n",
      " ---------- done! ----------\n",
      " ---------- done! ----------\n",
      " ---------- done! ----------\n",
      " ---------- done! ----------\n"
     ]
    }
   ],
   "source": [
    "res = get_similar_flats('Хабаровск', 'Гамарника', 1, 'Кирпичный')"
   ]
  },
  {
   "cell_type": "code",
   "execution_count": null,
   "metadata": {},
   "outputs": [],
   "source": [
    "res"
   ]
  },
  {
   "cell_type": "markdown",
   "metadata": {},
   "source": [
    "#### Получаем аналоги в радиусе 1км"
   ]
  },
  {
   "cell_type": "code",
   "execution_count": 9,
   "metadata": {},
   "outputs": [],
   "source": [
    "def get_similar_flats_1km(address, city, n_rooms, house_type, flat_floor, flat_floors, all_square):\n",
    "    base_url = 'https://www.avito.ru/'\n",
    "    \n",
    "    city =  re.findall(r'[a-z- ]+', translit(city.lower(), reversed=True))[0]\n",
    "    # Получаю координаты\n",
    "    coord_url = 'https://www.google.com/maps/search/' + address\n",
    "    coord_html_doc =  requests.get(coord_url)\n",
    "    soup = BeautifulSoup(coord_html_doc.text, \"html.parser\")\n",
    "    flat_lat = float(str(soup).split('?center=')[1].split('&amp;')[0].split('%2C')[0])\n",
    "    flat_lon = float(str(soup).split('?center=')[1].split('&amp;')[0].split('%2C')[1])\n",
    "    \n",
    "    rooms = {\n",
    "        1: '1-komnatnye',\n",
    "        2: '2-komnatnye',\n",
    "        3: '3-komnatnye',\n",
    "        4: '4-komnatnye'\n",
    "    }   \n",
    "    house_types = {\n",
    "        'Кирпичный': 'kirpichnyy_dom',\n",
    "        'Панельный': 'panelnyy_dom',\n",
    "        'Блочный': 'blochnyy_dom',\n",
    "        'Монолитный': 'monolitnyy_dom',\n",
    "        'Деревянный': 'derevyannyy_dom'\n",
    "    }   \n",
    "    search = base_url + city + '/kvartiry/prodam/vtorichka/' + rooms[n_rooms] + '/' + house_types[house_type] + '?s=104'\n",
    "    html_doc =  requests.get(search)\n",
    "    # Проверка на корректность запроса\n",
    "    if html_doc.status_code == 429:\n",
    "        print('Сервер забанил за подозрительную активность! Разбанит примерно через час')\n",
    "    else:\n",
    "        print('Кажется, всё ок. Но вот на всякий случай код: {}'.format(html_doc.status_code))\n",
    "    # Первая страница поиска Авито\n",
    "    soup = BeautifulSoup(html_doc.text, \"html.parser\")\n",
    "    # Нахожу все подходящие (не рекомендации) квартиры на этой странице\n",
    "    flats = soup.find('div', class_ = 'items-items-kAJAg')  # получаю список квартир вместе с рекламой и рекомендациями\n",
    "    flats_act = flats.find_all(attrs={\"data-marker\": \"item\"})  # баблы страничек как массив\n",
    "    pages = soup.find_all('span', class_ = 'pagination-item-JJq_j')  # получаю информацию о количестве страниц с квартирами\n",
    "    if len(pages) != 0:\n",
    "        pages = int(pages[-2].text)\n",
    "        flats_pages = []\n",
    "        flags_pages.append(flats_act)\n",
    "        for page in range(2, pages + 1):\n",
    "            print(page)\n",
    "            search = base_url + city + '/kvartiry/prodam/vtorichka/' + rooms[n_rooms] + '/' + house_types[house_type] + '?p=' + str(page) + '&s=104'\n",
    "            html_doc =  requests.get(search)\n",
    "            # Проверка на корректность запроса\n",
    "            if html_doc.status_code == 429:\n",
    "                print('Сервер забанил за подозрительную активность! Разбанит примерно через час')\n",
    "            else:\n",
    "                print('Кажется, всё ок. Но вот на всякий случай код: {}'.format(html_doc.status_code))\n",
    "                soup = BeautifulSoup(html_doc.text, \"html.parser\")\n",
    "                flats = soup.find('div', class_ = 'items-items-kAJAg')  # получаю список квартир вместе с рекламой и рекомендациями\n",
    "                flats_act = flats.find_all(attrs={\"data-marker\": \"item\"})  # баблы страничек как массив\n",
    "                flats_pages.append(flats_act)\n",
    "                sleep(5.1252 + np.random.normal(1,2,1)[0])  # добавляю зашумление времени \n",
    "    else:\n",
    "        pages = 1\n",
    "    # Проверка на соответствие по площади и этажности\n",
    "    flats_sites = []\n",
    "    # Первая страница поиска Авито\n",
    "    soup = BeautifulSoup(html_doc.text, \"html.parser\")\n",
    "    # Нахожу все подходящие (не рекомендации) квартиры на этой странице\n",
    "    flats = soup.find('div', class_ = 'items-items-kAJAg')  # получаю список квартир вместе с рекламой и рекомендациями\n",
    "    flats_act = flats.find_all(attrs={\"data-marker\": \"item\"})  # баблы страничек как массив\n",
    "        for flat in flats_act:\n",
    "            head = flat.a['title']\n",
    "            floor = int(head[head.find('/') - 1:head.find('/')])\n",
    "            floors = int(head[head.find('/') + 1:head.find('/') + 2])\n",
    "            if (floor == 1 and flat_floor == 1) or (floor == floors and flat_floor == flat_floors) or (floor != 1 and flat_floor != 1 and flat_floor != flat_floors and floor != floors):\n",
    "                square = float(re.match(r'[0-9,]+', head.split(' ')[3]).group().replace(',', '.'))\n",
    "                if square > all_square*0.8 and square < all_square*1.2:\n",
    "                    flats_sites.append('https://www.avito.ru' + flat.find(attrs={\"class\":\"iva-item-sliderLink-bJ9Pv\"})['href'])\n",
    "                else:\n",
    "                    continue\n",
    "            else:\n",
    "                continue\n",
    "    # Беру 5 аналогов\n",
    "    res = []\n",
    "    counter = 1\n",
    "    while counter <= 5:\n",
    "        print(len(flats_sites))\n",
    "        for flat in flats_sites:\n",
    "            print(flat)\n",
    "            sleep(6.451 + np.random.normal(1,2,1)[0])  # добавляю зашумление времени \n",
    "            flat_one_info = {\n",
    "                            'floor':None,\n",
    "                            'all_floors':None,\n",
    "                            'rooms':None,\n",
    "                            'all_square':None,\n",
    "                            'live_square':None,\n",
    "                            'kitch_square':None,\n",
    "                            'tall':None,\n",
    "                            'repair':None,\n",
    "                            'bathroom':None,\n",
    "                            'balcony':None,\n",
    "                            'window':None,\n",
    "                            'dop_info':None,\n",
    "                            'house_type':None,\n",
    "                            'year_built':None,\n",
    "                            'how_pas_lift':None,\n",
    "                            'how_grz_lift':None,\n",
    "                            'in_house':None,\n",
    "                            'backyard':None,\n",
    "                            'park':None,\n",
    "                            'flat_lat':None,\n",
    "                            'flat_lon':None,\n",
    "                            'address':None,\n",
    "                            'price':None,\n",
    "                            'link':None\n",
    "                            }\n",
    "\n",
    "            flat_i = BeautifulSoup(requests.get(flat).text, \"html.parser\")\n",
    "\n",
    "            flat_one_info['flat_lat'] = [flat_i.find('div', class_ = 'b-search-map expanded item-map-wrapper js-item-map-wrapper')['data-map-lat']]\n",
    "            flat_one_info['flat_lon'] = [flat_i.find('div', class_ = 'b-search-map expanded item-map-wrapper js-item-map-wrapper')['data-map-lon']]\n",
    "            \n",
    "            \n",
    "            \n",
    "            if haversine_dist.haversine(float(flat_one_info['flat_lon'][0]), float(flat_one_info['flat_lat'][0]), flat_lon, flat_lat) >= 1:\n",
    "                print('skipped!')\n",
    "                continue\n",
    "            else:\n",
    "                flat_one_info['price'] = [int(flat_i.find('span', class_ = 'js-item-price')['content'])]\n",
    "                flat_one_info['address'] = [flat_i.find('span', class_ = 'item-address__string').text.strip()]\n",
    "                flat_one_info['link'] = [flat]\n",
    "                for text in flat_i.find_all('li', class_ = 'item-params-list-item'):\n",
    "                    label = text.text[:text.text.find(':')].split()[0]\n",
    "                    value = text.text[text.text.find(':') + 1:].split()\n",
    "                    if label == 'Этаж':\n",
    "                        flat_one_info['floor'] = [value[0]]\n",
    "                        flat_one_info['all_floors'] = [value[2]]\n",
    "                    elif label == 'Количество':\n",
    "                        flat_one_info['rooms'] = [value[0]]\n",
    "                    elif label == 'Общая':\n",
    "                        flat_one_info['all_square'] = [value[0]]\n",
    "                    elif label == 'Площадь':\n",
    "                        flat_one_info['live_square'] = [value[0]]\n",
    "                    elif label == 'Жилая':\n",
    "                        flat_one_info['kitchen_square'] = [value[0]]\n",
    "                    elif label == 'Высота':\n",
    "                        flat_one_info['tall'] = [value[0]]   \n",
    "                    elif label == 'Ремонт':\n",
    "                        flat_one_info['repair'] = [value[0]]\n",
    "                    elif label == 'Санузел':\n",
    "                        flat_one_info['bathroom'] = [value[0]]\n",
    "                    elif label == 'Балкон':\n",
    "                        flat_one_info['balcony'] = [value[0]]\n",
    "                    elif label == 'Вид':\n",
    "                        flat_one_info['window'] = [' '.join(value)]\n",
    "                    elif label == 'Дополнительно':\n",
    "                        flat_one_info['dop_info'] = [' '.join(value)]\n",
    "                    elif label == 'Тип':\n",
    "                        flat_one_info['house_type'] = [value[0]]\n",
    "                    elif label == 'Год':\n",
    "                        flat_one_info['year_built'] = [value[0]]\n",
    "                    elif label == 'Пассажирский':\n",
    "                        flat_one_info['how_pas_lift'] = [value[0]]\n",
    "                    elif label == 'Грузовой':\n",
    "                        flat_one_info['how_grz_lift'] = [value[0]]\n",
    "                    elif label == 'В':\n",
    "                        flat_one_info['in_house'] = [' '.join(value)]\n",
    "                    elif label == 'Двор':\n",
    "                        flat_one_info['backyard'] = [' '.join(value)]\n",
    "                    elif label == 'Парковка':\n",
    "                        flat_one_info['park'] = [' '.join(value)]\n",
    "            df = pd.DataFrame(flat_one_info)\n",
    "            res.append(df)\n",
    "            print(' ---------- done! ----------')\n",
    "            counter += 1\n",
    "            sleep(4.322 + np.random.normal(1,2,1)[0])  # добавляю зашумление времени \n",
    "    return pd.concat(res)"
   ]
  },
  {
   "cell_type": "code",
   "execution_count": 10,
   "metadata": {},
   "outputs": [
    {
     "name": "stdout",
     "output_type": "stream",
     "text": [
      "https://www.avito.ru/habarovsk/kvartiry/prodam/vtorichka/1-komnatnye/kirpichnyy_dom?s=104\n",
      "Кажется, всё ок. Но вот на всякий случай код: 200\n",
      "5\n",
      "https://www.avito.ru/habarovsk/kvartiry/1-k._kvartira_297_m_15_et._2248937781\n"
     ]
    },
    {
     "ename": "KeyboardInterrupt",
     "evalue": "",
     "output_type": "error",
     "traceback": [
      "\u001b[1;31m---------------------------------------------------------------------------\u001b[0m",
      "\u001b[1;31mKeyboardInterrupt\u001b[0m                         Traceback (most recent call last)",
      "\u001b[1;32m<ipython-input-10-d1eae0905b6b>\u001b[0m in \u001b[0;36m<module>\u001b[1;34m\u001b[0m\n\u001b[1;32m----> 1\u001b[1;33m \u001b[0mres\u001b[0m \u001b[1;33m=\u001b[0m \u001b[0mget_similar_flats_1km\u001b[0m\u001b[1;33m(\u001b[0m\u001b[1;34m'Хабаровский край, г. Хабаровск, ул. Гамарника, д. 80А'\u001b[0m\u001b[1;33m,\u001b[0m \u001b[1;34m'Хабаровск'\u001b[0m\u001b[1;33m,\u001b[0m \u001b[1;36m1\u001b[0m\u001b[1;33m,\u001b[0m \u001b[1;34m'Кирпичный'\u001b[0m\u001b[1;33m,\u001b[0m \u001b[1;36m1\u001b[0m\u001b[1;33m,\u001b[0m \u001b[1;36m5\u001b[0m\u001b[1;33m,\u001b[0m \u001b[1;36m28.6\u001b[0m\u001b[1;33m)\u001b[0m\u001b[1;33m\u001b[0m\u001b[1;33m\u001b[0m\u001b[0m\n\u001b[0m",
      "\u001b[1;32m<ipython-input-9-f0e27ffc8283>\u001b[0m in \u001b[0;36mget_similar_flats_1km\u001b[1;34m(address, city, n_rooms, house_type, flat_floor, flat_floors, all_square)\u001b[0m\n\u001b[0;32m     86\u001b[0m                             }\n\u001b[0;32m     87\u001b[0m \u001b[1;33m\u001b[0m\u001b[0m\n\u001b[1;32m---> 88\u001b[1;33m             \u001b[0mflat_i\u001b[0m \u001b[1;33m=\u001b[0m \u001b[0mBeautifulSoup\u001b[0m\u001b[1;33m(\u001b[0m\u001b[0mrequests\u001b[0m\u001b[1;33m.\u001b[0m\u001b[0mget\u001b[0m\u001b[1;33m(\u001b[0m\u001b[0mflat\u001b[0m\u001b[1;33m)\u001b[0m\u001b[1;33m.\u001b[0m\u001b[0mtext\u001b[0m\u001b[1;33m,\u001b[0m \u001b[1;34m\"html.parser\"\u001b[0m\u001b[1;33m)\u001b[0m\u001b[1;33m\u001b[0m\u001b[1;33m\u001b[0m\u001b[0m\n\u001b[0m\u001b[0;32m     89\u001b[0m \u001b[1;33m\u001b[0m\u001b[0m\n\u001b[0;32m     90\u001b[0m             \u001b[0mflat_one_info\u001b[0m\u001b[1;33m[\u001b[0m\u001b[1;34m'flat_lat'\u001b[0m\u001b[1;33m]\u001b[0m \u001b[1;33m=\u001b[0m \u001b[1;33m[\u001b[0m\u001b[0mflat_i\u001b[0m\u001b[1;33m.\u001b[0m\u001b[0mfind\u001b[0m\u001b[1;33m(\u001b[0m\u001b[1;34m'div'\u001b[0m\u001b[1;33m,\u001b[0m \u001b[0mclass_\u001b[0m \u001b[1;33m=\u001b[0m \u001b[1;34m'b-search-map expanded item-map-wrapper js-item-map-wrapper'\u001b[0m\u001b[1;33m)\u001b[0m\u001b[1;33m[\u001b[0m\u001b[1;34m'data-map-lat'\u001b[0m\u001b[1;33m]\u001b[0m\u001b[1;33m]\u001b[0m\u001b[1;33m\u001b[0m\u001b[1;33m\u001b[0m\u001b[0m\n",
      "\u001b[1;32m~\\Anaconda3\\lib\\site-packages\\requests\\api.py\u001b[0m in \u001b[0;36mget\u001b[1;34m(url, params, **kwargs)\u001b[0m\n\u001b[0;32m     74\u001b[0m \u001b[1;33m\u001b[0m\u001b[0m\n\u001b[0;32m     75\u001b[0m     \u001b[0mkwargs\u001b[0m\u001b[1;33m.\u001b[0m\u001b[0msetdefault\u001b[0m\u001b[1;33m(\u001b[0m\u001b[1;34m'allow_redirects'\u001b[0m\u001b[1;33m,\u001b[0m \u001b[1;32mTrue\u001b[0m\u001b[1;33m)\u001b[0m\u001b[1;33m\u001b[0m\u001b[1;33m\u001b[0m\u001b[0m\n\u001b[1;32m---> 76\u001b[1;33m     \u001b[1;32mreturn\u001b[0m \u001b[0mrequest\u001b[0m\u001b[1;33m(\u001b[0m\u001b[1;34m'get'\u001b[0m\u001b[1;33m,\u001b[0m \u001b[0murl\u001b[0m\u001b[1;33m,\u001b[0m \u001b[0mparams\u001b[0m\u001b[1;33m=\u001b[0m\u001b[0mparams\u001b[0m\u001b[1;33m,\u001b[0m \u001b[1;33m**\u001b[0m\u001b[0mkwargs\u001b[0m\u001b[1;33m)\u001b[0m\u001b[1;33m\u001b[0m\u001b[1;33m\u001b[0m\u001b[0m\n\u001b[0m\u001b[0;32m     77\u001b[0m \u001b[1;33m\u001b[0m\u001b[0m\n\u001b[0;32m     78\u001b[0m \u001b[1;33m\u001b[0m\u001b[0m\n",
      "\u001b[1;32m~\\Anaconda3\\lib\\site-packages\\requests\\api.py\u001b[0m in \u001b[0;36mrequest\u001b[1;34m(method, url, **kwargs)\u001b[0m\n\u001b[0;32m     59\u001b[0m     \u001b[1;31m# cases, and look like a memory leak in others.\u001b[0m\u001b[1;33m\u001b[0m\u001b[1;33m\u001b[0m\u001b[1;33m\u001b[0m\u001b[0m\n\u001b[0;32m     60\u001b[0m     \u001b[1;32mwith\u001b[0m \u001b[0msessions\u001b[0m\u001b[1;33m.\u001b[0m\u001b[0mSession\u001b[0m\u001b[1;33m(\u001b[0m\u001b[1;33m)\u001b[0m \u001b[1;32mas\u001b[0m \u001b[0msession\u001b[0m\u001b[1;33m:\u001b[0m\u001b[1;33m\u001b[0m\u001b[1;33m\u001b[0m\u001b[0m\n\u001b[1;32m---> 61\u001b[1;33m         \u001b[1;32mreturn\u001b[0m \u001b[0msession\u001b[0m\u001b[1;33m.\u001b[0m\u001b[0mrequest\u001b[0m\u001b[1;33m(\u001b[0m\u001b[0mmethod\u001b[0m\u001b[1;33m=\u001b[0m\u001b[0mmethod\u001b[0m\u001b[1;33m,\u001b[0m \u001b[0murl\u001b[0m\u001b[1;33m=\u001b[0m\u001b[0murl\u001b[0m\u001b[1;33m,\u001b[0m \u001b[1;33m**\u001b[0m\u001b[0mkwargs\u001b[0m\u001b[1;33m)\u001b[0m\u001b[1;33m\u001b[0m\u001b[1;33m\u001b[0m\u001b[0m\n\u001b[0m\u001b[0;32m     62\u001b[0m \u001b[1;33m\u001b[0m\u001b[0m\n\u001b[0;32m     63\u001b[0m \u001b[1;33m\u001b[0m\u001b[0m\n",
      "\u001b[1;32m~\\Anaconda3\\lib\\site-packages\\requests\\sessions.py\u001b[0m in \u001b[0;36mrequest\u001b[1;34m(self, method, url, params, data, headers, cookies, files, auth, timeout, allow_redirects, proxies, hooks, stream, verify, cert, json)\u001b[0m\n\u001b[0;32m    528\u001b[0m         }\n\u001b[0;32m    529\u001b[0m         \u001b[0msend_kwargs\u001b[0m\u001b[1;33m.\u001b[0m\u001b[0mupdate\u001b[0m\u001b[1;33m(\u001b[0m\u001b[0msettings\u001b[0m\u001b[1;33m)\u001b[0m\u001b[1;33m\u001b[0m\u001b[1;33m\u001b[0m\u001b[0m\n\u001b[1;32m--> 530\u001b[1;33m         \u001b[0mresp\u001b[0m \u001b[1;33m=\u001b[0m \u001b[0mself\u001b[0m\u001b[1;33m.\u001b[0m\u001b[0msend\u001b[0m\u001b[1;33m(\u001b[0m\u001b[0mprep\u001b[0m\u001b[1;33m,\u001b[0m \u001b[1;33m**\u001b[0m\u001b[0msend_kwargs\u001b[0m\u001b[1;33m)\u001b[0m\u001b[1;33m\u001b[0m\u001b[1;33m\u001b[0m\u001b[0m\n\u001b[0m\u001b[0;32m    531\u001b[0m \u001b[1;33m\u001b[0m\u001b[0m\n\u001b[0;32m    532\u001b[0m         \u001b[1;32mreturn\u001b[0m \u001b[0mresp\u001b[0m\u001b[1;33m\u001b[0m\u001b[1;33m\u001b[0m\u001b[0m\n",
      "\u001b[1;32m~\\Anaconda3\\lib\\site-packages\\requests\\sessions.py\u001b[0m in \u001b[0;36msend\u001b[1;34m(self, request, **kwargs)\u001b[0m\n\u001b[0;32m    641\u001b[0m \u001b[1;33m\u001b[0m\u001b[0m\n\u001b[0;32m    642\u001b[0m         \u001b[1;31m# Send the request\u001b[0m\u001b[1;33m\u001b[0m\u001b[1;33m\u001b[0m\u001b[1;33m\u001b[0m\u001b[0m\n\u001b[1;32m--> 643\u001b[1;33m         \u001b[0mr\u001b[0m \u001b[1;33m=\u001b[0m \u001b[0madapter\u001b[0m\u001b[1;33m.\u001b[0m\u001b[0msend\u001b[0m\u001b[1;33m(\u001b[0m\u001b[0mrequest\u001b[0m\u001b[1;33m,\u001b[0m \u001b[1;33m**\u001b[0m\u001b[0mkwargs\u001b[0m\u001b[1;33m)\u001b[0m\u001b[1;33m\u001b[0m\u001b[1;33m\u001b[0m\u001b[0m\n\u001b[0m\u001b[0;32m    644\u001b[0m \u001b[1;33m\u001b[0m\u001b[0m\n\u001b[0;32m    645\u001b[0m         \u001b[1;31m# Total elapsed time of the request (approximately)\u001b[0m\u001b[1;33m\u001b[0m\u001b[1;33m\u001b[0m\u001b[1;33m\u001b[0m\u001b[0m\n",
      "\u001b[1;32m~\\Anaconda3\\lib\\site-packages\\requests\\adapters.py\u001b[0m in \u001b[0;36msend\u001b[1;34m(self, request, stream, timeout, verify, cert, proxies)\u001b[0m\n\u001b[0;32m    437\u001b[0m         \u001b[1;32mtry\u001b[0m\u001b[1;33m:\u001b[0m\u001b[1;33m\u001b[0m\u001b[1;33m\u001b[0m\u001b[0m\n\u001b[0;32m    438\u001b[0m             \u001b[1;32mif\u001b[0m \u001b[1;32mnot\u001b[0m \u001b[0mchunked\u001b[0m\u001b[1;33m:\u001b[0m\u001b[1;33m\u001b[0m\u001b[1;33m\u001b[0m\u001b[0m\n\u001b[1;32m--> 439\u001b[1;33m                 resp = conn.urlopen(\n\u001b[0m\u001b[0;32m    440\u001b[0m                     \u001b[0mmethod\u001b[0m\u001b[1;33m=\u001b[0m\u001b[0mrequest\u001b[0m\u001b[1;33m.\u001b[0m\u001b[0mmethod\u001b[0m\u001b[1;33m,\u001b[0m\u001b[1;33m\u001b[0m\u001b[1;33m\u001b[0m\u001b[0m\n\u001b[0;32m    441\u001b[0m                     \u001b[0murl\u001b[0m\u001b[1;33m=\u001b[0m\u001b[0murl\u001b[0m\u001b[1;33m,\u001b[0m\u001b[1;33m\u001b[0m\u001b[1;33m\u001b[0m\u001b[0m\n",
      "\u001b[1;32m~\\Anaconda3\\lib\\site-packages\\urllib3\\connectionpool.py\u001b[0m in \u001b[0;36murlopen\u001b[1;34m(self, method, url, body, headers, retries, redirect, assert_same_host, timeout, pool_timeout, release_conn, chunked, body_pos, **response_kw)\u001b[0m\n\u001b[0;32m    668\u001b[0m \u001b[1;33m\u001b[0m\u001b[0m\n\u001b[0;32m    669\u001b[0m             \u001b[1;31m# Make the request on the httplib connection object.\u001b[0m\u001b[1;33m\u001b[0m\u001b[1;33m\u001b[0m\u001b[1;33m\u001b[0m\u001b[0m\n\u001b[1;32m--> 670\u001b[1;33m             httplib_response = self._make_request(\n\u001b[0m\u001b[0;32m    671\u001b[0m                 \u001b[0mconn\u001b[0m\u001b[1;33m,\u001b[0m\u001b[1;33m\u001b[0m\u001b[1;33m\u001b[0m\u001b[0m\n\u001b[0;32m    672\u001b[0m                 \u001b[0mmethod\u001b[0m\u001b[1;33m,\u001b[0m\u001b[1;33m\u001b[0m\u001b[1;33m\u001b[0m\u001b[0m\n",
      "\u001b[1;32m~\\Anaconda3\\lib\\site-packages\\urllib3\\connectionpool.py\u001b[0m in \u001b[0;36m_make_request\u001b[1;34m(self, conn, method, url, timeout, chunked, **httplib_request_kw)\u001b[0m\n\u001b[0;32m    424\u001b[0m                     \u001b[1;31m# Python 3 (including for exceptions like SystemExit).\u001b[0m\u001b[1;33m\u001b[0m\u001b[1;33m\u001b[0m\u001b[1;33m\u001b[0m\u001b[0m\n\u001b[0;32m    425\u001b[0m                     \u001b[1;31m# Otherwise it looks like a bug in the code.\u001b[0m\u001b[1;33m\u001b[0m\u001b[1;33m\u001b[0m\u001b[1;33m\u001b[0m\u001b[0m\n\u001b[1;32m--> 426\u001b[1;33m                     \u001b[0msix\u001b[0m\u001b[1;33m.\u001b[0m\u001b[0mraise_from\u001b[0m\u001b[1;33m(\u001b[0m\u001b[0me\u001b[0m\u001b[1;33m,\u001b[0m \u001b[1;32mNone\u001b[0m\u001b[1;33m)\u001b[0m\u001b[1;33m\u001b[0m\u001b[1;33m\u001b[0m\u001b[0m\n\u001b[0m\u001b[0;32m    427\u001b[0m         \u001b[1;32mexcept\u001b[0m \u001b[1;33m(\u001b[0m\u001b[0mSocketTimeout\u001b[0m\u001b[1;33m,\u001b[0m \u001b[0mBaseSSLError\u001b[0m\u001b[1;33m,\u001b[0m \u001b[0mSocketError\u001b[0m\u001b[1;33m)\u001b[0m \u001b[1;32mas\u001b[0m \u001b[0me\u001b[0m\u001b[1;33m:\u001b[0m\u001b[1;33m\u001b[0m\u001b[1;33m\u001b[0m\u001b[0m\n\u001b[0;32m    428\u001b[0m             \u001b[0mself\u001b[0m\u001b[1;33m.\u001b[0m\u001b[0m_raise_timeout\u001b[0m\u001b[1;33m(\u001b[0m\u001b[0merr\u001b[0m\u001b[1;33m=\u001b[0m\u001b[0me\u001b[0m\u001b[1;33m,\u001b[0m \u001b[0murl\u001b[0m\u001b[1;33m=\u001b[0m\u001b[0murl\u001b[0m\u001b[1;33m,\u001b[0m \u001b[0mtimeout_value\u001b[0m\u001b[1;33m=\u001b[0m\u001b[0mread_timeout\u001b[0m\u001b[1;33m)\u001b[0m\u001b[1;33m\u001b[0m\u001b[1;33m\u001b[0m\u001b[0m\n",
      "\u001b[1;32m~\\Anaconda3\\lib\\site-packages\\urllib3\\packages\\six.py\u001b[0m in \u001b[0;36mraise_from\u001b[1;34m(value, from_value)\u001b[0m\n",
      "\u001b[1;32m~\\Anaconda3\\lib\\site-packages\\urllib3\\connectionpool.py\u001b[0m in \u001b[0;36m_make_request\u001b[1;34m(self, conn, method, url, timeout, chunked, **httplib_request_kw)\u001b[0m\n\u001b[0;32m    419\u001b[0m                 \u001b[1;31m# Python 3\u001b[0m\u001b[1;33m\u001b[0m\u001b[1;33m\u001b[0m\u001b[1;33m\u001b[0m\u001b[0m\n\u001b[0;32m    420\u001b[0m                 \u001b[1;32mtry\u001b[0m\u001b[1;33m:\u001b[0m\u001b[1;33m\u001b[0m\u001b[1;33m\u001b[0m\u001b[0m\n\u001b[1;32m--> 421\u001b[1;33m                     \u001b[0mhttplib_response\u001b[0m \u001b[1;33m=\u001b[0m \u001b[0mconn\u001b[0m\u001b[1;33m.\u001b[0m\u001b[0mgetresponse\u001b[0m\u001b[1;33m(\u001b[0m\u001b[1;33m)\u001b[0m\u001b[1;33m\u001b[0m\u001b[1;33m\u001b[0m\u001b[0m\n\u001b[0m\u001b[0;32m    422\u001b[0m                 \u001b[1;32mexcept\u001b[0m \u001b[0mBaseException\u001b[0m \u001b[1;32mas\u001b[0m \u001b[0me\u001b[0m\u001b[1;33m:\u001b[0m\u001b[1;33m\u001b[0m\u001b[1;33m\u001b[0m\u001b[0m\n\u001b[0;32m    423\u001b[0m                     \u001b[1;31m# Remove the TypeError from the exception chain in\u001b[0m\u001b[1;33m\u001b[0m\u001b[1;33m\u001b[0m\u001b[1;33m\u001b[0m\u001b[0m\n",
      "\u001b[1;32m~\\Anaconda3\\lib\\http\\client.py\u001b[0m in \u001b[0;36mgetresponse\u001b[1;34m(self)\u001b[0m\n\u001b[0;32m   1345\u001b[0m         \u001b[1;32mtry\u001b[0m\u001b[1;33m:\u001b[0m\u001b[1;33m\u001b[0m\u001b[1;33m\u001b[0m\u001b[0m\n\u001b[0;32m   1346\u001b[0m             \u001b[1;32mtry\u001b[0m\u001b[1;33m:\u001b[0m\u001b[1;33m\u001b[0m\u001b[1;33m\u001b[0m\u001b[0m\n\u001b[1;32m-> 1347\u001b[1;33m                 \u001b[0mresponse\u001b[0m\u001b[1;33m.\u001b[0m\u001b[0mbegin\u001b[0m\u001b[1;33m(\u001b[0m\u001b[1;33m)\u001b[0m\u001b[1;33m\u001b[0m\u001b[1;33m\u001b[0m\u001b[0m\n\u001b[0m\u001b[0;32m   1348\u001b[0m             \u001b[1;32mexcept\u001b[0m \u001b[0mConnectionError\u001b[0m\u001b[1;33m:\u001b[0m\u001b[1;33m\u001b[0m\u001b[1;33m\u001b[0m\u001b[0m\n\u001b[0;32m   1349\u001b[0m                 \u001b[0mself\u001b[0m\u001b[1;33m.\u001b[0m\u001b[0mclose\u001b[0m\u001b[1;33m(\u001b[0m\u001b[1;33m)\u001b[0m\u001b[1;33m\u001b[0m\u001b[1;33m\u001b[0m\u001b[0m\n",
      "\u001b[1;32m~\\Anaconda3\\lib\\http\\client.py\u001b[0m in \u001b[0;36mbegin\u001b[1;34m(self)\u001b[0m\n\u001b[0;32m    305\u001b[0m         \u001b[1;31m# read until we get a non-100 response\u001b[0m\u001b[1;33m\u001b[0m\u001b[1;33m\u001b[0m\u001b[1;33m\u001b[0m\u001b[0m\n\u001b[0;32m    306\u001b[0m         \u001b[1;32mwhile\u001b[0m \u001b[1;32mTrue\u001b[0m\u001b[1;33m:\u001b[0m\u001b[1;33m\u001b[0m\u001b[1;33m\u001b[0m\u001b[0m\n\u001b[1;32m--> 307\u001b[1;33m             \u001b[0mversion\u001b[0m\u001b[1;33m,\u001b[0m \u001b[0mstatus\u001b[0m\u001b[1;33m,\u001b[0m \u001b[0mreason\u001b[0m \u001b[1;33m=\u001b[0m \u001b[0mself\u001b[0m\u001b[1;33m.\u001b[0m\u001b[0m_read_status\u001b[0m\u001b[1;33m(\u001b[0m\u001b[1;33m)\u001b[0m\u001b[1;33m\u001b[0m\u001b[1;33m\u001b[0m\u001b[0m\n\u001b[0m\u001b[0;32m    308\u001b[0m             \u001b[1;32mif\u001b[0m \u001b[0mstatus\u001b[0m \u001b[1;33m!=\u001b[0m \u001b[0mCONTINUE\u001b[0m\u001b[1;33m:\u001b[0m\u001b[1;33m\u001b[0m\u001b[1;33m\u001b[0m\u001b[0m\n\u001b[0;32m    309\u001b[0m                 \u001b[1;32mbreak\u001b[0m\u001b[1;33m\u001b[0m\u001b[1;33m\u001b[0m\u001b[0m\n",
      "\u001b[1;32m~\\Anaconda3\\lib\\http\\client.py\u001b[0m in \u001b[0;36m_read_status\u001b[1;34m(self)\u001b[0m\n\u001b[0;32m    266\u001b[0m \u001b[1;33m\u001b[0m\u001b[0m\n\u001b[0;32m    267\u001b[0m     \u001b[1;32mdef\u001b[0m \u001b[0m_read_status\u001b[0m\u001b[1;33m(\u001b[0m\u001b[0mself\u001b[0m\u001b[1;33m)\u001b[0m\u001b[1;33m:\u001b[0m\u001b[1;33m\u001b[0m\u001b[1;33m\u001b[0m\u001b[0m\n\u001b[1;32m--> 268\u001b[1;33m         \u001b[0mline\u001b[0m \u001b[1;33m=\u001b[0m \u001b[0mstr\u001b[0m\u001b[1;33m(\u001b[0m\u001b[0mself\u001b[0m\u001b[1;33m.\u001b[0m\u001b[0mfp\u001b[0m\u001b[1;33m.\u001b[0m\u001b[0mreadline\u001b[0m\u001b[1;33m(\u001b[0m\u001b[0m_MAXLINE\u001b[0m \u001b[1;33m+\u001b[0m \u001b[1;36m1\u001b[0m\u001b[1;33m)\u001b[0m\u001b[1;33m,\u001b[0m \u001b[1;34m\"iso-8859-1\"\u001b[0m\u001b[1;33m)\u001b[0m\u001b[1;33m\u001b[0m\u001b[1;33m\u001b[0m\u001b[0m\n\u001b[0m\u001b[0;32m    269\u001b[0m         \u001b[1;32mif\u001b[0m \u001b[0mlen\u001b[0m\u001b[1;33m(\u001b[0m\u001b[0mline\u001b[0m\u001b[1;33m)\u001b[0m \u001b[1;33m>\u001b[0m \u001b[0m_MAXLINE\u001b[0m\u001b[1;33m:\u001b[0m\u001b[1;33m\u001b[0m\u001b[1;33m\u001b[0m\u001b[0m\n\u001b[0;32m    270\u001b[0m             \u001b[1;32mraise\u001b[0m \u001b[0mLineTooLong\u001b[0m\u001b[1;33m(\u001b[0m\u001b[1;34m\"status line\"\u001b[0m\u001b[1;33m)\u001b[0m\u001b[1;33m\u001b[0m\u001b[1;33m\u001b[0m\u001b[0m\n",
      "\u001b[1;32m~\\Anaconda3\\lib\\socket.py\u001b[0m in \u001b[0;36mreadinto\u001b[1;34m(self, b)\u001b[0m\n\u001b[0;32m    667\u001b[0m         \u001b[1;32mwhile\u001b[0m \u001b[1;32mTrue\u001b[0m\u001b[1;33m:\u001b[0m\u001b[1;33m\u001b[0m\u001b[1;33m\u001b[0m\u001b[0m\n\u001b[0;32m    668\u001b[0m             \u001b[1;32mtry\u001b[0m\u001b[1;33m:\u001b[0m\u001b[1;33m\u001b[0m\u001b[1;33m\u001b[0m\u001b[0m\n\u001b[1;32m--> 669\u001b[1;33m                 \u001b[1;32mreturn\u001b[0m \u001b[0mself\u001b[0m\u001b[1;33m.\u001b[0m\u001b[0m_sock\u001b[0m\u001b[1;33m.\u001b[0m\u001b[0mrecv_into\u001b[0m\u001b[1;33m(\u001b[0m\u001b[0mb\u001b[0m\u001b[1;33m)\u001b[0m\u001b[1;33m\u001b[0m\u001b[1;33m\u001b[0m\u001b[0m\n\u001b[0m\u001b[0;32m    670\u001b[0m             \u001b[1;32mexcept\u001b[0m \u001b[0mtimeout\u001b[0m\u001b[1;33m:\u001b[0m\u001b[1;33m\u001b[0m\u001b[1;33m\u001b[0m\u001b[0m\n\u001b[0;32m    671\u001b[0m                 \u001b[0mself\u001b[0m\u001b[1;33m.\u001b[0m\u001b[0m_timeout_occurred\u001b[0m \u001b[1;33m=\u001b[0m \u001b[1;32mTrue\u001b[0m\u001b[1;33m\u001b[0m\u001b[1;33m\u001b[0m\u001b[0m\n",
      "\u001b[1;32m~\\Anaconda3\\lib\\ssl.py\u001b[0m in \u001b[0;36mrecv_into\u001b[1;34m(self, buffer, nbytes, flags)\u001b[0m\n\u001b[0;32m   1239\u001b[0m                   \u001b[1;34m\"non-zero flags not allowed in calls to recv_into() on %s\"\u001b[0m \u001b[1;33m%\u001b[0m\u001b[1;33m\u001b[0m\u001b[1;33m\u001b[0m\u001b[0m\n\u001b[0;32m   1240\u001b[0m                   self.__class__)\n\u001b[1;32m-> 1241\u001b[1;33m             \u001b[1;32mreturn\u001b[0m \u001b[0mself\u001b[0m\u001b[1;33m.\u001b[0m\u001b[0mread\u001b[0m\u001b[1;33m(\u001b[0m\u001b[0mnbytes\u001b[0m\u001b[1;33m,\u001b[0m \u001b[0mbuffer\u001b[0m\u001b[1;33m)\u001b[0m\u001b[1;33m\u001b[0m\u001b[1;33m\u001b[0m\u001b[0m\n\u001b[0m\u001b[0;32m   1242\u001b[0m         \u001b[1;32melse\u001b[0m\u001b[1;33m:\u001b[0m\u001b[1;33m\u001b[0m\u001b[1;33m\u001b[0m\u001b[0m\n\u001b[0;32m   1243\u001b[0m             \u001b[1;32mreturn\u001b[0m \u001b[0msuper\u001b[0m\u001b[1;33m(\u001b[0m\u001b[1;33m)\u001b[0m\u001b[1;33m.\u001b[0m\u001b[0mrecv_into\u001b[0m\u001b[1;33m(\u001b[0m\u001b[0mbuffer\u001b[0m\u001b[1;33m,\u001b[0m \u001b[0mnbytes\u001b[0m\u001b[1;33m,\u001b[0m \u001b[0mflags\u001b[0m\u001b[1;33m)\u001b[0m\u001b[1;33m\u001b[0m\u001b[1;33m\u001b[0m\u001b[0m\n",
      "\u001b[1;32m~\\Anaconda3\\lib\\ssl.py\u001b[0m in \u001b[0;36mread\u001b[1;34m(self, len, buffer)\u001b[0m\n\u001b[0;32m   1097\u001b[0m         \u001b[1;32mtry\u001b[0m\u001b[1;33m:\u001b[0m\u001b[1;33m\u001b[0m\u001b[1;33m\u001b[0m\u001b[0m\n\u001b[0;32m   1098\u001b[0m             \u001b[1;32mif\u001b[0m \u001b[0mbuffer\u001b[0m \u001b[1;32mis\u001b[0m \u001b[1;32mnot\u001b[0m \u001b[1;32mNone\u001b[0m\u001b[1;33m:\u001b[0m\u001b[1;33m\u001b[0m\u001b[1;33m\u001b[0m\u001b[0m\n\u001b[1;32m-> 1099\u001b[1;33m                 \u001b[1;32mreturn\u001b[0m \u001b[0mself\u001b[0m\u001b[1;33m.\u001b[0m\u001b[0m_sslobj\u001b[0m\u001b[1;33m.\u001b[0m\u001b[0mread\u001b[0m\u001b[1;33m(\u001b[0m\u001b[0mlen\u001b[0m\u001b[1;33m,\u001b[0m \u001b[0mbuffer\u001b[0m\u001b[1;33m)\u001b[0m\u001b[1;33m\u001b[0m\u001b[1;33m\u001b[0m\u001b[0m\n\u001b[0m\u001b[0;32m   1100\u001b[0m             \u001b[1;32melse\u001b[0m\u001b[1;33m:\u001b[0m\u001b[1;33m\u001b[0m\u001b[1;33m\u001b[0m\u001b[0m\n\u001b[0;32m   1101\u001b[0m                 \u001b[1;32mreturn\u001b[0m \u001b[0mself\u001b[0m\u001b[1;33m.\u001b[0m\u001b[0m_sslobj\u001b[0m\u001b[1;33m.\u001b[0m\u001b[0mread\u001b[0m\u001b[1;33m(\u001b[0m\u001b[0mlen\u001b[0m\u001b[1;33m)\u001b[0m\u001b[1;33m\u001b[0m\u001b[1;33m\u001b[0m\u001b[0m\n",
      "\u001b[1;31mKeyboardInterrupt\u001b[0m: "
     ]
    }
   ],
   "source": [
    "res = get_similar_flats_1km('Хабаровский край, г. Хабаровск, ул. Гамарника, д. 80А', 'Хабаровск', 1, 'Кирпичный', 1, 5, 28.6)"
   ]
  },
  {
   "cell_type": "code",
   "execution_count": null,
   "metadata": {},
   "outputs": [],
   "source": [
    "pagination-item-JJq_j"
   ]
  },
  {
   "cell_type": "code",
   "execution_count": 32,
   "metadata": {},
   "outputs": [
    {
     "name": "stdout",
     "output_type": "stream",
     "text": [
      "Кажется, всё ок. Но вот на всякий случай код: 200\n"
     ]
    }
   ],
   "source": [
    "html_doc =  requests.get('https://www.avito.ru/habarovsk/kvartiry/prodam/vtorichka-ASgBAQICAUSSA8YQAUDmBxSMUg?f=ASgBAQICAUSSA8YQA0DkBxT4UeYHFIxSyggUgFk&p=2&s=104')\n",
    "# Проверка на корректность запроса\n",
    "if html_doc.status_code == 429:\n",
    "    print('Сервер забанил за подозрительную активность! Разбанит примерно через час')\n",
    "else:\n",
    "    print('Кажется, всё ок. Но вот на всякий случай код: {}'.format(html_doc.status_code))\n",
    "# Первая страница поиска Авито\n",
    "soup = BeautifulSoup(html_doc.text, \"html.parser\")"
   ]
  },
  {
   "cell_type": "code",
   "execution_count": 33,
   "metadata": {},
   "outputs": [],
   "source": [
    "# Нахожу все подходящие (не рекомендации) квартиры на этой странице\n",
    "flats = soup.find_all('span', class_ = 'pagination-item-JJq_j')  # получаю список квартир вместе с рекламой и рекомендациями"
   ]
  },
  {
   "cell_type": "code",
   "execution_count": 36,
   "metadata": {},
   "outputs": [
    {
     "data": {
      "text/plain": [
       "8"
      ]
     },
     "execution_count": 36,
     "metadata": {},
     "output_type": "execute_result"
    }
   ],
   "source": [
    "int(flats[-2].text)"
   ]
  },
  {
   "cell_type": "markdown",
   "metadata": {},
   "source": [
    "#### Получение координат из адреса по Гугл-картам"
   ]
  },
  {
   "cell_type": "code",
   "execution_count": 44,
   "metadata": {},
   "outputs": [],
   "source": [
    "url = 'https://www.google.com/maps/search/' + 'Пензенская обл, г Кузнецк, ул 60-летия ВЛКСМ, д 8'"
   ]
  },
  {
   "cell_type": "code",
   "execution_count": 47,
   "metadata": {},
   "outputs": [],
   "source": [
    "html_doc =  requests.get(url)\n",
    "\n",
    "# Первая страница поиска Авито\n",
    "soup = BeautifulSoup(html_doc.text, \"html.parser\")"
   ]
  },
  {
   "cell_type": "code",
   "execution_count": 88,
   "metadata": {},
   "outputs": [],
   "source": [
    "source_lat = float(str(soup).split('?center=')[1].split('&amp;')[0].split('%2C')[0])\n",
    "source_lon = float(str(soup).split('?center=')[1].split('&amp;')[0].split('%2C')[1])"
   ]
  },
  {
   "cell_type": "code",
   "execution_count": null,
   "metadata": {},
   "outputs": [],
   "source": []
  },
  {
   "cell_type": "code",
   "execution_count": 50,
   "metadata": {},
   "outputs": [
    {
     "name": "stdout",
     "output_type": "stream",
     "text": [
      "Кажется, всё ок. Но вот на всякий случай код: 200\n"
     ]
    }
   ],
   "source": [
    "html_doc =  requests.get('https://www.avito.ru/habarovsk/kvartiry/prodam/vtorichka-ASgBAQICAUSSA8YQAUDmBxSMUg?f=ASgBAQICAUSSA8YQA0DkBxT4UeYHFIxSyggUgFk&s=104')\n",
    "# Проверка на корректность запроса\n",
    "if html_doc.status_code == 429:\n",
    "    print('Сервер забанил за подозрительную активность! Разбанит примерно через час')\n",
    "else:\n",
    "    print('Кажется, всё ок. Но вот на всякий случай код: {}'.format(html_doc.status_code))\n",
    "# Первая страница поиска Авито\n",
    "soup = BeautifulSoup(html_doc.text, \"html.parser\")\n",
    "# Нахожу все подходящие (не рекомендации) квартиры на этой странице\n",
    "flats = soup.find('div', class_ = 'items-items-kAJAg')  # получаю список квартир вместе с рекламой и рекомендациями\n",
    "flats_act = flats.find_all(attrs={\"data-marker\": \"item\"})  # баблы страничек как массив"
   ]
  },
  {
   "cell_type": "code",
   "execution_count": 52,
   "metadata": {},
   "outputs": [
    {
     "data": {
      "text/plain": [
       "59"
      ]
     },
     "execution_count": 52,
     "metadata": {},
     "output_type": "execute_result"
    }
   ],
   "source": [
    "len(flats_act)"
   ]
  },
  {
   "cell_type": "code",
   "execution_count": 106,
   "metadata": {},
   "outputs": [],
   "source": [
    "flat_floor = 1\n",
    "flat_floors = 5"
   ]
  },
  {
   "cell_type": "code",
   "execution_count": 112,
   "metadata": {},
   "outputs": [
    {
     "name": "stdout",
     "output_type": "stream",
     "text": [
      "Объявление «1-к. квартира, 29,7 м², 1/5 эт.» 11 фотографий\n",
      "Объявление «1-к. квартира, 31 м², 1/5 эт.» 5 фотографий\n",
      "Объявление «1-к. квартира, 24 м², 1/5 эт.» 13 фотографий\n",
      "Объявление «1-к. квартира, 29,5 м², 1/5 эт.» 4 фотографии\n",
      "Объявление «1-к. квартира, 30,5 м², 1/5 эт.» 13 фотографий\n"
     ]
    }
   ],
   "source": [
    "# Получаю сайт с каждой квартирой отдельно\n",
    "for flat in flats_act:\n",
    "    head = flat.a['title']\n",
    "    floor = int(head[head.find('/') - 1:head.find('/')])\n",
    "    floors = int(head[head.find('/') + 1:head.find('/') + 2])\n",
    "    if (floor == 1 and flat_floor == 1) or (floor == floors and flat_floor == flat_floors) or (floor != 1 and flat_floor != 1 and flat_floor != flat_floors and floor != floors):\n",
    "        square = float(re.match(r'[0-9,]+', head.split(' ')[3]).group().replace(',', '.'))\n",
    "        if square > 28.6*0.8 and square < 28.6*1.2:\n",
    "            print(head)\n",
    "        else:\n",
    "            continue\n",
    "    else:\n",
    "        continue"
   ]
  },
  {
   "cell_type": "code",
   "execution_count": null,
   "metadata": {},
   "outputs": [],
   "source": []
  }
 ],
 "metadata": {
  "kernelspec": {
   "display_name": "Python 3",
   "language": "python",
   "name": "python3"
  },
  "language_info": {
   "codemirror_mode": {
    "name": "ipython",
    "version": 3
   },
   "file_extension": ".py",
   "mimetype": "text/x-python",
   "name": "python",
   "nbconvert_exporter": "python",
   "pygments_lexer": "ipython3",
   "version": "3.8.5"
  }
 },
 "nbformat": 4,
 "nbformat_minor": 4
}
