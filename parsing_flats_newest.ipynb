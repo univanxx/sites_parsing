{
 "cells": [
  {
   "cell_type": "code",
   "execution_count": 1,
   "metadata": {},
   "outputs": [],
   "source": [
    "# from urllib.request import urlopen, Request\n",
    "import requests\n",
    "from bs4 import BeautifulSoup"
   ]
  },
  {
   "cell_type": "code",
   "execution_count": 2,
   "metadata": {},
   "outputs": [],
   "source": [
    "import pandas as pd"
   ]
  },
  {
   "cell_type": "code",
   "execution_count": 3,
   "metadata": {},
   "outputs": [],
   "source": [
    "from transliterate import translit"
   ]
  },
  {
   "cell_type": "code",
   "execution_count": 4,
   "metadata": {},
   "outputs": [],
   "source": [
    "from time import sleep"
   ]
  },
  {
   "cell_type": "code",
   "execution_count": 104,
   "metadata": {},
   "outputs": [],
   "source": [
    "import re"
   ]
  },
  {
   "cell_type": "markdown",
   "metadata": {},
   "source": [
    "### Avito"
   ]
  },
  {
   "cell_type": "code",
   "execution_count": 5,
   "metadata": {},
   "outputs": [],
   "source": [
    "# Что первично можно выцепить на сайте:\n",
    "# Город, тип дома, кол-во комнат"
   ]
  },
  {
   "cell_type": "code",
   "execution_count": 6,
   "metadata": {},
   "outputs": [],
   "source": [
    "base_url = 'https://www.avito.ru/'"
   ]
  },
  {
   "cell_type": "code",
   "execution_count": 135,
   "metadata": {},
   "outputs": [],
   "source": [
    "def get_similar_flats(city, street, n_rooms, house_type):\n",
    "    base_url = 'https://www.avito.ru/'\n",
    "    city =  re.findall(r'[a-z- ]+', translit(city.lower(), reversed=True))[0]\n",
    "    street = street.lower()\n",
    "    rooms = {\n",
    "        1: '1-komnatnye',\n",
    "        2: '2-komnatnye',\n",
    "        3: '3-komnatnye',\n",
    "        4: '4-komnatnye'\n",
    "    }   \n",
    "    house_types = {\n",
    "        'Кирпичный': 'kirpichnyy_dom',\n",
    "        'Панельный': 'panelnyy_dom',\n",
    "        'Блочный': 'blochnyy_dom',\n",
    "        'Монолитный': 'monolitnyy_dom',\n",
    "        'Деревянный': 'derevyannyy_dom'\n",
    "    }   \n",
    "    search = base_url + city + '/kvartiry/prodam/' + rooms[n_rooms] + '/' + house_types[house_type] + '?q=' + '+'.join(street.split()) + '&s=104'\n",
    "    print(search)\n",
    "    html_doc =  requests.get(search)\n",
    "    # Проверка на корректность запроса\n",
    "    if html_doc.status_code == 429:\n",
    "        print(html_doc)\n",
    "    else:\n",
    "        print(html_doc)\n",
    "    # Первая страница поиска Авито\n",
    "    soup = BeautifulSoup(html_doc.text, \"html.parser\")\n",
    "    # Нахожу все подходящие (не рекомендации) квартиры на этой странице\n",
    "    flats = soup.find('div', class_ = 'items-items-kAJAg')  # получаю список квартир вместе с рекламой и рекомендациями\n",
    "    flats_act = flats.find_all(attrs={\"data-marker\": \"item\"})  # баблы страничек как массив\n",
    "\n",
    "    # Получаю сайт с каждой квартирой отдельно\n",
    "    flats_sites = []\n",
    "    for flat in flats_act:\n",
    "        flats_sites.append('https://www.avito.ru' + flat.find(attrs={\"class\":\"iva-item-sliderLink-bJ9Pv\"})['href'])\n",
    "    # Пустой датафрейм, который буду возвращать\n",
    "    df = pd.DataFrame({\n",
    "                        'floor':None,\n",
    "                        'all_floors':None,\n",
    "                        'rooms':None,\n",
    "                        'all_square':None,\n",
    "                        'live_square':None,\n",
    "                        'kitch_square':None,\n",
    "                        'tall':None,\n",
    "                        'repair':None,\n",
    "                        'bathroom':None,\n",
    "                        'balcony':None,\n",
    "                        'window':None,\n",
    "                        'dop_info':None,\n",
    "                        'house_type':None,\n",
    "                        'year_built':None,\n",
    "                        'how_pas_lift':None,\n",
    "                        'how_grz_lift':None,\n",
    "                        'in_house':None,\n",
    "                        'backyard':None,\n",
    "                        'park':None,\n",
    "                        'flat_lat':None,\n",
    "                        'flat_lon':None,\n",
    "                        'price':None\n",
    "                        }, index = [0])\n",
    "\n",
    "    for flat in flats_sites[:5]:\n",
    "        flat_i = BeautifulSoup(requests.get(flat).text, \"html.parser\")\n",
    "        sleep(5.5)\n",
    "#        print(flat_i)\n",
    "        flat_one_info = {\n",
    "                        'floor':None,\n",
    "                        'all_floors':None,\n",
    "                        'rooms':None,\n",
    "                        'all_square':None,\n",
    "                        'live_square':None,\n",
    "                        'kitch_square':None,\n",
    "                        'tall':None,\n",
    "                        'repair':None,\n",
    "                        'bathroom':None,\n",
    "                        'balcony':None,\n",
    "                        'window':None,\n",
    "                        'dop_info':None,\n",
    "                        'house_type':None,\n",
    "                        'year_built':None,\n",
    "                        'how_pas_lift':None,\n",
    "                        'how_grz_lift':None,\n",
    "                        'in_house':None,\n",
    "                        'backyard':None,\n",
    "                        'park':None,\n",
    "                        'flat_lat':None,\n",
    "                        'flat_lon':None,\n",
    "                        'price':None\n",
    "                        }\n",
    "\n",
    "        for text in flat_i.find_all('li', class_ = 'item-params-list-item'):\n",
    "            label = text.text[:text.text.find(':')].split()[0]\n",
    "            value = text.text[text.text.find(':') + 1:].split()\n",
    "            if label == 'Этаж':\n",
    "                flat_one_info['floor'] = value[0]\n",
    "                flat_one_info['all_floors'] = value[2]\n",
    "            elif label == 'Количество':\n",
    "                flat_one_info['rooms'] = value[0]\n",
    "            elif label == 'Общая':\n",
    "                flat_one_info['all_square'] = value[0]\n",
    "            elif label == 'Площадь':\n",
    "                flat_one_info['live_square'] = value[0]\n",
    "            elif label == 'Жилая':\n",
    "                flat_one_info['kitchen_square'] = value[0]\n",
    "            elif label == 'Высота':\n",
    "                flat_one_info['tall'] = value[0]   \n",
    "            elif label == 'Ремонт':\n",
    "                flat_one_info['repair'] = value[0]\n",
    "            elif label == 'Санузел':\n",
    "                flat_one_info['bathroom'] = value[0]\n",
    "            elif label == 'Балкон':\n",
    "                flat_one_info['balcony'] = value[0]\n",
    "            elif label == 'Вид':\n",
    "                flat_one_info['window'] = ' '.join(value)\n",
    "            elif label == 'Дополнительно':\n",
    "                flat_one_info['dop_info'] = ' '.join(value)\n",
    "            elif label == 'Тип':\n",
    "                flat_one_info['house_type'] = value[0]\n",
    "            elif label == 'Год':\n",
    "                flat_one_info['year_built'] = value[0]\n",
    "            elif label == 'Пассажирский':\n",
    "                flat_one_info['how_pas_lift'] = value[0]\n",
    "            elif label == 'Грузовой':\n",
    "                flat_one_info['how_grz_lift'] = value[0]\n",
    "            elif label == 'В':\n",
    "                flat_one_info['in_house'] = ' '.join(value)\n",
    "            elif label == 'Двор':\n",
    "                flat_one_info['backyard'] = ' '.join(value)\n",
    "            elif label == 'Парковка':\n",
    "                flat_one_info['park'] = ' '.join(value) \n",
    "            flat_one_info['price'] = int(flat_i.find('span', class_ = 'js-item-price')['content'])\n",
    "            \n",
    "        flat_one_info['flat_lat'] = flat_i.find('div', class_ = 'b-search-map expanded item-map-wrapper js-item-map-wrapper')['data-map-lat']\n",
    "        flat_one_info['flat_lon'] = flat_i.find('div', class_ = 'b-search-map expanded item-map-wrapper js-item-map-wrapper')['data-map-lon']\n",
    "        df = df.append(flat_one_info, ignore_index=True)\n",
    "        print(' ---------- done! ----------')\n",
    "    df.drop(index = 0,inplace=True)\n",
    "    sleep(5.5)\n",
    "    return df\n",
    "# else:\n",
    "#     print('Ошибка при поключении к сайту!')\n",
    "#     print(html_doc)\n",
    "#    return 0"
   ]
  },
  {
   "cell_type": "code",
   "execution_count": 137,
   "metadata": {},
   "outputs": [
    {
     "name": "stdout",
     "output_type": "stream",
     "text": [
      "https://www.avito.ru/habarovsk/kvartiry/prodam/1-komnatnye/kirpichnyy_dom?q=гамарника&s=104\n",
      "<Response [429]>\n"
     ]
    },
    {
     "ename": "AttributeError",
     "evalue": "'NoneType' object has no attribute 'find_all'",
     "output_type": "error",
     "traceback": [
      "\u001b[1;31m---------------------------------------------------------------------------\u001b[0m",
      "\u001b[1;31mAttributeError\u001b[0m                            Traceback (most recent call last)",
      "\u001b[1;32m<ipython-input-137-6015ac5536cb>\u001b[0m in \u001b[0;36m<module>\u001b[1;34m\u001b[0m\n\u001b[1;32m----> 1\u001b[1;33m \u001b[0mres\u001b[0m \u001b[1;33m=\u001b[0m \u001b[0mget_similar_flats\u001b[0m\u001b[1;33m(\u001b[0m\u001b[1;34m'Хабаровск'\u001b[0m\u001b[1;33m,\u001b[0m \u001b[1;34m'Гамарника'\u001b[0m\u001b[1;33m,\u001b[0m \u001b[1;36m1\u001b[0m\u001b[1;33m,\u001b[0m \u001b[1;34m'Кирпичный'\u001b[0m\u001b[1;33m)\u001b[0m\u001b[1;33m\u001b[0m\u001b[1;33m\u001b[0m\u001b[0m\n\u001b[0m",
      "\u001b[1;32m<ipython-input-135-a21736c133d7>\u001b[0m in \u001b[0;36mget_similar_flats\u001b[1;34m(city, street, n_rooms, house_type)\u001b[0m\n\u001b[0;32m     28\u001b[0m     \u001b[1;31m# Нахожу все подходящие (не рекомендации) квартиры на этой странице\u001b[0m\u001b[1;33m\u001b[0m\u001b[1;33m\u001b[0m\u001b[1;33m\u001b[0m\u001b[0m\n\u001b[0;32m     29\u001b[0m     \u001b[0mflats\u001b[0m \u001b[1;33m=\u001b[0m \u001b[0msoup\u001b[0m\u001b[1;33m.\u001b[0m\u001b[0mfind\u001b[0m\u001b[1;33m(\u001b[0m\u001b[1;34m'div'\u001b[0m\u001b[1;33m,\u001b[0m \u001b[0mclass_\u001b[0m \u001b[1;33m=\u001b[0m \u001b[1;34m'items-items-kAJAg'\u001b[0m\u001b[1;33m)\u001b[0m  \u001b[1;31m# получаю список квартир вместе с рекламой и рекомендациями\u001b[0m\u001b[1;33m\u001b[0m\u001b[1;33m\u001b[0m\u001b[0m\n\u001b[1;32m---> 30\u001b[1;33m     \u001b[0mflats_act\u001b[0m \u001b[1;33m=\u001b[0m \u001b[0mflats\u001b[0m\u001b[1;33m.\u001b[0m\u001b[0mfind_all\u001b[0m\u001b[1;33m(\u001b[0m\u001b[0mattrs\u001b[0m\u001b[1;33m=\u001b[0m\u001b[1;33m{\u001b[0m\u001b[1;34m\"data-marker\"\u001b[0m\u001b[1;33m:\u001b[0m \u001b[1;34m\"item\"\u001b[0m\u001b[1;33m}\u001b[0m\u001b[1;33m)\u001b[0m  \u001b[1;31m# баблы страничек как массив\u001b[0m\u001b[1;33m\u001b[0m\u001b[1;33m\u001b[0m\u001b[0m\n\u001b[0m\u001b[0;32m     31\u001b[0m \u001b[1;33m\u001b[0m\u001b[0m\n\u001b[0;32m     32\u001b[0m     \u001b[1;31m# Получаю сайт с каждой квартирой отдельно\u001b[0m\u001b[1;33m\u001b[0m\u001b[1;33m\u001b[0m\u001b[1;33m\u001b[0m\u001b[0m\n",
      "\u001b[1;31mAttributeError\u001b[0m: 'NoneType' object has no attribute 'find_all'"
     ]
    }
   ],
   "source": [
    "res = get_similar_flats('Хабаровск', 'Гамарника', 1, 'Кирпичный')"
   ]
  },
  {
   "cell_type": "code",
   "execution_count": 123,
   "metadata": {},
   "outputs": [
    {
     "data": {
      "text/html": [
       "<div>\n",
       "<style scoped>\n",
       "    .dataframe tbody tr th:only-of-type {\n",
       "        vertical-align: middle;\n",
       "    }\n",
       "\n",
       "    .dataframe tbody tr th {\n",
       "        vertical-align: top;\n",
       "    }\n",
       "\n",
       "    .dataframe thead th {\n",
       "        text-align: right;\n",
       "    }\n",
       "</style>\n",
       "<table border=\"1\" class=\"dataframe\">\n",
       "  <thead>\n",
       "    <tr style=\"text-align: right;\">\n",
       "      <th></th>\n",
       "      <th>floor</th>\n",
       "      <th>all_floors</th>\n",
       "      <th>rooms</th>\n",
       "      <th>all_square</th>\n",
       "      <th>live_square</th>\n",
       "      <th>kitch_square</th>\n",
       "      <th>tall</th>\n",
       "      <th>repair</th>\n",
       "      <th>bathroom</th>\n",
       "      <th>balcony</th>\n",
       "      <th>...</th>\n",
       "      <th>house_type</th>\n",
       "      <th>year_built</th>\n",
       "      <th>how_pas_lift</th>\n",
       "      <th>how_grz_lift</th>\n",
       "      <th>in_house</th>\n",
       "      <th>backyard</th>\n",
       "      <th>park</th>\n",
       "      <th>flat_lat</th>\n",
       "      <th>flat_lon</th>\n",
       "      <th>price</th>\n",
       "    </tr>\n",
       "  </thead>\n",
       "  <tbody>\n",
       "    <tr>\n",
       "      <th>1</th>\n",
       "      <td>5</td>\n",
       "      <td>10</td>\n",
       "      <td>3</td>\n",
       "      <td>96.6</td>\n",
       "      <td>9</td>\n",
       "      <td>None</td>\n",
       "      <td>None</td>\n",
       "      <td>None</td>\n",
       "      <td>None</td>\n",
       "      <td>балкон</td>\n",
       "      <td>...</td>\n",
       "      <td>кирпичный</td>\n",
       "      <td>None</td>\n",
       "      <td>None</td>\n",
       "      <td>None</td>\n",
       "      <td>None</td>\n",
       "      <td>None</td>\n",
       "      <td>None</td>\n",
       "      <td>54.97715</td>\n",
       "      <td>60.353806</td>\n",
       "      <td>5500000</td>\n",
       "    </tr>\n",
       "  </tbody>\n",
       "</table>\n",
       "<p>1 rows × 22 columns</p>\n",
       "</div>"
      ],
      "text/plain": [
       "  floor all_floors rooms all_square live_square kitch_square  tall repair  \\\n",
       "1     5         10     3       96.6           9         None  None   None   \n",
       "\n",
       "  bathroom balcony  ... house_type year_built how_pas_lift how_grz_lift  \\\n",
       "1     None  балкон  ...  кирпичный       None         None         None   \n",
       "\n",
       "  in_house backyard  park  flat_lat   flat_lon    price  \n",
       "1     None     None  None  54.97715  60.353806  5500000  \n",
       "\n",
       "[1 rows x 22 columns]"
      ]
     },
     "execution_count": 123,
     "metadata": {},
     "output_type": "execute_result"
    }
   ],
   "source": [
    "res.to_excel('')"
   ]
  },
  {
   "cell_type": "code",
   "execution_count": null,
   "metadata": {},
   "outputs": [],
   "source": []
  },
  {
   "cell_type": "code",
   "execution_count": null,
   "metadata": {},
   "outputs": [],
   "source": []
  },
  {
   "cell_type": "code",
   "execution_count": null,
   "metadata": {},
   "outputs": [],
   "source": []
  },
  {
   "cell_type": "markdown",
   "metadata": {},
   "source": [
    "#### Получение координат из адреса по Гугл-картам"
   ]
  },
  {
   "cell_type": "code",
   "execution_count": 44,
   "metadata": {},
   "outputs": [],
   "source": [
    "url = 'https://www.google.com/maps/search/' + 'Пензенская обл, г Кузнецк, ул 60-летия ВЛКСМ, д 8'"
   ]
  },
  {
   "cell_type": "code",
   "execution_count": 47,
   "metadata": {},
   "outputs": [],
   "source": [
    "html_doc =  requests.get(url)\n",
    "\n",
    "# Первая страница поиска Авито\n",
    "soup = BeautifulSoup(html_doc.text, \"html.parser\")"
   ]
  },
  {
   "cell_type": "code",
   "execution_count": 88,
   "metadata": {},
   "outputs": [],
   "source": [
    "source_lat = float(str(soup).split('?center=')[1].split('&amp;')[0].split('%2C')[0])\n",
    "source_lon = float(str(soup).split('?center=')[1].split('&amp;')[0].split('%2C')[1])"
   ]
  },
  {
   "cell_type": "code",
   "execution_count": null,
   "metadata": {},
   "outputs": [],
   "source": []
  },
  {
   "cell_type": "code",
   "execution_count": null,
   "metadata": {},
   "outputs": [],
   "source": []
  },
  {
   "cell_type": "code",
   "execution_count": null,
   "metadata": {},
   "outputs": [],
   "source": []
  },
  {
   "cell_type": "code",
   "execution_count": null,
   "metadata": {},
   "outputs": [],
   "source": []
  }
 ],
 "metadata": {
  "kernelspec": {
   "display_name": "Python 3",
   "language": "python",
   "name": "python3"
  },
  "language_info": {
   "codemirror_mode": {
    "name": "ipython",
    "version": 3
   },
   "file_extension": ".py",
   "mimetype": "text/x-python",
   "name": "python",
   "nbconvert_exporter": "python",
   "pygments_lexer": "ipython3",
   "version": "3.8.5"
  }
 },
 "nbformat": 4,
 "nbformat_minor": 4
}
