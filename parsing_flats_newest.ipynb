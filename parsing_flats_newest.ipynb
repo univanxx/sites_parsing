{
 "cells": [
  {
   "cell_type": "code",
   "execution_count": 1,
   "metadata": {},
   "outputs": [],
   "source": [
    "# from urllib.request import urlopen, Request\n",
    "import requests\n",
    "from bs4 import BeautifulSoup"
   ]
  },
  {
   "cell_type": "code",
   "execution_count": 7,
   "metadata": {},
   "outputs": [],
   "source": [
    "import numpy as np\n",
    "import pandas as pd"
   ]
  },
  {
   "cell_type": "code",
   "execution_count": 3,
   "metadata": {},
   "outputs": [],
   "source": [
    "from transliterate import translit"
   ]
  },
  {
   "cell_type": "code",
   "execution_count": 4,
   "metadata": {},
   "outputs": [],
   "source": [
    "from time import sleep"
   ]
  },
  {
   "cell_type": "code",
   "execution_count": 5,
   "metadata": {},
   "outputs": [],
   "source": [
    "import re"
   ]
  },
  {
   "cell_type": "markdown",
   "metadata": {},
   "source": [
    "### Avito"
   ]
  },
  {
   "cell_type": "code",
   "execution_count": 6,
   "metadata": {},
   "outputs": [],
   "source": [
    "# Что первично можно выцепить на сайте:\n",
    "# Город, тип дома, кол-во комнат"
   ]
  },
  {
   "cell_type": "code",
   "execution_count": 20,
   "metadata": {},
   "outputs": [
    {
     "data": {
      "text/plain": [
       "-0.9242648604381867"
      ]
     },
     "execution_count": 20,
     "metadata": {},
     "output_type": "execute_result"
    }
   ],
   "source": [
    "np.random.normal(1,2,1)[0]"
   ]
  },
  {
   "cell_type": "code",
   "execution_count": 18,
   "metadata": {},
   "outputs": [],
   "source": [
    "base_url = 'https://www.avito.ru/'"
   ]
  },
  {
   "cell_type": "code",
   "execution_count": 48,
   "metadata": {},
   "outputs": [],
   "source": [
    "def get_similar_flats(city, street, n_rooms, house_type):\n",
    "    base_url = 'https://www.avito.ru/'\n",
    "    city =  re.findall(r'[a-z- ]+', translit(city.lower(), reversed=True))[0]\n",
    "    street = street.lower()\n",
    "    rooms = {\n",
    "        1: '1-komnatnye',\n",
    "        2: '2-komnatnye',\n",
    "        3: '3-komnatnye',\n",
    "        4: '4-komnatnye'\n",
    "    }   \n",
    "    house_types = {\n",
    "        'Кирпичный': 'kirpichnyy_dom',\n",
    "        'Панельный': 'panelnyy_dom',\n",
    "        'Блочный': 'blochnyy_dom',\n",
    "        'Монолитный': 'monolitnyy_dom',\n",
    "        'Деревянный': 'derevyannyy_dom'\n",
    "    }   \n",
    "    search = base_url + city + '/kvartiry/prodam/' + rooms[n_rooms] + '/' + house_types[house_type] + '?q=' + '+'.join(street.split()) + '&s=104'\n",
    "    print(search)\n",
    "    html_doc =  requests.get(search)\n",
    "    # Проверка на корректность запроса\n",
    "    if html_doc.status_code == 429:\n",
    "        print('Сервер забанил за подозрительную активность! Разбанит примерно через час')\n",
    "    else:\n",
    "        print('Кажется, всё ок. Но вот на всякий случай код: {}'.format(html_doc.status_code))\n",
    "    # Первая страница поиска Авито\n",
    "    soup = BeautifulSoup(html_doc.text, \"html.parser\")\n",
    "    # Нахожу все подходящие (не рекомендации) квартиры на этой странице\n",
    "    flats = soup.find('div', class_ = 'items-items-kAJAg')  # получаю список квартир вместе с рекламой и рекомендациями\n",
    "    flats_act = flats.find_all(attrs={\"data-marker\": \"item\"})  # баблы страничек как массив\n",
    "\n",
    "    # Получаю сайт с каждой квартирой отдельно\n",
    "    flats_sites = []\n",
    "    for flat in flats_act:\n",
    "        flats_sites.append('https://www.avito.ru' + flat.find(attrs={\"class\":\"iva-item-sliderLink-bJ9Pv\"})['href'])\n",
    "    res = []\n",
    "    for flat in flats_sites[:5]:\n",
    "        flat_i = BeautifulSoup(requests.get(flat).text, \"html.parser\")\n",
    "        sleep(6.451 + np.random.normal(1,2,1)[0])  # добавляю зашумление времени \n",
    "        flat_one_info = {\n",
    "                        'floor':None,\n",
    "                        'all_floors':None,\n",
    "                        'rooms':None,\n",
    "                        'all_square':None,\n",
    "                        'live_square':None,\n",
    "                        'kitch_square':None,\n",
    "                        'tall':None,\n",
    "                        'repair':None,\n",
    "                        'bathroom':None,\n",
    "                        'balcony':None,\n",
    "                        'window':None,\n",
    "                        'dop_info':None,\n",
    "                        'house_type':None,\n",
    "                        'year_built':None,\n",
    "                        'how_pas_lift':None,\n",
    "                        'how_grz_lift':None,\n",
    "                        'in_house':None,\n",
    "                        'backyard':None,\n",
    "                        'park':None,\n",
    "                        'flat_lat':None,\n",
    "                        'flat_lon':None,\n",
    "                        'address':None,\n",
    "                        'price':None,\n",
    "                        'link':None\n",
    "                        }\n",
    "\n",
    "        for text in flat_i.find_all('li', class_ = 'item-params-list-item'):\n",
    "            label = text.text[:text.text.find(':')].split()[0]\n",
    "            value = text.text[text.text.find(':') + 1:].split()\n",
    "            if label == 'Этаж':\n",
    "                flat_one_info['floor'] = [value[0]]\n",
    "                flat_one_info['all_floors'] = [value[2]]\n",
    "            elif label == 'Количество':\n",
    "                flat_one_info['rooms'] = [value[0]]\n",
    "            elif label == 'Общая':\n",
    "                flat_one_info['all_square'] = [value[0]]\n",
    "            elif label == 'Площадь':\n",
    "                flat_one_info['live_square'] = [value[0]]\n",
    "            elif label == 'Жилая':\n",
    "                flat_one_info['kitchen_square'] = [value[0]]\n",
    "            elif label == 'Высота':\n",
    "                flat_one_info['tall'] = [value[0]]   \n",
    "            elif label == 'Ремонт':\n",
    "                flat_one_info['repair'] = [value[0]]\n",
    "            elif label == 'Санузел':\n",
    "                flat_one_info['bathroom'] = [value[0]]\n",
    "            elif label == 'Балкон':\n",
    "                flat_one_info['balcony'] = [value[0]]\n",
    "            elif label == 'Вид':\n",
    "                flat_one_info['window'] = [' '.join(value)]\n",
    "            elif label == 'Дополнительно':\n",
    "                flat_one_info['dop_info'] = [' '.join(value)]\n",
    "            elif label == 'Тип':\n",
    "                flat_one_info['house_type'] = [value[0]]\n",
    "            elif label == 'Год':\n",
    "                flat_one_info['year_built'] = [value[0]]\n",
    "            elif label == 'Пассажирский':\n",
    "                flat_one_info['how_pas_lift'] = [value[0]]\n",
    "            elif label == 'Грузовой':\n",
    "                flat_one_info['how_grz_lift'] = [value[0]]\n",
    "            elif label == 'В':\n",
    "                flat_one_info['in_house'] = [' '.join(value)]\n",
    "            elif label == 'Двор':\n",
    "                flat_one_info['backyard'] = [' '.join(value)]\n",
    "            elif label == 'Парковка':\n",
    "                flat_one_info['park'] = [' '.join(value) ]\n",
    "            flat_one_info['price'] = [int(flat_i.find('span', class_ = 'js-item-price')['content'])]\n",
    "        flat_one_info['address'] = [flat_i.find('span', class_ = 'item-address__string').text.strip()]\n",
    "        flat_one_info['flat_lat'] = [flat_i.find('div', class_ = 'b-search-map expanded item-map-wrapper js-item-map-wrapper')['data-map-lat']]\n",
    "        flat_one_info['flat_lon'] = [flat_i.find('div', class_ = 'b-search-map expanded item-map-wrapper js-item-map-wrapper')['data-map-lon']]\n",
    "        flat_one_info['link'] = [flat]\n",
    "        df = pd.DataFrame(flat_one_info)\n",
    "        res.append(df)\n",
    "        print(' ---------- done! ----------')\n",
    "        sleep(4.322 + np.random.normal(1,2,1)[0])  # добавляю зашумление времени \n",
    "    return pd.concat(res)"
   ]
  },
  {
   "cell_type": "code",
   "execution_count": 45,
   "metadata": {},
   "outputs": [
    {
     "name": "stdout",
     "output_type": "stream",
     "text": [
      "https://www.avito.ru/habarovsk/kvartiry/prodam/1-komnatnye/kirpichnyy_dom?q=гамарника&s=104\n",
      "Кажется, всё ок. Но вот на всякий случай код: 200\n",
      " ---------- done! ----------\n",
      " ---------- done! ----------\n",
      " ---------- done! ----------\n",
      " ---------- done! ----------\n",
      " ---------- done! ----------\n"
     ]
    }
   ],
   "source": [
    "res = get_similar_flats('Хабаровск', 'Гамарника', 1, 'Кирпичный')"
   ]
  },
  {
   "cell_type": "code",
   "execution_count": 49,
   "metadata": {},
   "outputs": [
    {
     "data": {
      "text/html": [
       "<div>\n",
       "<style scoped>\n",
       "    .dataframe tbody tr th:only-of-type {\n",
       "        vertical-align: middle;\n",
       "    }\n",
       "\n",
       "    .dataframe tbody tr th {\n",
       "        vertical-align: top;\n",
       "    }\n",
       "\n",
       "    .dataframe thead th {\n",
       "        text-align: right;\n",
       "    }\n",
       "</style>\n",
       "<table border=\"1\" class=\"dataframe\">\n",
       "  <thead>\n",
       "    <tr style=\"text-align: right;\">\n",
       "      <th></th>\n",
       "      <th>floor</th>\n",
       "      <th>all_floors</th>\n",
       "      <th>rooms</th>\n",
       "      <th>all_square</th>\n",
       "      <th>live_square</th>\n",
       "      <th>kitch_square</th>\n",
       "      <th>tall</th>\n",
       "      <th>repair</th>\n",
       "      <th>bathroom</th>\n",
       "      <th>balcony</th>\n",
       "      <th>...</th>\n",
       "      <th>how_grz_lift</th>\n",
       "      <th>in_house</th>\n",
       "      <th>backyard</th>\n",
       "      <th>park</th>\n",
       "      <th>flat_lat</th>\n",
       "      <th>flat_lon</th>\n",
       "      <th>address</th>\n",
       "      <th>price</th>\n",
       "      <th>link</th>\n",
       "      <th>kitchen_square</th>\n",
       "    </tr>\n",
       "  </thead>\n",
       "  <tbody>\n",
       "    <tr>\n",
       "      <th>0</th>\n",
       "      <td>7</td>\n",
       "      <td>16</td>\n",
       "      <td>1</td>\n",
       "      <td>38</td>\n",
       "      <td>None</td>\n",
       "      <td>None</td>\n",
       "      <td>None</td>\n",
       "      <td>евро</td>\n",
       "      <td>совмещенный</td>\n",
       "      <td>балкон</td>\n",
       "      <td>...</td>\n",
       "      <td>1</td>\n",
       "      <td>None</td>\n",
       "      <td>закрытая территория, детская площадка, спортив...</td>\n",
       "      <td>за шлагбаумом во дворе</td>\n",
       "      <td>48.469536</td>\n",
       "      <td>135.076569</td>\n",
       "      <td>Хабаровский край, Хабаровск, ул. Гамарника, 8</td>\n",
       "      <td>6600000</td>\n",
       "      <td>https://www.avito.ru/habarovsk/kvartiry/1-k._k...</td>\n",
       "      <td>NaN</td>\n",
       "    </tr>\n",
       "    <tr>\n",
       "      <th>0</th>\n",
       "      <td>13</td>\n",
       "      <td>22</td>\n",
       "      <td>1</td>\n",
       "      <td>55.5</td>\n",
       "      <td>17</td>\n",
       "      <td>None</td>\n",
       "      <td>None</td>\n",
       "      <td>требует</td>\n",
       "      <td>совмещенный</td>\n",
       "      <td>лоджия</td>\n",
       "      <td>...</td>\n",
       "      <td>2</td>\n",
       "      <td>консьерж</td>\n",
       "      <td>закрытая территория, детская площадка</td>\n",
       "      <td>None</td>\n",
       "      <td>48.474764</td>\n",
       "      <td>135.084727</td>\n",
       "      <td>Хабаровский край, Хабаровск, ул. Гамарника, 64</td>\n",
       "      <td>7000000</td>\n",
       "      <td>https://www.avito.ru/habarovsk/kvartiry/1-k._k...</td>\n",
       "      <td>23</td>\n",
       "    </tr>\n",
       "    <tr>\n",
       "      <th>0</th>\n",
       "      <td>10</td>\n",
       "      <td>10</td>\n",
       "      <td>1</td>\n",
       "      <td>36.4</td>\n",
       "      <td>9</td>\n",
       "      <td>None</td>\n",
       "      <td>3</td>\n",
       "      <td>None</td>\n",
       "      <td>None</td>\n",
       "      <td>лоджия</td>\n",
       "      <td>...</td>\n",
       "      <td>None</td>\n",
       "      <td>None</td>\n",
       "      <td>закрытая территория, детская площадка</td>\n",
       "      <td>за шлагбаумом во дворе</td>\n",
       "      <td>48.467566</td>\n",
       "      <td>135.078942</td>\n",
       "      <td>Хабаровск, переулок Дзержинского, 13</td>\n",
       "      <td>6200000</td>\n",
       "      <td>https://www.avito.ru/habarovsk/kvartiry/1-k._k...</td>\n",
       "      <td>NaN</td>\n",
       "    </tr>\n",
       "    <tr>\n",
       "      <th>0</th>\n",
       "      <td>2</td>\n",
       "      <td>5</td>\n",
       "      <td>1</td>\n",
       "      <td>30.9</td>\n",
       "      <td>None</td>\n",
       "      <td>None</td>\n",
       "      <td>None</td>\n",
       "      <td>None</td>\n",
       "      <td>совмещенный</td>\n",
       "      <td>нет</td>\n",
       "      <td>...</td>\n",
       "      <td>None</td>\n",
       "      <td>None</td>\n",
       "      <td>None</td>\n",
       "      <td>None</td>\n",
       "      <td>48.478199</td>\n",
       "      <td>135.088158</td>\n",
       "      <td>Хабаровский край, Хабаровск, ул. Гамарника, 49</td>\n",
       "      <td>4300000</td>\n",
       "      <td>https://www.avito.ru/habarovsk/kvartiry/1-k._k...</td>\n",
       "      <td>NaN</td>\n",
       "    </tr>\n",
       "    <tr>\n",
       "      <th>0</th>\n",
       "      <td>4</td>\n",
       "      <td>5</td>\n",
       "      <td>1</td>\n",
       "      <td>30.4</td>\n",
       "      <td>6.1</td>\n",
       "      <td>None</td>\n",
       "      <td>None</td>\n",
       "      <td>евро</td>\n",
       "      <td>совмещенный</td>\n",
       "      <td>балкон</td>\n",
       "      <td>...</td>\n",
       "      <td>None</td>\n",
       "      <td>None</td>\n",
       "      <td>None</td>\n",
       "      <td>открытая во дворе</td>\n",
       "      <td>48.470099</td>\n",
       "      <td>135.074818</td>\n",
       "      <td>Хабаровский край, Хабаровск, ул. Гамарника, 15А</td>\n",
       "      <td>5670000</td>\n",
       "      <td>https://www.avito.ru/habarovsk/kvartiry/1-k._k...</td>\n",
       "      <td>13</td>\n",
       "    </tr>\n",
       "  </tbody>\n",
       "</table>\n",
       "<p>5 rows × 25 columns</p>\n",
       "</div>"
      ],
      "text/plain": [
       "  floor all_floors rooms all_square live_square kitch_square  tall   repair  \\\n",
       "0     7         16     1         38        None         None  None     евро   \n",
       "0    13         22     1       55.5          17         None  None  требует   \n",
       "0    10         10     1       36.4           9         None     3     None   \n",
       "0     2          5     1       30.9        None         None  None     None   \n",
       "0     4          5     1       30.4         6.1         None  None     евро   \n",
       "\n",
       "      bathroom balcony  ... how_grz_lift  in_house  \\\n",
       "0  совмещенный  балкон  ...            1      None   \n",
       "0  совмещенный  лоджия  ...            2  консьерж   \n",
       "0         None  лоджия  ...         None      None   \n",
       "0  совмещенный     нет  ...         None      None   \n",
       "0  совмещенный  балкон  ...         None      None   \n",
       "\n",
       "                                            backyard                    park  \\\n",
       "0  закрытая территория, детская площадка, спортив...  за шлагбаумом во дворе   \n",
       "0              закрытая территория, детская площадка                    None   \n",
       "0              закрытая территория, детская площадка  за шлагбаумом во дворе   \n",
       "0                                               None                    None   \n",
       "0                                               None       открытая во дворе   \n",
       "\n",
       "    flat_lat    flat_lon                                          address  \\\n",
       "0  48.469536  135.076569    Хабаровский край, Хабаровск, ул. Гамарника, 8   \n",
       "0  48.474764  135.084727   Хабаровский край, Хабаровск, ул. Гамарника, 64   \n",
       "0  48.467566  135.078942             Хабаровск, переулок Дзержинского, 13   \n",
       "0  48.478199  135.088158   Хабаровский край, Хабаровск, ул. Гамарника, 49   \n",
       "0  48.470099  135.074818  Хабаровский край, Хабаровск, ул. Гамарника, 15А   \n",
       "\n",
       "     price                                               link kitchen_square  \n",
       "0  6600000  https://www.avito.ru/habarovsk/kvartiry/1-k._k...            NaN  \n",
       "0  7000000  https://www.avito.ru/habarovsk/kvartiry/1-k._k...             23  \n",
       "0  6200000  https://www.avito.ru/habarovsk/kvartiry/1-k._k...            NaN  \n",
       "0  4300000  https://www.avito.ru/habarovsk/kvartiry/1-k._k...            NaN  \n",
       "0  5670000  https://www.avito.ru/habarovsk/kvartiry/1-k._k...             13  \n",
       "\n",
       "[5 rows x 25 columns]"
      ]
     },
     "execution_count": 49,
     "metadata": {},
     "output_type": "execute_result"
    }
   ],
   "source": [
    "pd.concat(res)"
   ]
  },
  {
   "cell_type": "code",
   "execution_count": null,
   "metadata": {},
   "outputs": [],
   "source": []
  },
  {
   "cell_type": "code",
   "execution_count": null,
   "metadata": {},
   "outputs": [],
   "source": []
  },
  {
   "cell_type": "markdown",
   "metadata": {},
   "source": [
    "#### Получение координат из адреса по Гугл-картам"
   ]
  },
  {
   "cell_type": "code",
   "execution_count": 44,
   "metadata": {},
   "outputs": [],
   "source": [
    "url = 'https://www.google.com/maps/search/' + 'Пензенская обл, г Кузнецк, ул 60-летия ВЛКСМ, д 8'"
   ]
  },
  {
   "cell_type": "code",
   "execution_count": 47,
   "metadata": {},
   "outputs": [],
   "source": [
    "html_doc =  requests.get(url)\n",
    "\n",
    "# Первая страница поиска Авито\n",
    "soup = BeautifulSoup(html_doc.text, \"html.parser\")"
   ]
  },
  {
   "cell_type": "code",
   "execution_count": 88,
   "metadata": {},
   "outputs": [],
   "source": [
    "source_lat = float(str(soup).split('?center=')[1].split('&amp;')[0].split('%2C')[0])\n",
    "source_lon = float(str(soup).split('?center=')[1].split('&amp;')[0].split('%2C')[1])"
   ]
  },
  {
   "cell_type": "code",
   "execution_count": null,
   "metadata": {},
   "outputs": [],
   "source": []
  },
  {
   "cell_type": "code",
   "execution_count": null,
   "metadata": {},
   "outputs": [],
   "source": []
  },
  {
   "cell_type": "code",
   "execution_count": null,
   "metadata": {},
   "outputs": [],
   "source": []
  },
  {
   "cell_type": "code",
   "execution_count": null,
   "metadata": {},
   "outputs": [],
   "source": []
  }
 ],
 "metadata": {
  "kernelspec": {
   "display_name": "Python 3",
   "language": "python",
   "name": "python3"
  },
  "language_info": {
   "codemirror_mode": {
    "name": "ipython",
    "version": 3
   },
   "file_extension": ".py",
   "mimetype": "text/x-python",
   "name": "python",
   "nbconvert_exporter": "python",
   "pygments_lexer": "ipython3",
   "version": "3.8.5"
  }
 },
 "nbformat": 4,
 "nbformat_minor": 4
}
